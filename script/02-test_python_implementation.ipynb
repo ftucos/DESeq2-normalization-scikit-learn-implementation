{
 "cells": [
  {
   "cell_type": "markdown",
   "id": "88403fe3",
   "metadata": {},
   "source": [
    "# Test DESeq2 normalization function"
   ]
  },
  {
   "cell_type": "code",
   "execution_count": 2,
   "id": "ca5eca18",
   "metadata": {},
   "outputs": [],
   "source": [
    "import os\n",
    "# set the working directory\n",
    "os.chdir(\"/Volumes/TucciSSD/Bioinformatics/workspace/other/DESeq2_counts_scaling\")\n",
    "\n",
    "import pandas as pd\n",
    "from src.deseq2_norm import DESeq2\n"
   ]
  },
  {
   "cell_type": "markdown",
   "id": "083e3a26",
   "metadata": {},
   "source": [
    "## Load Data"
   ]
  },
  {
   "cell_type": "code",
   "execution_count": 4,
   "id": "74886702",
   "metadata": {},
   "outputs": [
    {
     "data": {
      "application/vnd.microsoft.datawrangler.viewer.v0+json": {
       "columns": [
        {
         "name": "index",
         "rawType": "object",
         "type": "string"
        },
        {
         "name": "Gene1",
         "rawType": "int64",
         "type": "integer"
        },
        {
         "name": "Gene2",
         "rawType": "int64",
         "type": "integer"
        },
        {
         "name": "Gene3",
         "rawType": "int64",
         "type": "integer"
        },
        {
         "name": "Gene4",
         "rawType": "int64",
         "type": "integer"
        },
        {
         "name": "Gene5",
         "rawType": "int64",
         "type": "integer"
        },
        {
         "name": "Gene6",
         "rawType": "int64",
         "type": "integer"
        },
        {
         "name": "Gene7",
         "rawType": "int64",
         "type": "integer"
        },
        {
         "name": "Gene8",
         "rawType": "int64",
         "type": "integer"
        },
        {
         "name": "Gene9",
         "rawType": "int64",
         "type": "integer"
        },
        {
         "name": "Gene10",
         "rawType": "int64",
         "type": "integer"
        },
        {
         "name": "Gene11",
         "rawType": "int64",
         "type": "integer"
        },
        {
         "name": "Gene12",
         "rawType": "int64",
         "type": "integer"
        },
        {
         "name": "Gene13",
         "rawType": "int64",
         "type": "integer"
        },
        {
         "name": "Gene14",
         "rawType": "int64",
         "type": "integer"
        },
        {
         "name": "Gene15",
         "rawType": "int64",
         "type": "integer"
        },
        {
         "name": "Gene16",
         "rawType": "int64",
         "type": "integer"
        },
        {
         "name": "Gene17",
         "rawType": "int64",
         "type": "integer"
        },
        {
         "name": "Gene18",
         "rawType": "int64",
         "type": "integer"
        },
        {
         "name": "Gene19",
         "rawType": "int64",
         "type": "integer"
        },
        {
         "name": "Gene20",
         "rawType": "int64",
         "type": "integer"
        },
        {
         "name": "Gene21",
         "rawType": "int64",
         "type": "integer"
        },
        {
         "name": "Gene22",
         "rawType": "int64",
         "type": "integer"
        },
        {
         "name": "Gene23",
         "rawType": "int64",
         "type": "integer"
        },
        {
         "name": "Gene24",
         "rawType": "int64",
         "type": "integer"
        },
        {
         "name": "Gene25",
         "rawType": "int64",
         "type": "integer"
        },
        {
         "name": "Gene26",
         "rawType": "int64",
         "type": "integer"
        },
        {
         "name": "Gene27",
         "rawType": "int64",
         "type": "integer"
        },
        {
         "name": "Gene28",
         "rawType": "int64",
         "type": "integer"
        },
        {
         "name": "Gene29",
         "rawType": "int64",
         "type": "integer"
        },
        {
         "name": "Gene30",
         "rawType": "int64",
         "type": "integer"
        },
        {
         "name": "Gene31",
         "rawType": "int64",
         "type": "integer"
        },
        {
         "name": "Gene32",
         "rawType": "int64",
         "type": "integer"
        },
        {
         "name": "Gene33",
         "rawType": "int64",
         "type": "integer"
        },
        {
         "name": "Gene34",
         "rawType": "int64",
         "type": "integer"
        },
        {
         "name": "Gene35",
         "rawType": "int64",
         "type": "integer"
        },
        {
         "name": "Gene36",
         "rawType": "int64",
         "type": "integer"
        },
        {
         "name": "Gene37",
         "rawType": "int64",
         "type": "integer"
        },
        {
         "name": "Gene38",
         "rawType": "int64",
         "type": "integer"
        },
        {
         "name": "Gene39",
         "rawType": "int64",
         "type": "integer"
        },
        {
         "name": "Gene40",
         "rawType": "int64",
         "type": "integer"
        },
        {
         "name": "Gene41",
         "rawType": "int64",
         "type": "integer"
        },
        {
         "name": "Gene42",
         "rawType": "int64",
         "type": "integer"
        },
        {
         "name": "Gene43",
         "rawType": "int64",
         "type": "integer"
        },
        {
         "name": "Gene44",
         "rawType": "int64",
         "type": "integer"
        },
        {
         "name": "Gene45",
         "rawType": "int64",
         "type": "integer"
        },
        {
         "name": "Gene46",
         "rawType": "int64",
         "type": "integer"
        },
        {
         "name": "Gene47",
         "rawType": "int64",
         "type": "integer"
        },
        {
         "name": "Gene48",
         "rawType": "int64",
         "type": "integer"
        },
        {
         "name": "Gene49",
         "rawType": "int64",
         "type": "integer"
        },
        {
         "name": "Gene50",
         "rawType": "int64",
         "type": "integer"
        },
        {
         "name": "Gene51",
         "rawType": "int64",
         "type": "integer"
        },
        {
         "name": "Gene52",
         "rawType": "int64",
         "type": "integer"
        },
        {
         "name": "Gene53",
         "rawType": "int64",
         "type": "integer"
        },
        {
         "name": "Gene54",
         "rawType": "int64",
         "type": "integer"
        },
        {
         "name": "Gene55",
         "rawType": "int64",
         "type": "integer"
        },
        {
         "name": "Gene56",
         "rawType": "int64",
         "type": "integer"
        },
        {
         "name": "Gene57",
         "rawType": "int64",
         "type": "integer"
        },
        {
         "name": "Gene58",
         "rawType": "int64",
         "type": "integer"
        },
        {
         "name": "Gene59",
         "rawType": "int64",
         "type": "integer"
        },
        {
         "name": "Gene60",
         "rawType": "int64",
         "type": "integer"
        },
        {
         "name": "Gene61",
         "rawType": "int64",
         "type": "integer"
        },
        {
         "name": "Gene62",
         "rawType": "int64",
         "type": "integer"
        },
        {
         "name": "Gene63",
         "rawType": "int64",
         "type": "integer"
        },
        {
         "name": "Gene64",
         "rawType": "int64",
         "type": "integer"
        },
        {
         "name": "Gene65",
         "rawType": "int64",
         "type": "integer"
        },
        {
         "name": "Gene66",
         "rawType": "int64",
         "type": "integer"
        },
        {
         "name": "Gene67",
         "rawType": "int64",
         "type": "integer"
        },
        {
         "name": "Gene68",
         "rawType": "int64",
         "type": "integer"
        },
        {
         "name": "Gene69",
         "rawType": "int64",
         "type": "integer"
        },
        {
         "name": "Gene70",
         "rawType": "int64",
         "type": "integer"
        },
        {
         "name": "Gene71",
         "rawType": "int64",
         "type": "integer"
        },
        {
         "name": "Gene72",
         "rawType": "int64",
         "type": "integer"
        },
        {
         "name": "Gene73",
         "rawType": "int64",
         "type": "integer"
        },
        {
         "name": "Gene74",
         "rawType": "int64",
         "type": "integer"
        },
        {
         "name": "Gene75",
         "rawType": "int64",
         "type": "integer"
        },
        {
         "name": "Gene76",
         "rawType": "int64",
         "type": "integer"
        },
        {
         "name": "Gene77",
         "rawType": "int64",
         "type": "integer"
        },
        {
         "name": "Gene78",
         "rawType": "int64",
         "type": "integer"
        },
        {
         "name": "Gene79",
         "rawType": "int64",
         "type": "integer"
        },
        {
         "name": "Gene80",
         "rawType": "int64",
         "type": "integer"
        },
        {
         "name": "Gene81",
         "rawType": "int64",
         "type": "integer"
        },
        {
         "name": "Gene82",
         "rawType": "int64",
         "type": "integer"
        },
        {
         "name": "Gene83",
         "rawType": "int64",
         "type": "integer"
        },
        {
         "name": "Gene84",
         "rawType": "int64",
         "type": "integer"
        },
        {
         "name": "Gene85",
         "rawType": "int64",
         "type": "integer"
        },
        {
         "name": "Gene86",
         "rawType": "int64",
         "type": "integer"
        },
        {
         "name": "Gene87",
         "rawType": "int64",
         "type": "integer"
        },
        {
         "name": "Gene88",
         "rawType": "int64",
         "type": "integer"
        },
        {
         "name": "Gene89",
         "rawType": "int64",
         "type": "integer"
        },
        {
         "name": "Gene90",
         "rawType": "int64",
         "type": "integer"
        },
        {
         "name": "Gene91",
         "rawType": "int64",
         "type": "integer"
        },
        {
         "name": "Gene92",
         "rawType": "int64",
         "type": "integer"
        },
        {
         "name": "Gene93",
         "rawType": "int64",
         "type": "integer"
        },
        {
         "name": "Gene94",
         "rawType": "int64",
         "type": "integer"
        },
        {
         "name": "Gene95",
         "rawType": "int64",
         "type": "integer"
        },
        {
         "name": "Gene96",
         "rawType": "int64",
         "type": "integer"
        },
        {
         "name": "Gene97",
         "rawType": "int64",
         "type": "integer"
        },
        {
         "name": "Gene98",
         "rawType": "int64",
         "type": "integer"
        },
        {
         "name": "Gene99",
         "rawType": "int64",
         "type": "integer"
        },
        {
         "name": "Gene100",
         "rawType": "int64",
         "type": "integer"
        },
        {
         "name": "Gene101",
         "rawType": "int64",
         "type": "integer"
        },
        {
         "name": "Gene102",
         "rawType": "int64",
         "type": "integer"
        },
        {
         "name": "Gene103",
         "rawType": "int64",
         "type": "integer"
        },
        {
         "name": "Gene104",
         "rawType": "int64",
         "type": "integer"
        },
        {
         "name": "Gene105",
         "rawType": "int64",
         "type": "integer"
        },
        {
         "name": "Gene106",
         "rawType": "int64",
         "type": "integer"
        },
        {
         "name": "Gene107",
         "rawType": "int64",
         "type": "integer"
        },
        {
         "name": "Gene108",
         "rawType": "int64",
         "type": "integer"
        },
        {
         "name": "Gene109",
         "rawType": "int64",
         "type": "integer"
        },
        {
         "name": "Gene110",
         "rawType": "int64",
         "type": "integer"
        },
        {
         "name": "Gene111",
         "rawType": "int64",
         "type": "integer"
        },
        {
         "name": "Gene112",
         "rawType": "int64",
         "type": "integer"
        },
        {
         "name": "Gene113",
         "rawType": "int64",
         "type": "integer"
        },
        {
         "name": "Gene114",
         "rawType": "int64",
         "type": "integer"
        },
        {
         "name": "Gene115",
         "rawType": "int64",
         "type": "integer"
        },
        {
         "name": "Gene116",
         "rawType": "int64",
         "type": "integer"
        },
        {
         "name": "Gene117",
         "rawType": "int64",
         "type": "integer"
        },
        {
         "name": "Gene118",
         "rawType": "int64",
         "type": "integer"
        },
        {
         "name": "Gene119",
         "rawType": "int64",
         "type": "integer"
        },
        {
         "name": "Gene120",
         "rawType": "int64",
         "type": "integer"
        },
        {
         "name": "Gene121",
         "rawType": "int64",
         "type": "integer"
        },
        {
         "name": "Gene122",
         "rawType": "int64",
         "type": "integer"
        },
        {
         "name": "Gene123",
         "rawType": "int64",
         "type": "integer"
        },
        {
         "name": "Gene124",
         "rawType": "int64",
         "type": "integer"
        },
        {
         "name": "Gene125",
         "rawType": "int64",
         "type": "integer"
        },
        {
         "name": "Gene126",
         "rawType": "int64",
         "type": "integer"
        },
        {
         "name": "Gene127",
         "rawType": "int64",
         "type": "integer"
        },
        {
         "name": "Gene128",
         "rawType": "int64",
         "type": "integer"
        },
        {
         "name": "Gene129",
         "rawType": "int64",
         "type": "integer"
        },
        {
         "name": "Gene130",
         "rawType": "int64",
         "type": "integer"
        },
        {
         "name": "Gene131",
         "rawType": "int64",
         "type": "integer"
        },
        {
         "name": "Gene132",
         "rawType": "int64",
         "type": "integer"
        },
        {
         "name": "Gene133",
         "rawType": "int64",
         "type": "integer"
        },
        {
         "name": "Gene134",
         "rawType": "int64",
         "type": "integer"
        },
        {
         "name": "Gene135",
         "rawType": "int64",
         "type": "integer"
        },
        {
         "name": "Gene136",
         "rawType": "int64",
         "type": "integer"
        },
        {
         "name": "Gene137",
         "rawType": "int64",
         "type": "integer"
        },
        {
         "name": "Gene138",
         "rawType": "int64",
         "type": "integer"
        },
        {
         "name": "Gene139",
         "rawType": "int64",
         "type": "integer"
        },
        {
         "name": "Gene140",
         "rawType": "int64",
         "type": "integer"
        },
        {
         "name": "Gene141",
         "rawType": "int64",
         "type": "integer"
        },
        {
         "name": "Gene142",
         "rawType": "int64",
         "type": "integer"
        },
        {
         "name": "Gene143",
         "rawType": "int64",
         "type": "integer"
        },
        {
         "name": "Gene144",
         "rawType": "int64",
         "type": "integer"
        },
        {
         "name": "Gene145",
         "rawType": "int64",
         "type": "integer"
        },
        {
         "name": "Gene146",
         "rawType": "int64",
         "type": "integer"
        },
        {
         "name": "Gene147",
         "rawType": "int64",
         "type": "integer"
        },
        {
         "name": "Gene148",
         "rawType": "int64",
         "type": "integer"
        },
        {
         "name": "Gene149",
         "rawType": "int64",
         "type": "integer"
        },
        {
         "name": "Gene150",
         "rawType": "int64",
         "type": "integer"
        },
        {
         "name": "Gene151",
         "rawType": "int64",
         "type": "integer"
        },
        {
         "name": "Gene152",
         "rawType": "int64",
         "type": "integer"
        },
        {
         "name": "Gene153",
         "rawType": "int64",
         "type": "integer"
        },
        {
         "name": "Gene154",
         "rawType": "int64",
         "type": "integer"
        },
        {
         "name": "Gene155",
         "rawType": "int64",
         "type": "integer"
        },
        {
         "name": "Gene156",
         "rawType": "int64",
         "type": "integer"
        },
        {
         "name": "Gene157",
         "rawType": "int64",
         "type": "integer"
        },
        {
         "name": "Gene158",
         "rawType": "int64",
         "type": "integer"
        },
        {
         "name": "Gene159",
         "rawType": "int64",
         "type": "integer"
        },
        {
         "name": "Gene160",
         "rawType": "int64",
         "type": "integer"
        },
        {
         "name": "Gene161",
         "rawType": "int64",
         "type": "integer"
        },
        {
         "name": "Gene162",
         "rawType": "int64",
         "type": "integer"
        },
        {
         "name": "Gene163",
         "rawType": "int64",
         "type": "integer"
        },
        {
         "name": "Gene164",
         "rawType": "int64",
         "type": "integer"
        },
        {
         "name": "Gene165",
         "rawType": "int64",
         "type": "integer"
        },
        {
         "name": "Gene166",
         "rawType": "int64",
         "type": "integer"
        },
        {
         "name": "Gene167",
         "rawType": "int64",
         "type": "integer"
        },
        {
         "name": "Gene168",
         "rawType": "int64",
         "type": "integer"
        },
        {
         "name": "Gene169",
         "rawType": "int64",
         "type": "integer"
        },
        {
         "name": "Gene170",
         "rawType": "int64",
         "type": "integer"
        },
        {
         "name": "Gene171",
         "rawType": "int64",
         "type": "integer"
        },
        {
         "name": "Gene172",
         "rawType": "int64",
         "type": "integer"
        },
        {
         "name": "Gene173",
         "rawType": "int64",
         "type": "integer"
        },
        {
         "name": "Gene174",
         "rawType": "int64",
         "type": "integer"
        },
        {
         "name": "Gene175",
         "rawType": "int64",
         "type": "integer"
        },
        {
         "name": "Gene176",
         "rawType": "int64",
         "type": "integer"
        },
        {
         "name": "Gene177",
         "rawType": "int64",
         "type": "integer"
        },
        {
         "name": "Gene178",
         "rawType": "int64",
         "type": "integer"
        },
        {
         "name": "Gene179",
         "rawType": "int64",
         "type": "integer"
        },
        {
         "name": "Gene180",
         "rawType": "int64",
         "type": "integer"
        },
        {
         "name": "Gene181",
         "rawType": "int64",
         "type": "integer"
        },
        {
         "name": "Gene182",
         "rawType": "int64",
         "type": "integer"
        },
        {
         "name": "Gene183",
         "rawType": "int64",
         "type": "integer"
        },
        {
         "name": "Gene184",
         "rawType": "int64",
         "type": "integer"
        },
        {
         "name": "Gene185",
         "rawType": "int64",
         "type": "integer"
        },
        {
         "name": "Gene186",
         "rawType": "int64",
         "type": "integer"
        },
        {
         "name": "Gene187",
         "rawType": "int64",
         "type": "integer"
        },
        {
         "name": "Gene188",
         "rawType": "int64",
         "type": "integer"
        },
        {
         "name": "Gene189",
         "rawType": "int64",
         "type": "integer"
        },
        {
         "name": "Gene190",
         "rawType": "int64",
         "type": "integer"
        },
        {
         "name": "Gene191",
         "rawType": "int64",
         "type": "integer"
        },
        {
         "name": "Gene192",
         "rawType": "int64",
         "type": "integer"
        },
        {
         "name": "Gene193",
         "rawType": "int64",
         "type": "integer"
        },
        {
         "name": "Gene194",
         "rawType": "int64",
         "type": "integer"
        },
        {
         "name": "Gene195",
         "rawType": "int64",
         "type": "integer"
        },
        {
         "name": "Gene196",
         "rawType": "int64",
         "type": "integer"
        },
        {
         "name": "Gene197",
         "rawType": "int64",
         "type": "integer"
        },
        {
         "name": "Gene198",
         "rawType": "int64",
         "type": "integer"
        },
        {
         "name": "Gene199",
         "rawType": "int64",
         "type": "integer"
        },
        {
         "name": "Gene200",
         "rawType": "int64",
         "type": "integer"
        },
        {
         "name": "Gene201",
         "rawType": "int64",
         "type": "integer"
        },
        {
         "name": "Gene202",
         "rawType": "int64",
         "type": "integer"
        },
        {
         "name": "Gene203",
         "rawType": "int64",
         "type": "integer"
        },
        {
         "name": "Gene204",
         "rawType": "int64",
         "type": "integer"
        },
        {
         "name": "Gene205",
         "rawType": "int64",
         "type": "integer"
        },
        {
         "name": "Gene206",
         "rawType": "int64",
         "type": "integer"
        },
        {
         "name": "Gene207",
         "rawType": "int64",
         "type": "integer"
        },
        {
         "name": "Gene208",
         "rawType": "int64",
         "type": "integer"
        },
        {
         "name": "Gene209",
         "rawType": "int64",
         "type": "integer"
        },
        {
         "name": "Gene210",
         "rawType": "int64",
         "type": "integer"
        },
        {
         "name": "Gene211",
         "rawType": "int64",
         "type": "integer"
        },
        {
         "name": "Gene212",
         "rawType": "int64",
         "type": "integer"
        },
        {
         "name": "Gene213",
         "rawType": "int64",
         "type": "integer"
        },
        {
         "name": "Gene214",
         "rawType": "int64",
         "type": "integer"
        },
        {
         "name": "Gene215",
         "rawType": "int64",
         "type": "integer"
        },
        {
         "name": "Gene216",
         "rawType": "int64",
         "type": "integer"
        },
        {
         "name": "Gene217",
         "rawType": "int64",
         "type": "integer"
        },
        {
         "name": "Gene218",
         "rawType": "int64",
         "type": "integer"
        },
        {
         "name": "Gene219",
         "rawType": "int64",
         "type": "integer"
        },
        {
         "name": "Gene220",
         "rawType": "int64",
         "type": "integer"
        },
        {
         "name": "Gene221",
         "rawType": "int64",
         "type": "integer"
        },
        {
         "name": "Gene222",
         "rawType": "int64",
         "type": "integer"
        },
        {
         "name": "Gene223",
         "rawType": "int64",
         "type": "integer"
        },
        {
         "name": "Gene224",
         "rawType": "int64",
         "type": "integer"
        },
        {
         "name": "Gene225",
         "rawType": "int64",
         "type": "integer"
        },
        {
         "name": "Gene226",
         "rawType": "int64",
         "type": "integer"
        },
        {
         "name": "Gene227",
         "rawType": "int64",
         "type": "integer"
        },
        {
         "name": "Gene228",
         "rawType": "int64",
         "type": "integer"
        },
        {
         "name": "Gene229",
         "rawType": "int64",
         "type": "integer"
        },
        {
         "name": "Gene230",
         "rawType": "int64",
         "type": "integer"
        },
        {
         "name": "Gene231",
         "rawType": "int64",
         "type": "integer"
        },
        {
         "name": "Gene232",
         "rawType": "int64",
         "type": "integer"
        },
        {
         "name": "Gene233",
         "rawType": "int64",
         "type": "integer"
        },
        {
         "name": "Gene234",
         "rawType": "int64",
         "type": "integer"
        },
        {
         "name": "Gene235",
         "rawType": "int64",
         "type": "integer"
        },
        {
         "name": "Gene236",
         "rawType": "int64",
         "type": "integer"
        },
        {
         "name": "Gene237",
         "rawType": "int64",
         "type": "integer"
        },
        {
         "name": "Gene238",
         "rawType": "int64",
         "type": "integer"
        },
        {
         "name": "Gene239",
         "rawType": "int64",
         "type": "integer"
        },
        {
         "name": "Gene240",
         "rawType": "int64",
         "type": "integer"
        },
        {
         "name": "Gene241",
         "rawType": "int64",
         "type": "integer"
        },
        {
         "name": "Gene242",
         "rawType": "int64",
         "type": "integer"
        },
        {
         "name": "Gene243",
         "rawType": "int64",
         "type": "integer"
        },
        {
         "name": "Gene244",
         "rawType": "int64",
         "type": "integer"
        },
        {
         "name": "Gene245",
         "rawType": "int64",
         "type": "integer"
        },
        {
         "name": "Gene246",
         "rawType": "int64",
         "type": "integer"
        },
        {
         "name": "Gene247",
         "rawType": "int64",
         "type": "integer"
        },
        {
         "name": "Gene248",
         "rawType": "int64",
         "type": "integer"
        },
        {
         "name": "Gene249",
         "rawType": "int64",
         "type": "integer"
        },
        {
         "name": "Gene250",
         "rawType": "int64",
         "type": "integer"
        },
        {
         "name": "Gene251",
         "rawType": "int64",
         "type": "integer"
        },
        {
         "name": "Gene252",
         "rawType": "int64",
         "type": "integer"
        },
        {
         "name": "Gene253",
         "rawType": "int64",
         "type": "integer"
        },
        {
         "name": "Gene254",
         "rawType": "int64",
         "type": "integer"
        },
        {
         "name": "Gene255",
         "rawType": "int64",
         "type": "integer"
        },
        {
         "name": "Gene256",
         "rawType": "int64",
         "type": "integer"
        },
        {
         "name": "Gene257",
         "rawType": "int64",
         "type": "integer"
        },
        {
         "name": "Gene258",
         "rawType": "int64",
         "type": "integer"
        },
        {
         "name": "Gene259",
         "rawType": "int64",
         "type": "integer"
        },
        {
         "name": "Gene260",
         "rawType": "int64",
         "type": "integer"
        },
        {
         "name": "Gene261",
         "rawType": "int64",
         "type": "integer"
        },
        {
         "name": "Gene262",
         "rawType": "int64",
         "type": "integer"
        },
        {
         "name": "Gene263",
         "rawType": "int64",
         "type": "integer"
        },
        {
         "name": "Gene264",
         "rawType": "int64",
         "type": "integer"
        },
        {
         "name": "Gene265",
         "rawType": "int64",
         "type": "integer"
        },
        {
         "name": "Gene266",
         "rawType": "int64",
         "type": "integer"
        },
        {
         "name": "Gene267",
         "rawType": "int64",
         "type": "integer"
        },
        {
         "name": "Gene268",
         "rawType": "int64",
         "type": "integer"
        },
        {
         "name": "Gene269",
         "rawType": "int64",
         "type": "integer"
        },
        {
         "name": "Gene270",
         "rawType": "int64",
         "type": "integer"
        },
        {
         "name": "Gene271",
         "rawType": "int64",
         "type": "integer"
        },
        {
         "name": "Gene272",
         "rawType": "int64",
         "type": "integer"
        },
        {
         "name": "Gene273",
         "rawType": "int64",
         "type": "integer"
        },
        {
         "name": "Gene274",
         "rawType": "int64",
         "type": "integer"
        },
        {
         "name": "Gene275",
         "rawType": "int64",
         "type": "integer"
        },
        {
         "name": "Gene276",
         "rawType": "int64",
         "type": "integer"
        },
        {
         "name": "Gene277",
         "rawType": "int64",
         "type": "integer"
        },
        {
         "name": "Gene278",
         "rawType": "int64",
         "type": "integer"
        },
        {
         "name": "Gene279",
         "rawType": "int64",
         "type": "integer"
        },
        {
         "name": "Gene280",
         "rawType": "int64",
         "type": "integer"
        },
        {
         "name": "Gene281",
         "rawType": "int64",
         "type": "integer"
        },
        {
         "name": "Gene282",
         "rawType": "int64",
         "type": "integer"
        },
        {
         "name": "Gene283",
         "rawType": "int64",
         "type": "integer"
        },
        {
         "name": "Gene284",
         "rawType": "int64",
         "type": "integer"
        },
        {
         "name": "Gene285",
         "rawType": "int64",
         "type": "integer"
        },
        {
         "name": "Gene286",
         "rawType": "int64",
         "type": "integer"
        },
        {
         "name": "Gene287",
         "rawType": "int64",
         "type": "integer"
        },
        {
         "name": "Gene288",
         "rawType": "int64",
         "type": "integer"
        },
        {
         "name": "Gene289",
         "rawType": "int64",
         "type": "integer"
        },
        {
         "name": "Gene290",
         "rawType": "int64",
         "type": "integer"
        },
        {
         "name": "Gene291",
         "rawType": "int64",
         "type": "integer"
        },
        {
         "name": "Gene292",
         "rawType": "int64",
         "type": "integer"
        },
        {
         "name": "Gene293",
         "rawType": "int64",
         "type": "integer"
        },
        {
         "name": "Gene294",
         "rawType": "int64",
         "type": "integer"
        },
        {
         "name": "Gene295",
         "rawType": "int64",
         "type": "integer"
        },
        {
         "name": "Gene296",
         "rawType": "int64",
         "type": "integer"
        },
        {
         "name": "Gene297",
         "rawType": "int64",
         "type": "integer"
        },
        {
         "name": "Gene298",
         "rawType": "int64",
         "type": "integer"
        },
        {
         "name": "Gene299",
         "rawType": "int64",
         "type": "integer"
        },
        {
         "name": "Gene300",
         "rawType": "int64",
         "type": "integer"
        },
        {
         "name": "Gene301",
         "rawType": "int64",
         "type": "integer"
        },
        {
         "name": "Gene302",
         "rawType": "int64",
         "type": "integer"
        },
        {
         "name": "Gene303",
         "rawType": "int64",
         "type": "integer"
        },
        {
         "name": "Gene304",
         "rawType": "int64",
         "type": "integer"
        },
        {
         "name": "Gene305",
         "rawType": "int64",
         "type": "integer"
        },
        {
         "name": "Gene306",
         "rawType": "int64",
         "type": "integer"
        },
        {
         "name": "Gene307",
         "rawType": "int64",
         "type": "integer"
        },
        {
         "name": "Gene308",
         "rawType": "int64",
         "type": "integer"
        },
        {
         "name": "Gene309",
         "rawType": "int64",
         "type": "integer"
        },
        {
         "name": "Gene310",
         "rawType": "int64",
         "type": "integer"
        },
        {
         "name": "Gene311",
         "rawType": "int64",
         "type": "integer"
        },
        {
         "name": "Gene312",
         "rawType": "int64",
         "type": "integer"
        },
        {
         "name": "Gene313",
         "rawType": "int64",
         "type": "integer"
        },
        {
         "name": "Gene314",
         "rawType": "int64",
         "type": "integer"
        },
        {
         "name": "Gene315",
         "rawType": "int64",
         "type": "integer"
        },
        {
         "name": "Gene316",
         "rawType": "int64",
         "type": "integer"
        },
        {
         "name": "Gene317",
         "rawType": "int64",
         "type": "integer"
        },
        {
         "name": "Gene318",
         "rawType": "int64",
         "type": "integer"
        },
        {
         "name": "Gene319",
         "rawType": "int64",
         "type": "integer"
        },
        {
         "name": "Gene320",
         "rawType": "int64",
         "type": "integer"
        },
        {
         "name": "Gene321",
         "rawType": "int64",
         "type": "integer"
        },
        {
         "name": "Gene322",
         "rawType": "int64",
         "type": "integer"
        },
        {
         "name": "Gene323",
         "rawType": "int64",
         "type": "integer"
        },
        {
         "name": "Gene324",
         "rawType": "int64",
         "type": "integer"
        },
        {
         "name": "Gene325",
         "rawType": "int64",
         "type": "integer"
        },
        {
         "name": "Gene326",
         "rawType": "int64",
         "type": "integer"
        },
        {
         "name": "Gene327",
         "rawType": "int64",
         "type": "integer"
        },
        {
         "name": "Gene328",
         "rawType": "int64",
         "type": "integer"
        },
        {
         "name": "Gene329",
         "rawType": "int64",
         "type": "integer"
        },
        {
         "name": "Gene330",
         "rawType": "int64",
         "type": "integer"
        },
        {
         "name": "Gene331",
         "rawType": "int64",
         "type": "integer"
        },
        {
         "name": "Gene332",
         "rawType": "int64",
         "type": "integer"
        },
        {
         "name": "Gene333",
         "rawType": "int64",
         "type": "integer"
        },
        {
         "name": "Gene334",
         "rawType": "int64",
         "type": "integer"
        },
        {
         "name": "Gene335",
         "rawType": "int64",
         "type": "integer"
        },
        {
         "name": "Gene336",
         "rawType": "int64",
         "type": "integer"
        },
        {
         "name": "Gene337",
         "rawType": "int64",
         "type": "integer"
        },
        {
         "name": "Gene338",
         "rawType": "int64",
         "type": "integer"
        },
        {
         "name": "Gene339",
         "rawType": "int64",
         "type": "integer"
        },
        {
         "name": "Gene340",
         "rawType": "int64",
         "type": "integer"
        },
        {
         "name": "Gene341",
         "rawType": "int64",
         "type": "integer"
        },
        {
         "name": "Gene342",
         "rawType": "int64",
         "type": "integer"
        },
        {
         "name": "Gene343",
         "rawType": "int64",
         "type": "integer"
        },
        {
         "name": "Gene344",
         "rawType": "int64",
         "type": "integer"
        },
        {
         "name": "Gene345",
         "rawType": "int64",
         "type": "integer"
        },
        {
         "name": "Gene346",
         "rawType": "int64",
         "type": "integer"
        },
        {
         "name": "Gene347",
         "rawType": "int64",
         "type": "integer"
        },
        {
         "name": "Gene348",
         "rawType": "int64",
         "type": "integer"
        },
        {
         "name": "Gene349",
         "rawType": "int64",
         "type": "integer"
        },
        {
         "name": "Gene350",
         "rawType": "int64",
         "type": "integer"
        },
        {
         "name": "Gene351",
         "rawType": "int64",
         "type": "integer"
        },
        {
         "name": "Gene352",
         "rawType": "int64",
         "type": "integer"
        },
        {
         "name": "Gene353",
         "rawType": "int64",
         "type": "integer"
        },
        {
         "name": "Gene354",
         "rawType": "int64",
         "type": "integer"
        },
        {
         "name": "Gene355",
         "rawType": "int64",
         "type": "integer"
        },
        {
         "name": "Gene356",
         "rawType": "int64",
         "type": "integer"
        },
        {
         "name": "Gene357",
         "rawType": "int64",
         "type": "integer"
        },
        {
         "name": "Gene358",
         "rawType": "int64",
         "type": "integer"
        },
        {
         "name": "Gene359",
         "rawType": "int64",
         "type": "integer"
        },
        {
         "name": "Gene360",
         "rawType": "int64",
         "type": "integer"
        },
        {
         "name": "Gene361",
         "rawType": "int64",
         "type": "integer"
        },
        {
         "name": "Gene362",
         "rawType": "int64",
         "type": "integer"
        },
        {
         "name": "Gene363",
         "rawType": "int64",
         "type": "integer"
        },
        {
         "name": "Gene364",
         "rawType": "int64",
         "type": "integer"
        },
        {
         "name": "Gene365",
         "rawType": "int64",
         "type": "integer"
        },
        {
         "name": "Gene366",
         "rawType": "int64",
         "type": "integer"
        },
        {
         "name": "Gene367",
         "rawType": "int64",
         "type": "integer"
        },
        {
         "name": "Gene368",
         "rawType": "int64",
         "type": "integer"
        },
        {
         "name": "Gene369",
         "rawType": "int64",
         "type": "integer"
        },
        {
         "name": "Gene370",
         "rawType": "int64",
         "type": "integer"
        },
        {
         "name": "Gene371",
         "rawType": "int64",
         "type": "integer"
        },
        {
         "name": "Gene372",
         "rawType": "int64",
         "type": "integer"
        },
        {
         "name": "Gene373",
         "rawType": "int64",
         "type": "integer"
        },
        {
         "name": "Gene374",
         "rawType": "int64",
         "type": "integer"
        },
        {
         "name": "Gene375",
         "rawType": "int64",
         "type": "integer"
        },
        {
         "name": "Gene376",
         "rawType": "int64",
         "type": "integer"
        },
        {
         "name": "Gene377",
         "rawType": "int64",
         "type": "integer"
        },
        {
         "name": "Gene378",
         "rawType": "int64",
         "type": "integer"
        },
        {
         "name": "Gene379",
         "rawType": "int64",
         "type": "integer"
        },
        {
         "name": "Gene380",
         "rawType": "int64",
         "type": "integer"
        },
        {
         "name": "Gene381",
         "rawType": "int64",
         "type": "integer"
        },
        {
         "name": "Gene382",
         "rawType": "int64",
         "type": "integer"
        },
        {
         "name": "Gene383",
         "rawType": "int64",
         "type": "integer"
        },
        {
         "name": "Gene384",
         "rawType": "int64",
         "type": "integer"
        },
        {
         "name": "Gene385",
         "rawType": "int64",
         "type": "integer"
        },
        {
         "name": "Gene386",
         "rawType": "int64",
         "type": "integer"
        },
        {
         "name": "Gene387",
         "rawType": "int64",
         "type": "integer"
        },
        {
         "name": "Gene388",
         "rawType": "int64",
         "type": "integer"
        },
        {
         "name": "Gene389",
         "rawType": "int64",
         "type": "integer"
        },
        {
         "name": "Gene390",
         "rawType": "int64",
         "type": "integer"
        },
        {
         "name": "Gene391",
         "rawType": "int64",
         "type": "integer"
        },
        {
         "name": "Gene392",
         "rawType": "int64",
         "type": "integer"
        },
        {
         "name": "Gene393",
         "rawType": "int64",
         "type": "integer"
        },
        {
         "name": "Gene394",
         "rawType": "int64",
         "type": "integer"
        },
        {
         "name": "Gene395",
         "rawType": "int64",
         "type": "integer"
        },
        {
         "name": "Gene396",
         "rawType": "int64",
         "type": "integer"
        },
        {
         "name": "Gene397",
         "rawType": "int64",
         "type": "integer"
        },
        {
         "name": "Gene398",
         "rawType": "int64",
         "type": "integer"
        },
        {
         "name": "Gene399",
         "rawType": "int64",
         "type": "integer"
        },
        {
         "name": "Gene400",
         "rawType": "int64",
         "type": "integer"
        },
        {
         "name": "Gene401",
         "rawType": "int64",
         "type": "integer"
        },
        {
         "name": "Gene402",
         "rawType": "int64",
         "type": "integer"
        },
        {
         "name": "Gene403",
         "rawType": "int64",
         "type": "integer"
        },
        {
         "name": "Gene404",
         "rawType": "int64",
         "type": "integer"
        },
        {
         "name": "Gene405",
         "rawType": "int64",
         "type": "integer"
        },
        {
         "name": "Gene406",
         "rawType": "int64",
         "type": "integer"
        },
        {
         "name": "Gene407",
         "rawType": "int64",
         "type": "integer"
        },
        {
         "name": "Gene408",
         "rawType": "int64",
         "type": "integer"
        },
        {
         "name": "Gene409",
         "rawType": "int64",
         "type": "integer"
        },
        {
         "name": "Gene410",
         "rawType": "int64",
         "type": "integer"
        },
        {
         "name": "Gene411",
         "rawType": "int64",
         "type": "integer"
        },
        {
         "name": "Gene412",
         "rawType": "int64",
         "type": "integer"
        },
        {
         "name": "Gene413",
         "rawType": "int64",
         "type": "integer"
        },
        {
         "name": "Gene414",
         "rawType": "int64",
         "type": "integer"
        },
        {
         "name": "Gene415",
         "rawType": "int64",
         "type": "integer"
        },
        {
         "name": "Gene416",
         "rawType": "int64",
         "type": "integer"
        },
        {
         "name": "Gene417",
         "rawType": "int64",
         "type": "integer"
        },
        {
         "name": "Gene418",
         "rawType": "int64",
         "type": "integer"
        },
        {
         "name": "Gene419",
         "rawType": "int64",
         "type": "integer"
        },
        {
         "name": "Gene420",
         "rawType": "int64",
         "type": "integer"
        },
        {
         "name": "Gene421",
         "rawType": "int64",
         "type": "integer"
        },
        {
         "name": "Gene422",
         "rawType": "int64",
         "type": "integer"
        },
        {
         "name": "Gene423",
         "rawType": "int64",
         "type": "integer"
        },
        {
         "name": "Gene424",
         "rawType": "int64",
         "type": "integer"
        },
        {
         "name": "Gene425",
         "rawType": "int64",
         "type": "integer"
        },
        {
         "name": "Gene426",
         "rawType": "int64",
         "type": "integer"
        },
        {
         "name": "Gene427",
         "rawType": "int64",
         "type": "integer"
        },
        {
         "name": "Gene428",
         "rawType": "int64",
         "type": "integer"
        },
        {
         "name": "Gene429",
         "rawType": "int64",
         "type": "integer"
        },
        {
         "name": "Gene430",
         "rawType": "int64",
         "type": "integer"
        },
        {
         "name": "Gene431",
         "rawType": "int64",
         "type": "integer"
        },
        {
         "name": "Gene432",
         "rawType": "int64",
         "type": "integer"
        },
        {
         "name": "Gene433",
         "rawType": "int64",
         "type": "integer"
        },
        {
         "name": "Gene434",
         "rawType": "int64",
         "type": "integer"
        },
        {
         "name": "Gene435",
         "rawType": "int64",
         "type": "integer"
        },
        {
         "name": "Gene436",
         "rawType": "int64",
         "type": "integer"
        },
        {
         "name": "Gene437",
         "rawType": "int64",
         "type": "integer"
        },
        {
         "name": "Gene438",
         "rawType": "int64",
         "type": "integer"
        },
        {
         "name": "Gene439",
         "rawType": "int64",
         "type": "integer"
        },
        {
         "name": "Gene440",
         "rawType": "int64",
         "type": "integer"
        },
        {
         "name": "Gene441",
         "rawType": "int64",
         "type": "integer"
        },
        {
         "name": "Gene442",
         "rawType": "int64",
         "type": "integer"
        },
        {
         "name": "Gene443",
         "rawType": "int64",
         "type": "integer"
        },
        {
         "name": "Gene444",
         "rawType": "int64",
         "type": "integer"
        },
        {
         "name": "Gene445",
         "rawType": "int64",
         "type": "integer"
        },
        {
         "name": "Gene446",
         "rawType": "int64",
         "type": "integer"
        },
        {
         "name": "Gene447",
         "rawType": "int64",
         "type": "integer"
        },
        {
         "name": "Gene448",
         "rawType": "int64",
         "type": "integer"
        },
        {
         "name": "Gene449",
         "rawType": "int64",
         "type": "integer"
        },
        {
         "name": "Gene450",
         "rawType": "int64",
         "type": "integer"
        },
        {
         "name": "Gene451",
         "rawType": "int64",
         "type": "integer"
        },
        {
         "name": "Gene452",
         "rawType": "int64",
         "type": "integer"
        },
        {
         "name": "Gene453",
         "rawType": "int64",
         "type": "integer"
        },
        {
         "name": "Gene454",
         "rawType": "int64",
         "type": "integer"
        },
        {
         "name": "Gene455",
         "rawType": "int64",
         "type": "integer"
        },
        {
         "name": "Gene456",
         "rawType": "int64",
         "type": "integer"
        },
        {
         "name": "Gene457",
         "rawType": "int64",
         "type": "integer"
        },
        {
         "name": "Gene458",
         "rawType": "int64",
         "type": "integer"
        },
        {
         "name": "Gene459",
         "rawType": "int64",
         "type": "integer"
        },
        {
         "name": "Gene460",
         "rawType": "int64",
         "type": "integer"
        },
        {
         "name": "Gene461",
         "rawType": "int64",
         "type": "integer"
        },
        {
         "name": "Gene462",
         "rawType": "int64",
         "type": "integer"
        },
        {
         "name": "Gene463",
         "rawType": "int64",
         "type": "integer"
        },
        {
         "name": "Gene464",
         "rawType": "int64",
         "type": "integer"
        },
        {
         "name": "Gene465",
         "rawType": "int64",
         "type": "integer"
        },
        {
         "name": "Gene466",
         "rawType": "int64",
         "type": "integer"
        },
        {
         "name": "Gene467",
         "rawType": "int64",
         "type": "integer"
        },
        {
         "name": "Gene468",
         "rawType": "int64",
         "type": "integer"
        },
        {
         "name": "Gene469",
         "rawType": "int64",
         "type": "integer"
        },
        {
         "name": "Gene470",
         "rawType": "int64",
         "type": "integer"
        },
        {
         "name": "Gene471",
         "rawType": "int64",
         "type": "integer"
        },
        {
         "name": "Gene472",
         "rawType": "int64",
         "type": "integer"
        },
        {
         "name": "Gene473",
         "rawType": "int64",
         "type": "integer"
        },
        {
         "name": "Gene474",
         "rawType": "int64",
         "type": "integer"
        },
        {
         "name": "Gene475",
         "rawType": "int64",
         "type": "integer"
        },
        {
         "name": "Gene476",
         "rawType": "int64",
         "type": "integer"
        },
        {
         "name": "Gene477",
         "rawType": "int64",
         "type": "integer"
        },
        {
         "name": "Gene478",
         "rawType": "int64",
         "type": "integer"
        },
        {
         "name": "Gene479",
         "rawType": "int64",
         "type": "integer"
        },
        {
         "name": "Gene480",
         "rawType": "int64",
         "type": "integer"
        },
        {
         "name": "Gene481",
         "rawType": "int64",
         "type": "integer"
        },
        {
         "name": "Gene482",
         "rawType": "int64",
         "type": "integer"
        },
        {
         "name": "Gene483",
         "rawType": "int64",
         "type": "integer"
        },
        {
         "name": "Gene484",
         "rawType": "int64",
         "type": "integer"
        },
        {
         "name": "Gene485",
         "rawType": "int64",
         "type": "integer"
        },
        {
         "name": "Gene486",
         "rawType": "int64",
         "type": "integer"
        },
        {
         "name": "Gene487",
         "rawType": "int64",
         "type": "integer"
        },
        {
         "name": "Gene488",
         "rawType": "int64",
         "type": "integer"
        },
        {
         "name": "Gene489",
         "rawType": "int64",
         "type": "integer"
        },
        {
         "name": "Gene490",
         "rawType": "int64",
         "type": "integer"
        },
        {
         "name": "Gene491",
         "rawType": "int64",
         "type": "integer"
        },
        {
         "name": "Gene492",
         "rawType": "int64",
         "type": "integer"
        },
        {
         "name": "Gene493",
         "rawType": "int64",
         "type": "integer"
        },
        {
         "name": "Gene494",
         "rawType": "int64",
         "type": "integer"
        },
        {
         "name": "Gene495",
         "rawType": "int64",
         "type": "integer"
        },
        {
         "name": "Gene496",
         "rawType": "int64",
         "type": "integer"
        },
        {
         "name": "Gene497",
         "rawType": "int64",
         "type": "integer"
        },
        {
         "name": "Gene498",
         "rawType": "int64",
         "type": "integer"
        },
        {
         "name": "Gene499",
         "rawType": "int64",
         "type": "integer"
        },
        {
         "name": "Gene500",
         "rawType": "int64",
         "type": "integer"
        },
        {
         "name": "Gene501",
         "rawType": "int64",
         "type": "integer"
        },
        {
         "name": "Gene502",
         "rawType": "int64",
         "type": "integer"
        },
        {
         "name": "Gene503",
         "rawType": "int64",
         "type": "integer"
        },
        {
         "name": "Gene504",
         "rawType": "int64",
         "type": "integer"
        },
        {
         "name": "Gene505",
         "rawType": "int64",
         "type": "integer"
        },
        {
         "name": "Gene506",
         "rawType": "int64",
         "type": "integer"
        },
        {
         "name": "Gene507",
         "rawType": "int64",
         "type": "integer"
        },
        {
         "name": "Gene508",
         "rawType": "int64",
         "type": "integer"
        },
        {
         "name": "Gene509",
         "rawType": "int64",
         "type": "integer"
        },
        {
         "name": "Gene510",
         "rawType": "int64",
         "type": "integer"
        },
        {
         "name": "Gene511",
         "rawType": "int64",
         "type": "integer"
        },
        {
         "name": "Gene512",
         "rawType": "int64",
         "type": "integer"
        },
        {
         "name": "Gene513",
         "rawType": "int64",
         "type": "integer"
        },
        {
         "name": "Gene514",
         "rawType": "int64",
         "type": "integer"
        },
        {
         "name": "Gene515",
         "rawType": "int64",
         "type": "integer"
        },
        {
         "name": "Gene516",
         "rawType": "int64",
         "type": "integer"
        },
        {
         "name": "Gene517",
         "rawType": "int64",
         "type": "integer"
        },
        {
         "name": "Gene518",
         "rawType": "int64",
         "type": "integer"
        },
        {
         "name": "Gene519",
         "rawType": "int64",
         "type": "integer"
        },
        {
         "name": "Gene520",
         "rawType": "int64",
         "type": "integer"
        },
        {
         "name": "Gene521",
         "rawType": "int64",
         "type": "integer"
        },
        {
         "name": "Gene522",
         "rawType": "int64",
         "type": "integer"
        },
        {
         "name": "Gene523",
         "rawType": "int64",
         "type": "integer"
        },
        {
         "name": "Gene524",
         "rawType": "int64",
         "type": "integer"
        },
        {
         "name": "Gene525",
         "rawType": "int64",
         "type": "integer"
        },
        {
         "name": "Gene526",
         "rawType": "int64",
         "type": "integer"
        },
        {
         "name": "Gene527",
         "rawType": "int64",
         "type": "integer"
        },
        {
         "name": "Gene528",
         "rawType": "int64",
         "type": "integer"
        },
        {
         "name": "Gene529",
         "rawType": "int64",
         "type": "integer"
        },
        {
         "name": "Gene530",
         "rawType": "int64",
         "type": "integer"
        },
        {
         "name": "Gene531",
         "rawType": "int64",
         "type": "integer"
        },
        {
         "name": "Gene532",
         "rawType": "int64",
         "type": "integer"
        },
        {
         "name": "Gene533",
         "rawType": "int64",
         "type": "integer"
        },
        {
         "name": "Gene534",
         "rawType": "int64",
         "type": "integer"
        },
        {
         "name": "Gene535",
         "rawType": "int64",
         "type": "integer"
        },
        {
         "name": "Gene536",
         "rawType": "int64",
         "type": "integer"
        },
        {
         "name": "Gene537",
         "rawType": "int64",
         "type": "integer"
        },
        {
         "name": "Gene538",
         "rawType": "int64",
         "type": "integer"
        },
        {
         "name": "Gene539",
         "rawType": "int64",
         "type": "integer"
        },
        {
         "name": "Gene540",
         "rawType": "int64",
         "type": "integer"
        },
        {
         "name": "Gene541",
         "rawType": "int64",
         "type": "integer"
        },
        {
         "name": "Gene542",
         "rawType": "int64",
         "type": "integer"
        },
        {
         "name": "Gene543",
         "rawType": "int64",
         "type": "integer"
        },
        {
         "name": "Gene544",
         "rawType": "int64",
         "type": "integer"
        },
        {
         "name": "Gene545",
         "rawType": "int64",
         "type": "integer"
        },
        {
         "name": "Gene546",
         "rawType": "int64",
         "type": "integer"
        },
        {
         "name": "Gene547",
         "rawType": "int64",
         "type": "integer"
        },
        {
         "name": "Gene548",
         "rawType": "int64",
         "type": "integer"
        },
        {
         "name": "Gene549",
         "rawType": "int64",
         "type": "integer"
        },
        {
         "name": "Gene550",
         "rawType": "int64",
         "type": "integer"
        },
        {
         "name": "Gene551",
         "rawType": "int64",
         "type": "integer"
        },
        {
         "name": "Gene552",
         "rawType": "int64",
         "type": "integer"
        },
        {
         "name": "Gene553",
         "rawType": "int64",
         "type": "integer"
        },
        {
         "name": "Gene554",
         "rawType": "int64",
         "type": "integer"
        },
        {
         "name": "Gene555",
         "rawType": "int64",
         "type": "integer"
        },
        {
         "name": "Gene556",
         "rawType": "int64",
         "type": "integer"
        },
        {
         "name": "Gene557",
         "rawType": "int64",
         "type": "integer"
        },
        {
         "name": "Gene558",
         "rawType": "int64",
         "type": "integer"
        },
        {
         "name": "Gene559",
         "rawType": "int64",
         "type": "integer"
        },
        {
         "name": "Gene560",
         "rawType": "int64",
         "type": "integer"
        },
        {
         "name": "Gene561",
         "rawType": "int64",
         "type": "integer"
        },
        {
         "name": "Gene562",
         "rawType": "int64",
         "type": "integer"
        },
        {
         "name": "Gene563",
         "rawType": "int64",
         "type": "integer"
        },
        {
         "name": "Gene564",
         "rawType": "int64",
         "type": "integer"
        },
        {
         "name": "Gene565",
         "rawType": "int64",
         "type": "integer"
        },
        {
         "name": "Gene566",
         "rawType": "int64",
         "type": "integer"
        },
        {
         "name": "Gene567",
         "rawType": "int64",
         "type": "integer"
        },
        {
         "name": "Gene568",
         "rawType": "int64",
         "type": "integer"
        },
        {
         "name": "Gene569",
         "rawType": "int64",
         "type": "integer"
        },
        {
         "name": "Gene570",
         "rawType": "int64",
         "type": "integer"
        },
        {
         "name": "Gene571",
         "rawType": "int64",
         "type": "integer"
        },
        {
         "name": "Gene572",
         "rawType": "int64",
         "type": "integer"
        },
        {
         "name": "Gene573",
         "rawType": "int64",
         "type": "integer"
        },
        {
         "name": "Gene574",
         "rawType": "int64",
         "type": "integer"
        },
        {
         "name": "Gene575",
         "rawType": "int64",
         "type": "integer"
        },
        {
         "name": "Gene576",
         "rawType": "int64",
         "type": "integer"
        },
        {
         "name": "Gene577",
         "rawType": "int64",
         "type": "integer"
        },
        {
         "name": "Gene578",
         "rawType": "int64",
         "type": "integer"
        },
        {
         "name": "Gene579",
         "rawType": "int64",
         "type": "integer"
        },
        {
         "name": "Gene580",
         "rawType": "int64",
         "type": "integer"
        },
        {
         "name": "Gene581",
         "rawType": "int64",
         "type": "integer"
        },
        {
         "name": "Gene582",
         "rawType": "int64",
         "type": "integer"
        },
        {
         "name": "Gene583",
         "rawType": "int64",
         "type": "integer"
        },
        {
         "name": "Gene584",
         "rawType": "int64",
         "type": "integer"
        },
        {
         "name": "Gene585",
         "rawType": "int64",
         "type": "integer"
        },
        {
         "name": "Gene586",
         "rawType": "int64",
         "type": "integer"
        },
        {
         "name": "Gene587",
         "rawType": "int64",
         "type": "integer"
        },
        {
         "name": "Gene588",
         "rawType": "int64",
         "type": "integer"
        },
        {
         "name": "Gene589",
         "rawType": "int64",
         "type": "integer"
        },
        {
         "name": "Gene590",
         "rawType": "int64",
         "type": "integer"
        },
        {
         "name": "Gene591",
         "rawType": "int64",
         "type": "integer"
        },
        {
         "name": "Gene592",
         "rawType": "int64",
         "type": "integer"
        },
        {
         "name": "Gene593",
         "rawType": "int64",
         "type": "integer"
        },
        {
         "name": "Gene594",
         "rawType": "int64",
         "type": "integer"
        },
        {
         "name": "Gene595",
         "rawType": "int64",
         "type": "integer"
        },
        {
         "name": "Gene596",
         "rawType": "int64",
         "type": "integer"
        },
        {
         "name": "Gene597",
         "rawType": "int64",
         "type": "integer"
        },
        {
         "name": "Gene598",
         "rawType": "int64",
         "type": "integer"
        },
        {
         "name": "Gene599",
         "rawType": "int64",
         "type": "integer"
        },
        {
         "name": "Gene600",
         "rawType": "int64",
         "type": "integer"
        },
        {
         "name": "Gene601",
         "rawType": "int64",
         "type": "integer"
        },
        {
         "name": "Gene602",
         "rawType": "int64",
         "type": "integer"
        },
        {
         "name": "Gene603",
         "rawType": "int64",
         "type": "integer"
        },
        {
         "name": "Gene604",
         "rawType": "int64",
         "type": "integer"
        },
        {
         "name": "Gene605",
         "rawType": "int64",
         "type": "integer"
        },
        {
         "name": "Gene606",
         "rawType": "int64",
         "type": "integer"
        },
        {
         "name": "Gene607",
         "rawType": "int64",
         "type": "integer"
        },
        {
         "name": "Gene608",
         "rawType": "int64",
         "type": "integer"
        },
        {
         "name": "Gene609",
         "rawType": "int64",
         "type": "integer"
        },
        {
         "name": "Gene610",
         "rawType": "int64",
         "type": "integer"
        },
        {
         "name": "Gene611",
         "rawType": "int64",
         "type": "integer"
        },
        {
         "name": "Gene612",
         "rawType": "int64",
         "type": "integer"
        },
        {
         "name": "Gene613",
         "rawType": "int64",
         "type": "integer"
        },
        {
         "name": "Gene614",
         "rawType": "int64",
         "type": "integer"
        },
        {
         "name": "Gene615",
         "rawType": "int64",
         "type": "integer"
        },
        {
         "name": "Gene616",
         "rawType": "int64",
         "type": "integer"
        },
        {
         "name": "Gene617",
         "rawType": "int64",
         "type": "integer"
        },
        {
         "name": "Gene618",
         "rawType": "int64",
         "type": "integer"
        },
        {
         "name": "Gene619",
         "rawType": "int64",
         "type": "integer"
        },
        {
         "name": "Gene620",
         "rawType": "int64",
         "type": "integer"
        },
        {
         "name": "Gene621",
         "rawType": "int64",
         "type": "integer"
        },
        {
         "name": "Gene622",
         "rawType": "int64",
         "type": "integer"
        },
        {
         "name": "Gene623",
         "rawType": "int64",
         "type": "integer"
        },
        {
         "name": "Gene624",
         "rawType": "int64",
         "type": "integer"
        },
        {
         "name": "Gene625",
         "rawType": "int64",
         "type": "integer"
        },
        {
         "name": "Gene626",
         "rawType": "int64",
         "type": "integer"
        },
        {
         "name": "Gene627",
         "rawType": "int64",
         "type": "integer"
        },
        {
         "name": "Gene628",
         "rawType": "int64",
         "type": "integer"
        },
        {
         "name": "Gene629",
         "rawType": "int64",
         "type": "integer"
        },
        {
         "name": "Gene630",
         "rawType": "int64",
         "type": "integer"
        },
        {
         "name": "Gene631",
         "rawType": "int64",
         "type": "integer"
        },
        {
         "name": "Gene632",
         "rawType": "int64",
         "type": "integer"
        },
        {
         "name": "Gene633",
         "rawType": "int64",
         "type": "integer"
        },
        {
         "name": "Gene634",
         "rawType": "int64",
         "type": "integer"
        },
        {
         "name": "Gene635",
         "rawType": "int64",
         "type": "integer"
        },
        {
         "name": "Gene636",
         "rawType": "int64",
         "type": "integer"
        },
        {
         "name": "Gene637",
         "rawType": "int64",
         "type": "integer"
        },
        {
         "name": "Gene638",
         "rawType": "int64",
         "type": "integer"
        },
        {
         "name": "Gene639",
         "rawType": "int64",
         "type": "integer"
        },
        {
         "name": "Gene640",
         "rawType": "int64",
         "type": "integer"
        },
        {
         "name": "Gene641",
         "rawType": "int64",
         "type": "integer"
        },
        {
         "name": "Gene642",
         "rawType": "int64",
         "type": "integer"
        },
        {
         "name": "Gene643",
         "rawType": "int64",
         "type": "integer"
        },
        {
         "name": "Gene644",
         "rawType": "int64",
         "type": "integer"
        },
        {
         "name": "Gene645",
         "rawType": "int64",
         "type": "integer"
        },
        {
         "name": "Gene646",
         "rawType": "int64",
         "type": "integer"
        },
        {
         "name": "Gene647",
         "rawType": "int64",
         "type": "integer"
        },
        {
         "name": "Gene648",
         "rawType": "int64",
         "type": "integer"
        },
        {
         "name": "Gene649",
         "rawType": "int64",
         "type": "integer"
        },
        {
         "name": "Gene650",
         "rawType": "int64",
         "type": "integer"
        },
        {
         "name": "Gene651",
         "rawType": "int64",
         "type": "integer"
        },
        {
         "name": "Gene652",
         "rawType": "int64",
         "type": "integer"
        },
        {
         "name": "Gene653",
         "rawType": "int64",
         "type": "integer"
        },
        {
         "name": "Gene654",
         "rawType": "int64",
         "type": "integer"
        },
        {
         "name": "Gene655",
         "rawType": "int64",
         "type": "integer"
        },
        {
         "name": "Gene656",
         "rawType": "int64",
         "type": "integer"
        },
        {
         "name": "Gene657",
         "rawType": "int64",
         "type": "integer"
        },
        {
         "name": "Gene658",
         "rawType": "int64",
         "type": "integer"
        },
        {
         "name": "Gene659",
         "rawType": "int64",
         "type": "integer"
        },
        {
         "name": "Gene660",
         "rawType": "int64",
         "type": "integer"
        },
        {
         "name": "Gene661",
         "rawType": "int64",
         "type": "integer"
        },
        {
         "name": "Gene662",
         "rawType": "int64",
         "type": "integer"
        },
        {
         "name": "Gene663",
         "rawType": "int64",
         "type": "integer"
        },
        {
         "name": "Gene664",
         "rawType": "int64",
         "type": "integer"
        },
        {
         "name": "Gene665",
         "rawType": "int64",
         "type": "integer"
        },
        {
         "name": "Gene666",
         "rawType": "int64",
         "type": "integer"
        },
        {
         "name": "Gene667",
         "rawType": "int64",
         "type": "integer"
        },
        {
         "name": "Gene668",
         "rawType": "int64",
         "type": "integer"
        },
        {
         "name": "Gene669",
         "rawType": "int64",
         "type": "integer"
        },
        {
         "name": "Gene670",
         "rawType": "int64",
         "type": "integer"
        },
        {
         "name": "Gene671",
         "rawType": "int64",
         "type": "integer"
        },
        {
         "name": "Gene672",
         "rawType": "int64",
         "type": "integer"
        },
        {
         "name": "Gene673",
         "rawType": "int64",
         "type": "integer"
        },
        {
         "name": "Gene674",
         "rawType": "int64",
         "type": "integer"
        },
        {
         "name": "Gene675",
         "rawType": "int64",
         "type": "integer"
        },
        {
         "name": "Gene676",
         "rawType": "int64",
         "type": "integer"
        },
        {
         "name": "Gene677",
         "rawType": "int64",
         "type": "integer"
        },
        {
         "name": "Gene678",
         "rawType": "int64",
         "type": "integer"
        },
        {
         "name": "Gene679",
         "rawType": "int64",
         "type": "integer"
        },
        {
         "name": "Gene680",
         "rawType": "int64",
         "type": "integer"
        },
        {
         "name": "Gene681",
         "rawType": "int64",
         "type": "integer"
        },
        {
         "name": "Gene682",
         "rawType": "int64",
         "type": "integer"
        },
        {
         "name": "Gene683",
         "rawType": "int64",
         "type": "integer"
        },
        {
         "name": "Gene684",
         "rawType": "int64",
         "type": "integer"
        },
        {
         "name": "Gene685",
         "rawType": "int64",
         "type": "integer"
        },
        {
         "name": "Gene686",
         "rawType": "int64",
         "type": "integer"
        },
        {
         "name": "Gene687",
         "rawType": "int64",
         "type": "integer"
        },
        {
         "name": "Gene688",
         "rawType": "int64",
         "type": "integer"
        },
        {
         "name": "Gene689",
         "rawType": "int64",
         "type": "integer"
        },
        {
         "name": "Gene690",
         "rawType": "int64",
         "type": "integer"
        },
        {
         "name": "Gene691",
         "rawType": "int64",
         "type": "integer"
        },
        {
         "name": "Gene692",
         "rawType": "int64",
         "type": "integer"
        },
        {
         "name": "Gene693",
         "rawType": "int64",
         "type": "integer"
        },
        {
         "name": "Gene694",
         "rawType": "int64",
         "type": "integer"
        },
        {
         "name": "Gene695",
         "rawType": "int64",
         "type": "integer"
        },
        {
         "name": "Gene696",
         "rawType": "int64",
         "type": "integer"
        },
        {
         "name": "Gene697",
         "rawType": "int64",
         "type": "integer"
        },
        {
         "name": "Gene698",
         "rawType": "int64",
         "type": "integer"
        },
        {
         "name": "Gene699",
         "rawType": "int64",
         "type": "integer"
        },
        {
         "name": "Gene700",
         "rawType": "int64",
         "type": "integer"
        },
        {
         "name": "Gene701",
         "rawType": "int64",
         "type": "integer"
        },
        {
         "name": "Gene702",
         "rawType": "int64",
         "type": "integer"
        },
        {
         "name": "Gene703",
         "rawType": "int64",
         "type": "integer"
        },
        {
         "name": "Gene704",
         "rawType": "int64",
         "type": "integer"
        },
        {
         "name": "Gene705",
         "rawType": "int64",
         "type": "integer"
        },
        {
         "name": "Gene706",
         "rawType": "int64",
         "type": "integer"
        },
        {
         "name": "Gene707",
         "rawType": "int64",
         "type": "integer"
        },
        {
         "name": "Gene708",
         "rawType": "int64",
         "type": "integer"
        },
        {
         "name": "Gene709",
         "rawType": "int64",
         "type": "integer"
        },
        {
         "name": "Gene710",
         "rawType": "int64",
         "type": "integer"
        },
        {
         "name": "Gene711",
         "rawType": "int64",
         "type": "integer"
        },
        {
         "name": "Gene712",
         "rawType": "int64",
         "type": "integer"
        },
        {
         "name": "Gene713",
         "rawType": "int64",
         "type": "integer"
        },
        {
         "name": "Gene714",
         "rawType": "int64",
         "type": "integer"
        },
        {
         "name": "Gene715",
         "rawType": "int64",
         "type": "integer"
        },
        {
         "name": "Gene716",
         "rawType": "int64",
         "type": "integer"
        },
        {
         "name": "Gene717",
         "rawType": "int64",
         "type": "integer"
        },
        {
         "name": "Gene718",
         "rawType": "int64",
         "type": "integer"
        },
        {
         "name": "Gene719",
         "rawType": "int64",
         "type": "integer"
        },
        {
         "name": "Gene720",
         "rawType": "int64",
         "type": "integer"
        },
        {
         "name": "Gene721",
         "rawType": "int64",
         "type": "integer"
        },
        {
         "name": "Gene722",
         "rawType": "int64",
         "type": "integer"
        },
        {
         "name": "Gene723",
         "rawType": "int64",
         "type": "integer"
        },
        {
         "name": "Gene724",
         "rawType": "int64",
         "type": "integer"
        },
        {
         "name": "Gene725",
         "rawType": "int64",
         "type": "integer"
        },
        {
         "name": "Gene726",
         "rawType": "int64",
         "type": "integer"
        },
        {
         "name": "Gene727",
         "rawType": "int64",
         "type": "integer"
        },
        {
         "name": "Gene728",
         "rawType": "int64",
         "type": "integer"
        },
        {
         "name": "Gene729",
         "rawType": "int64",
         "type": "integer"
        },
        {
         "name": "Gene730",
         "rawType": "int64",
         "type": "integer"
        },
        {
         "name": "Gene731",
         "rawType": "int64",
         "type": "integer"
        },
        {
         "name": "Gene732",
         "rawType": "int64",
         "type": "integer"
        },
        {
         "name": "Gene733",
         "rawType": "int64",
         "type": "integer"
        },
        {
         "name": "Gene734",
         "rawType": "int64",
         "type": "integer"
        },
        {
         "name": "Gene735",
         "rawType": "int64",
         "type": "integer"
        },
        {
         "name": "Gene736",
         "rawType": "int64",
         "type": "integer"
        },
        {
         "name": "Gene737",
         "rawType": "int64",
         "type": "integer"
        },
        {
         "name": "Gene738",
         "rawType": "int64",
         "type": "integer"
        },
        {
         "name": "Gene739",
         "rawType": "int64",
         "type": "integer"
        },
        {
         "name": "Gene740",
         "rawType": "int64",
         "type": "integer"
        },
        {
         "name": "Gene741",
         "rawType": "int64",
         "type": "integer"
        },
        {
         "name": "Gene742",
         "rawType": "int64",
         "type": "integer"
        },
        {
         "name": "Gene743",
         "rawType": "int64",
         "type": "integer"
        },
        {
         "name": "Gene744",
         "rawType": "int64",
         "type": "integer"
        },
        {
         "name": "Gene745",
         "rawType": "int64",
         "type": "integer"
        },
        {
         "name": "Gene746",
         "rawType": "int64",
         "type": "integer"
        },
        {
         "name": "Gene747",
         "rawType": "int64",
         "type": "integer"
        },
        {
         "name": "Gene748",
         "rawType": "int64",
         "type": "integer"
        },
        {
         "name": "Gene749",
         "rawType": "int64",
         "type": "integer"
        },
        {
         "name": "Gene750",
         "rawType": "int64",
         "type": "integer"
        },
        {
         "name": "Gene751",
         "rawType": "int64",
         "type": "integer"
        },
        {
         "name": "Gene752",
         "rawType": "int64",
         "type": "integer"
        },
        {
         "name": "Gene753",
         "rawType": "int64",
         "type": "integer"
        },
        {
         "name": "Gene754",
         "rawType": "int64",
         "type": "integer"
        },
        {
         "name": "Gene755",
         "rawType": "int64",
         "type": "integer"
        },
        {
         "name": "Gene756",
         "rawType": "int64",
         "type": "integer"
        },
        {
         "name": "Gene757",
         "rawType": "int64",
         "type": "integer"
        },
        {
         "name": "Gene758",
         "rawType": "int64",
         "type": "integer"
        },
        {
         "name": "Gene759",
         "rawType": "int64",
         "type": "integer"
        },
        {
         "name": "Gene760",
         "rawType": "int64",
         "type": "integer"
        },
        {
         "name": "Gene761",
         "rawType": "int64",
         "type": "integer"
        },
        {
         "name": "Gene762",
         "rawType": "int64",
         "type": "integer"
        },
        {
         "name": "Gene763",
         "rawType": "int64",
         "type": "integer"
        },
        {
         "name": "Gene764",
         "rawType": "int64",
         "type": "integer"
        },
        {
         "name": "Gene765",
         "rawType": "int64",
         "type": "integer"
        },
        {
         "name": "Gene766",
         "rawType": "int64",
         "type": "integer"
        },
        {
         "name": "Gene767",
         "rawType": "int64",
         "type": "integer"
        },
        {
         "name": "Gene768",
         "rawType": "int64",
         "type": "integer"
        },
        {
         "name": "Gene769",
         "rawType": "int64",
         "type": "integer"
        },
        {
         "name": "Gene770",
         "rawType": "int64",
         "type": "integer"
        },
        {
         "name": "Gene771",
         "rawType": "int64",
         "type": "integer"
        },
        {
         "name": "Gene772",
         "rawType": "int64",
         "type": "integer"
        },
        {
         "name": "Gene773",
         "rawType": "int64",
         "type": "integer"
        },
        {
         "name": "Gene774",
         "rawType": "int64",
         "type": "integer"
        },
        {
         "name": "Gene775",
         "rawType": "int64",
         "type": "integer"
        },
        {
         "name": "Gene776",
         "rawType": "int64",
         "type": "integer"
        },
        {
         "name": "Gene777",
         "rawType": "int64",
         "type": "integer"
        },
        {
         "name": "Gene778",
         "rawType": "int64",
         "type": "integer"
        },
        {
         "name": "Gene779",
         "rawType": "int64",
         "type": "integer"
        },
        {
         "name": "Gene780",
         "rawType": "int64",
         "type": "integer"
        },
        {
         "name": "Gene781",
         "rawType": "int64",
         "type": "integer"
        },
        {
         "name": "Gene782",
         "rawType": "int64",
         "type": "integer"
        },
        {
         "name": "Gene783",
         "rawType": "int64",
         "type": "integer"
        },
        {
         "name": "Gene784",
         "rawType": "int64",
         "type": "integer"
        },
        {
         "name": "Gene785",
         "rawType": "int64",
         "type": "integer"
        },
        {
         "name": "Gene786",
         "rawType": "int64",
         "type": "integer"
        },
        {
         "name": "Gene787",
         "rawType": "int64",
         "type": "integer"
        },
        {
         "name": "Gene788",
         "rawType": "int64",
         "type": "integer"
        },
        {
         "name": "Gene789",
         "rawType": "int64",
         "type": "integer"
        },
        {
         "name": "Gene790",
         "rawType": "int64",
         "type": "integer"
        },
        {
         "name": "Gene791",
         "rawType": "int64",
         "type": "integer"
        },
        {
         "name": "Gene792",
         "rawType": "int64",
         "type": "integer"
        },
        {
         "name": "Gene793",
         "rawType": "int64",
         "type": "integer"
        },
        {
         "name": "Gene794",
         "rawType": "int64",
         "type": "integer"
        },
        {
         "name": "Gene795",
         "rawType": "int64",
         "type": "integer"
        },
        {
         "name": "Gene796",
         "rawType": "int64",
         "type": "integer"
        },
        {
         "name": "Gene797",
         "rawType": "int64",
         "type": "integer"
        },
        {
         "name": "Gene798",
         "rawType": "int64",
         "type": "integer"
        },
        {
         "name": "Gene799",
         "rawType": "int64",
         "type": "integer"
        },
        {
         "name": "Gene800",
         "rawType": "int64",
         "type": "integer"
        },
        {
         "name": "Gene801",
         "rawType": "int64",
         "type": "integer"
        },
        {
         "name": "Gene802",
         "rawType": "int64",
         "type": "integer"
        },
        {
         "name": "Gene803",
         "rawType": "int64",
         "type": "integer"
        },
        {
         "name": "Gene804",
         "rawType": "int64",
         "type": "integer"
        },
        {
         "name": "Gene805",
         "rawType": "int64",
         "type": "integer"
        },
        {
         "name": "Gene806",
         "rawType": "int64",
         "type": "integer"
        },
        {
         "name": "Gene807",
         "rawType": "int64",
         "type": "integer"
        },
        {
         "name": "Gene808",
         "rawType": "int64",
         "type": "integer"
        },
        {
         "name": "Gene809",
         "rawType": "int64",
         "type": "integer"
        },
        {
         "name": "Gene810",
         "rawType": "int64",
         "type": "integer"
        },
        {
         "name": "Gene811",
         "rawType": "int64",
         "type": "integer"
        },
        {
         "name": "Gene812",
         "rawType": "int64",
         "type": "integer"
        },
        {
         "name": "Gene813",
         "rawType": "int64",
         "type": "integer"
        },
        {
         "name": "Gene814",
         "rawType": "int64",
         "type": "integer"
        },
        {
         "name": "Gene815",
         "rawType": "int64",
         "type": "integer"
        },
        {
         "name": "Gene816",
         "rawType": "int64",
         "type": "integer"
        },
        {
         "name": "Gene817",
         "rawType": "int64",
         "type": "integer"
        },
        {
         "name": "Gene818",
         "rawType": "int64",
         "type": "integer"
        },
        {
         "name": "Gene819",
         "rawType": "int64",
         "type": "integer"
        },
        {
         "name": "Gene820",
         "rawType": "int64",
         "type": "integer"
        },
        {
         "name": "Gene821",
         "rawType": "int64",
         "type": "integer"
        },
        {
         "name": "Gene822",
         "rawType": "int64",
         "type": "integer"
        },
        {
         "name": "Gene823",
         "rawType": "int64",
         "type": "integer"
        },
        {
         "name": "Gene824",
         "rawType": "int64",
         "type": "integer"
        },
        {
         "name": "Gene825",
         "rawType": "int64",
         "type": "integer"
        },
        {
         "name": "Gene826",
         "rawType": "int64",
         "type": "integer"
        },
        {
         "name": "Gene827",
         "rawType": "int64",
         "type": "integer"
        },
        {
         "name": "Gene828",
         "rawType": "int64",
         "type": "integer"
        },
        {
         "name": "Gene829",
         "rawType": "int64",
         "type": "integer"
        },
        {
         "name": "Gene830",
         "rawType": "int64",
         "type": "integer"
        },
        {
         "name": "Gene831",
         "rawType": "int64",
         "type": "integer"
        },
        {
         "name": "Gene832",
         "rawType": "int64",
         "type": "integer"
        },
        {
         "name": "Gene833",
         "rawType": "int64",
         "type": "integer"
        },
        {
         "name": "Gene834",
         "rawType": "int64",
         "type": "integer"
        },
        {
         "name": "Gene835",
         "rawType": "int64",
         "type": "integer"
        },
        {
         "name": "Gene836",
         "rawType": "int64",
         "type": "integer"
        },
        {
         "name": "Gene837",
         "rawType": "int64",
         "type": "integer"
        },
        {
         "name": "Gene838",
         "rawType": "int64",
         "type": "integer"
        },
        {
         "name": "Gene839",
         "rawType": "int64",
         "type": "integer"
        },
        {
         "name": "Gene840",
         "rawType": "int64",
         "type": "integer"
        },
        {
         "name": "Gene841",
         "rawType": "int64",
         "type": "integer"
        },
        {
         "name": "Gene842",
         "rawType": "int64",
         "type": "integer"
        },
        {
         "name": "Gene843",
         "rawType": "int64",
         "type": "integer"
        },
        {
         "name": "Gene844",
         "rawType": "int64",
         "type": "integer"
        },
        {
         "name": "Gene845",
         "rawType": "int64",
         "type": "integer"
        },
        {
         "name": "Gene846",
         "rawType": "int64",
         "type": "integer"
        },
        {
         "name": "Gene847",
         "rawType": "int64",
         "type": "integer"
        },
        {
         "name": "Gene848",
         "rawType": "int64",
         "type": "integer"
        },
        {
         "name": "Gene849",
         "rawType": "int64",
         "type": "integer"
        },
        {
         "name": "Gene850",
         "rawType": "int64",
         "type": "integer"
        },
        {
         "name": "Gene851",
         "rawType": "int64",
         "type": "integer"
        },
        {
         "name": "Gene852",
         "rawType": "int64",
         "type": "integer"
        },
        {
         "name": "Gene853",
         "rawType": "int64",
         "type": "integer"
        },
        {
         "name": "Gene854",
         "rawType": "int64",
         "type": "integer"
        },
        {
         "name": "Gene855",
         "rawType": "int64",
         "type": "integer"
        },
        {
         "name": "Gene856",
         "rawType": "int64",
         "type": "integer"
        },
        {
         "name": "Gene857",
         "rawType": "int64",
         "type": "integer"
        },
        {
         "name": "Gene858",
         "rawType": "int64",
         "type": "integer"
        },
        {
         "name": "Gene859",
         "rawType": "int64",
         "type": "integer"
        },
        {
         "name": "Gene860",
         "rawType": "int64",
         "type": "integer"
        },
        {
         "name": "Gene861",
         "rawType": "int64",
         "type": "integer"
        },
        {
         "name": "Gene862",
         "rawType": "int64",
         "type": "integer"
        },
        {
         "name": "Gene863",
         "rawType": "int64",
         "type": "integer"
        },
        {
         "name": "Gene864",
         "rawType": "int64",
         "type": "integer"
        },
        {
         "name": "Gene865",
         "rawType": "int64",
         "type": "integer"
        },
        {
         "name": "Gene866",
         "rawType": "int64",
         "type": "integer"
        },
        {
         "name": "Gene867",
         "rawType": "int64",
         "type": "integer"
        },
        {
         "name": "Gene868",
         "rawType": "int64",
         "type": "integer"
        },
        {
         "name": "Gene869",
         "rawType": "int64",
         "type": "integer"
        },
        {
         "name": "Gene870",
         "rawType": "int64",
         "type": "integer"
        },
        {
         "name": "Gene871",
         "rawType": "int64",
         "type": "integer"
        },
        {
         "name": "Gene872",
         "rawType": "int64",
         "type": "integer"
        },
        {
         "name": "Gene873",
         "rawType": "int64",
         "type": "integer"
        },
        {
         "name": "Gene874",
         "rawType": "int64",
         "type": "integer"
        },
        {
         "name": "Gene875",
         "rawType": "int64",
         "type": "integer"
        },
        {
         "name": "Gene876",
         "rawType": "int64",
         "type": "integer"
        },
        {
         "name": "Gene877",
         "rawType": "int64",
         "type": "integer"
        },
        {
         "name": "Gene878",
         "rawType": "int64",
         "type": "integer"
        },
        {
         "name": "Gene879",
         "rawType": "int64",
         "type": "integer"
        },
        {
         "name": "Gene880",
         "rawType": "int64",
         "type": "integer"
        },
        {
         "name": "Gene881",
         "rawType": "int64",
         "type": "integer"
        },
        {
         "name": "Gene882",
         "rawType": "int64",
         "type": "integer"
        },
        {
         "name": "Gene883",
         "rawType": "int64",
         "type": "integer"
        },
        {
         "name": "Gene884",
         "rawType": "int64",
         "type": "integer"
        },
        {
         "name": "Gene885",
         "rawType": "int64",
         "type": "integer"
        },
        {
         "name": "Gene886",
         "rawType": "int64",
         "type": "integer"
        },
        {
         "name": "Gene887",
         "rawType": "int64",
         "type": "integer"
        },
        {
         "name": "Gene888",
         "rawType": "int64",
         "type": "integer"
        },
        {
         "name": "Gene889",
         "rawType": "int64",
         "type": "integer"
        },
        {
         "name": "Gene890",
         "rawType": "int64",
         "type": "integer"
        },
        {
         "name": "Gene891",
         "rawType": "int64",
         "type": "integer"
        },
        {
         "name": "Gene892",
         "rawType": "int64",
         "type": "integer"
        },
        {
         "name": "Gene893",
         "rawType": "int64",
         "type": "integer"
        },
        {
         "name": "Gene894",
         "rawType": "int64",
         "type": "integer"
        },
        {
         "name": "Gene895",
         "rawType": "int64",
         "type": "integer"
        },
        {
         "name": "Gene896",
         "rawType": "int64",
         "type": "integer"
        },
        {
         "name": "Gene897",
         "rawType": "int64",
         "type": "integer"
        },
        {
         "name": "Gene898",
         "rawType": "int64",
         "type": "integer"
        },
        {
         "name": "Gene899",
         "rawType": "int64",
         "type": "integer"
        },
        {
         "name": "Gene900",
         "rawType": "int64",
         "type": "integer"
        },
        {
         "name": "Gene901",
         "rawType": "int64",
         "type": "integer"
        },
        {
         "name": "Gene902",
         "rawType": "int64",
         "type": "integer"
        },
        {
         "name": "Gene903",
         "rawType": "int64",
         "type": "integer"
        },
        {
         "name": "Gene904",
         "rawType": "int64",
         "type": "integer"
        },
        {
         "name": "Gene905",
         "rawType": "int64",
         "type": "integer"
        },
        {
         "name": "Gene906",
         "rawType": "int64",
         "type": "integer"
        },
        {
         "name": "Gene907",
         "rawType": "int64",
         "type": "integer"
        },
        {
         "name": "Gene908",
         "rawType": "int64",
         "type": "integer"
        },
        {
         "name": "Gene909",
         "rawType": "int64",
         "type": "integer"
        },
        {
         "name": "Gene910",
         "rawType": "int64",
         "type": "integer"
        },
        {
         "name": "Gene911",
         "rawType": "int64",
         "type": "integer"
        },
        {
         "name": "Gene912",
         "rawType": "int64",
         "type": "integer"
        },
        {
         "name": "Gene913",
         "rawType": "int64",
         "type": "integer"
        },
        {
         "name": "Gene914",
         "rawType": "int64",
         "type": "integer"
        },
        {
         "name": "Gene915",
         "rawType": "int64",
         "type": "integer"
        },
        {
         "name": "Gene916",
         "rawType": "int64",
         "type": "integer"
        },
        {
         "name": "Gene917",
         "rawType": "int64",
         "type": "integer"
        },
        {
         "name": "Gene918",
         "rawType": "int64",
         "type": "integer"
        },
        {
         "name": "Gene919",
         "rawType": "int64",
         "type": "integer"
        },
        {
         "name": "Gene920",
         "rawType": "int64",
         "type": "integer"
        },
        {
         "name": "Gene921",
         "rawType": "int64",
         "type": "integer"
        },
        {
         "name": "Gene922",
         "rawType": "int64",
         "type": "integer"
        },
        {
         "name": "Gene923",
         "rawType": "int64",
         "type": "integer"
        },
        {
         "name": "Gene924",
         "rawType": "int64",
         "type": "integer"
        },
        {
         "name": "Gene925",
         "rawType": "int64",
         "type": "integer"
        },
        {
         "name": "Gene926",
         "rawType": "int64",
         "type": "integer"
        },
        {
         "name": "Gene927",
         "rawType": "int64",
         "type": "integer"
        },
        {
         "name": "Gene928",
         "rawType": "int64",
         "type": "integer"
        },
        {
         "name": "Gene929",
         "rawType": "int64",
         "type": "integer"
        },
        {
         "name": "Gene930",
         "rawType": "int64",
         "type": "integer"
        },
        {
         "name": "Gene931",
         "rawType": "int64",
         "type": "integer"
        },
        {
         "name": "Gene932",
         "rawType": "int64",
         "type": "integer"
        },
        {
         "name": "Gene933",
         "rawType": "int64",
         "type": "integer"
        },
        {
         "name": "Gene934",
         "rawType": "int64",
         "type": "integer"
        },
        {
         "name": "Gene935",
         "rawType": "int64",
         "type": "integer"
        },
        {
         "name": "Gene936",
         "rawType": "int64",
         "type": "integer"
        },
        {
         "name": "Gene937",
         "rawType": "int64",
         "type": "integer"
        },
        {
         "name": "Gene938",
         "rawType": "int64",
         "type": "integer"
        },
        {
         "name": "Gene939",
         "rawType": "int64",
         "type": "integer"
        },
        {
         "name": "Gene940",
         "rawType": "int64",
         "type": "integer"
        },
        {
         "name": "Gene941",
         "rawType": "int64",
         "type": "integer"
        },
        {
         "name": "Gene942",
         "rawType": "int64",
         "type": "integer"
        },
        {
         "name": "Gene943",
         "rawType": "int64",
         "type": "integer"
        },
        {
         "name": "Gene944",
         "rawType": "int64",
         "type": "integer"
        },
        {
         "name": "Gene945",
         "rawType": "int64",
         "type": "integer"
        },
        {
         "name": "Gene946",
         "rawType": "int64",
         "type": "integer"
        },
        {
         "name": "Gene947",
         "rawType": "int64",
         "type": "integer"
        },
        {
         "name": "Gene948",
         "rawType": "int64",
         "type": "integer"
        },
        {
         "name": "Gene949",
         "rawType": "int64",
         "type": "integer"
        },
        {
         "name": "Gene950",
         "rawType": "int64",
         "type": "integer"
        },
        {
         "name": "Gene951",
         "rawType": "int64",
         "type": "integer"
        },
        {
         "name": "Gene952",
         "rawType": "int64",
         "type": "integer"
        },
        {
         "name": "Gene953",
         "rawType": "int64",
         "type": "integer"
        },
        {
         "name": "Gene954",
         "rawType": "int64",
         "type": "integer"
        },
        {
         "name": "Gene955",
         "rawType": "int64",
         "type": "integer"
        },
        {
         "name": "Gene956",
         "rawType": "int64",
         "type": "integer"
        },
        {
         "name": "Gene957",
         "rawType": "int64",
         "type": "integer"
        },
        {
         "name": "Gene958",
         "rawType": "int64",
         "type": "integer"
        },
        {
         "name": "Gene959",
         "rawType": "int64",
         "type": "integer"
        },
        {
         "name": "Gene960",
         "rawType": "int64",
         "type": "integer"
        },
        {
         "name": "Gene961",
         "rawType": "int64",
         "type": "integer"
        },
        {
         "name": "Gene962",
         "rawType": "int64",
         "type": "integer"
        },
        {
         "name": "Gene963",
         "rawType": "int64",
         "type": "integer"
        },
        {
         "name": "Gene964",
         "rawType": "int64",
         "type": "integer"
        },
        {
         "name": "Gene965",
         "rawType": "int64",
         "type": "integer"
        },
        {
         "name": "Gene966",
         "rawType": "int64",
         "type": "integer"
        },
        {
         "name": "Gene967",
         "rawType": "int64",
         "type": "integer"
        },
        {
         "name": "Gene968",
         "rawType": "int64",
         "type": "integer"
        },
        {
         "name": "Gene969",
         "rawType": "int64",
         "type": "integer"
        },
        {
         "name": "Gene970",
         "rawType": "int64",
         "type": "integer"
        },
        {
         "name": "Gene971",
         "rawType": "int64",
         "type": "integer"
        },
        {
         "name": "Gene972",
         "rawType": "int64",
         "type": "integer"
        },
        {
         "name": "Gene973",
         "rawType": "int64",
         "type": "integer"
        },
        {
         "name": "Gene974",
         "rawType": "int64",
         "type": "integer"
        },
        {
         "name": "Gene975",
         "rawType": "int64",
         "type": "integer"
        },
        {
         "name": "Gene976",
         "rawType": "int64",
         "type": "integer"
        },
        {
         "name": "Gene977",
         "rawType": "int64",
         "type": "integer"
        },
        {
         "name": "Gene978",
         "rawType": "int64",
         "type": "integer"
        },
        {
         "name": "Gene979",
         "rawType": "int64",
         "type": "integer"
        },
        {
         "name": "Gene980",
         "rawType": "int64",
         "type": "integer"
        },
        {
         "name": "Gene981",
         "rawType": "int64",
         "type": "integer"
        },
        {
         "name": "Gene982",
         "rawType": "int64",
         "type": "integer"
        },
        {
         "name": "Gene983",
         "rawType": "int64",
         "type": "integer"
        },
        {
         "name": "Gene984",
         "rawType": "int64",
         "type": "integer"
        },
        {
         "name": "Gene985",
         "rawType": "int64",
         "type": "integer"
        },
        {
         "name": "Gene986",
         "rawType": "int64",
         "type": "integer"
        },
        {
         "name": "Gene987",
         "rawType": "int64",
         "type": "integer"
        },
        {
         "name": "Gene988",
         "rawType": "int64",
         "type": "integer"
        },
        {
         "name": "Gene989",
         "rawType": "int64",
         "type": "integer"
        },
        {
         "name": "Gene990",
         "rawType": "int64",
         "type": "integer"
        },
        {
         "name": "Gene991",
         "rawType": "int64",
         "type": "integer"
        },
        {
         "name": "Gene992",
         "rawType": "int64",
         "type": "integer"
        },
        {
         "name": "Gene993",
         "rawType": "int64",
         "type": "integer"
        },
        {
         "name": "Gene994",
         "rawType": "int64",
         "type": "integer"
        },
        {
         "name": "Gene995",
         "rawType": "int64",
         "type": "integer"
        },
        {
         "name": "Gene996",
         "rawType": "int64",
         "type": "integer"
        },
        {
         "name": "Gene997",
         "rawType": "int64",
         "type": "integer"
        },
        {
         "name": "Gene998",
         "rawType": "int64",
         "type": "integer"
        },
        {
         "name": "Gene999",
         "rawType": "int64",
         "type": "integer"
        },
        {
         "name": "Gene1000",
         "rawType": "int64",
         "type": "integer"
        },
        {
         "name": "Gene1001",
         "rawType": "int64",
         "type": "integer"
        },
        {
         "name": "Gene1002",
         "rawType": "int64",
         "type": "integer"
        },
        {
         "name": "Gene1003",
         "rawType": "int64",
         "type": "integer"
        },
        {
         "name": "Gene1004",
         "rawType": "int64",
         "type": "integer"
        },
        {
         "name": "Gene1005",
         "rawType": "int64",
         "type": "integer"
        },
        {
         "name": "Gene1006",
         "rawType": "int64",
         "type": "integer"
        },
        {
         "name": "Gene1007",
         "rawType": "int64",
         "type": "integer"
        },
        {
         "name": "Gene1008",
         "rawType": "int64",
         "type": "integer"
        },
        {
         "name": "Gene1009",
         "rawType": "int64",
         "type": "integer"
        },
        {
         "name": "Gene1010",
         "rawType": "int64",
         "type": "integer"
        },
        {
         "name": "Gene1011",
         "rawType": "int64",
         "type": "integer"
        },
        {
         "name": "Gene1012",
         "rawType": "int64",
         "type": "integer"
        },
        {
         "name": "Gene1013",
         "rawType": "int64",
         "type": "integer"
        },
        {
         "name": "Gene1014",
         "rawType": "int64",
         "type": "integer"
        },
        {
         "name": "Gene1015",
         "rawType": "int64",
         "type": "integer"
        },
        {
         "name": "Gene1016",
         "rawType": "int64",
         "type": "integer"
        },
        {
         "name": "Gene1017",
         "rawType": "int64",
         "type": "integer"
        },
        {
         "name": "Gene1018",
         "rawType": "int64",
         "type": "integer"
        },
        {
         "name": "Gene1019",
         "rawType": "int64",
         "type": "integer"
        },
        {
         "name": "Gene1020",
         "rawType": "int64",
         "type": "integer"
        },
        {
         "name": "Gene1021",
         "rawType": "int64",
         "type": "integer"
        },
        {
         "name": "Gene1022",
         "rawType": "int64",
         "type": "integer"
        },
        {
         "name": "Gene1023",
         "rawType": "int64",
         "type": "integer"
        },
        {
         "name": "Gene1024",
         "rawType": "int64",
         "type": "integer"
        },
        {
         "name": "Gene1025",
         "rawType": "int64",
         "type": "integer"
        },
        {
         "name": "Gene1026",
         "rawType": "int64",
         "type": "integer"
        },
        {
         "name": "Gene1027",
         "rawType": "int64",
         "type": "integer"
        },
        {
         "name": "Gene1028",
         "rawType": "int64",
         "type": "integer"
        },
        {
         "name": "Gene1029",
         "rawType": "int64",
         "type": "integer"
        },
        {
         "name": "Gene1030",
         "rawType": "int64",
         "type": "integer"
        },
        {
         "name": "Gene1031",
         "rawType": "int64",
         "type": "integer"
        },
        {
         "name": "Gene1032",
         "rawType": "int64",
         "type": "integer"
        },
        {
         "name": "Gene1033",
         "rawType": "int64",
         "type": "integer"
        },
        {
         "name": "Gene1034",
         "rawType": "int64",
         "type": "integer"
        },
        {
         "name": "Gene1035",
         "rawType": "int64",
         "type": "integer"
        },
        {
         "name": "Gene1036",
         "rawType": "int64",
         "type": "integer"
        },
        {
         "name": "Gene1037",
         "rawType": "int64",
         "type": "integer"
        },
        {
         "name": "Gene1038",
         "rawType": "int64",
         "type": "integer"
        },
        {
         "name": "Gene1039",
         "rawType": "int64",
         "type": "integer"
        },
        {
         "name": "Gene1040",
         "rawType": "int64",
         "type": "integer"
        },
        {
         "name": "Gene1041",
         "rawType": "int64",
         "type": "integer"
        },
        {
         "name": "Gene1042",
         "rawType": "int64",
         "type": "integer"
        },
        {
         "name": "Gene1043",
         "rawType": "int64",
         "type": "integer"
        },
        {
         "name": "Gene1044",
         "rawType": "int64",
         "type": "integer"
        },
        {
         "name": "Gene1045",
         "rawType": "int64",
         "type": "integer"
        },
        {
         "name": "Gene1046",
         "rawType": "int64",
         "type": "integer"
        },
        {
         "name": "Gene1047",
         "rawType": "int64",
         "type": "integer"
        },
        {
         "name": "Gene1048",
         "rawType": "int64",
         "type": "integer"
        },
        {
         "name": "Gene1049",
         "rawType": "int64",
         "type": "integer"
        },
        {
         "name": "Gene1050",
         "rawType": "int64",
         "type": "integer"
        },
        {
         "name": "Gene1051",
         "rawType": "int64",
         "type": "integer"
        },
        {
         "name": "Gene1052",
         "rawType": "int64",
         "type": "integer"
        },
        {
         "name": "Gene1053",
         "rawType": "int64",
         "type": "integer"
        },
        {
         "name": "Gene1054",
         "rawType": "int64",
         "type": "integer"
        },
        {
         "name": "Gene1055",
         "rawType": "int64",
         "type": "integer"
        },
        {
         "name": "Gene1056",
         "rawType": "int64",
         "type": "integer"
        },
        {
         "name": "Gene1057",
         "rawType": "int64",
         "type": "integer"
        },
        {
         "name": "Gene1058",
         "rawType": "int64",
         "type": "integer"
        },
        {
         "name": "Gene1059",
         "rawType": "int64",
         "type": "integer"
        },
        {
         "name": "Gene1060",
         "rawType": "int64",
         "type": "integer"
        },
        {
         "name": "Gene1061",
         "rawType": "int64",
         "type": "integer"
        },
        {
         "name": "Gene1062",
         "rawType": "int64",
         "type": "integer"
        },
        {
         "name": "Gene1063",
         "rawType": "int64",
         "type": "integer"
        },
        {
         "name": "Gene1064",
         "rawType": "int64",
         "type": "integer"
        },
        {
         "name": "Gene1065",
         "rawType": "int64",
         "type": "integer"
        },
        {
         "name": "Gene1066",
         "rawType": "int64",
         "type": "integer"
        },
        {
         "name": "Gene1067",
         "rawType": "int64",
         "type": "integer"
        },
        {
         "name": "Gene1068",
         "rawType": "int64",
         "type": "integer"
        },
        {
         "name": "Gene1069",
         "rawType": "int64",
         "type": "integer"
        },
        {
         "name": "Gene1070",
         "rawType": "int64",
         "type": "integer"
        },
        {
         "name": "Gene1071",
         "rawType": "int64",
         "type": "integer"
        },
        {
         "name": "Gene1072",
         "rawType": "int64",
         "type": "integer"
        },
        {
         "name": "Gene1073",
         "rawType": "int64",
         "type": "integer"
        },
        {
         "name": "Gene1074",
         "rawType": "int64",
         "type": "integer"
        },
        {
         "name": "Gene1075",
         "rawType": "int64",
         "type": "integer"
        },
        {
         "name": "Gene1076",
         "rawType": "int64",
         "type": "integer"
        },
        {
         "name": "Gene1077",
         "rawType": "int64",
         "type": "integer"
        },
        {
         "name": "Gene1078",
         "rawType": "int64",
         "type": "integer"
        },
        {
         "name": "Gene1079",
         "rawType": "int64",
         "type": "integer"
        },
        {
         "name": "Gene1080",
         "rawType": "int64",
         "type": "integer"
        },
        {
         "name": "Gene1081",
         "rawType": "int64",
         "type": "integer"
        },
        {
         "name": "Gene1082",
         "rawType": "int64",
         "type": "integer"
        },
        {
         "name": "Gene1083",
         "rawType": "int64",
         "type": "integer"
        },
        {
         "name": "Gene1084",
         "rawType": "int64",
         "type": "integer"
        },
        {
         "name": "Gene1085",
         "rawType": "int64",
         "type": "integer"
        },
        {
         "name": "Gene1086",
         "rawType": "int64",
         "type": "integer"
        },
        {
         "name": "Gene1087",
         "rawType": "int64",
         "type": "integer"
        },
        {
         "name": "Gene1088",
         "rawType": "int64",
         "type": "integer"
        },
        {
         "name": "Gene1089",
         "rawType": "int64",
         "type": "integer"
        },
        {
         "name": "Gene1090",
         "rawType": "int64",
         "type": "integer"
        },
        {
         "name": "Gene1091",
         "rawType": "int64",
         "type": "integer"
        },
        {
         "name": "Gene1092",
         "rawType": "int64",
         "type": "integer"
        },
        {
         "name": "Gene1093",
         "rawType": "int64",
         "type": "integer"
        },
        {
         "name": "Gene1094",
         "rawType": "int64",
         "type": "integer"
        },
        {
         "name": "Gene1095",
         "rawType": "int64",
         "type": "integer"
        },
        {
         "name": "Gene1096",
         "rawType": "int64",
         "type": "integer"
        },
        {
         "name": "Gene1097",
         "rawType": "int64",
         "type": "integer"
        },
        {
         "name": "Gene1098",
         "rawType": "int64",
         "type": "integer"
        },
        {
         "name": "Gene1099",
         "rawType": "int64",
         "type": "integer"
        },
        {
         "name": "Gene1100",
         "rawType": "int64",
         "type": "integer"
        },
        {
         "name": "Gene1101",
         "rawType": "int64",
         "type": "integer"
        },
        {
         "name": "Gene1102",
         "rawType": "int64",
         "type": "integer"
        },
        {
         "name": "Gene1103",
         "rawType": "int64",
         "type": "integer"
        },
        {
         "name": "Gene1104",
         "rawType": "int64",
         "type": "integer"
        },
        {
         "name": "Gene1105",
         "rawType": "int64",
         "type": "integer"
        },
        {
         "name": "Gene1106",
         "rawType": "int64",
         "type": "integer"
        },
        {
         "name": "Gene1107",
         "rawType": "int64",
         "type": "integer"
        },
        {
         "name": "Gene1108",
         "rawType": "int64",
         "type": "integer"
        },
        {
         "name": "Gene1109",
         "rawType": "int64",
         "type": "integer"
        },
        {
         "name": "Gene1110",
         "rawType": "int64",
         "type": "integer"
        },
        {
         "name": "Gene1111",
         "rawType": "int64",
         "type": "integer"
        },
        {
         "name": "Gene1112",
         "rawType": "int64",
         "type": "integer"
        },
        {
         "name": "Gene1113",
         "rawType": "int64",
         "type": "integer"
        },
        {
         "name": "Gene1114",
         "rawType": "int64",
         "type": "integer"
        },
        {
         "name": "Gene1115",
         "rawType": "int64",
         "type": "integer"
        },
        {
         "name": "Gene1116",
         "rawType": "int64",
         "type": "integer"
        },
        {
         "name": "Gene1117",
         "rawType": "int64",
         "type": "integer"
        },
        {
         "name": "Gene1118",
         "rawType": "int64",
         "type": "integer"
        },
        {
         "name": "Gene1119",
         "rawType": "int64",
         "type": "integer"
        },
        {
         "name": "Gene1120",
         "rawType": "int64",
         "type": "integer"
        },
        {
         "name": "Gene1121",
         "rawType": "int64",
         "type": "integer"
        },
        {
         "name": "Gene1122",
         "rawType": "int64",
         "type": "integer"
        },
        {
         "name": "Gene1123",
         "rawType": "int64",
         "type": "integer"
        },
        {
         "name": "Gene1124",
         "rawType": "int64",
         "type": "integer"
        },
        {
         "name": "Gene1125",
         "rawType": "int64",
         "type": "integer"
        },
        {
         "name": "Gene1126",
         "rawType": "int64",
         "type": "integer"
        },
        {
         "name": "Gene1127",
         "rawType": "int64",
         "type": "integer"
        },
        {
         "name": "Gene1128",
         "rawType": "int64",
         "type": "integer"
        },
        {
         "name": "Gene1129",
         "rawType": "int64",
         "type": "integer"
        },
        {
         "name": "Gene1130",
         "rawType": "int64",
         "type": "integer"
        },
        {
         "name": "Gene1131",
         "rawType": "int64",
         "type": "integer"
        },
        {
         "name": "Gene1132",
         "rawType": "int64",
         "type": "integer"
        },
        {
         "name": "Gene1133",
         "rawType": "int64",
         "type": "integer"
        },
        {
         "name": "Gene1134",
         "rawType": "int64",
         "type": "integer"
        },
        {
         "name": "Gene1135",
         "rawType": "int64",
         "type": "integer"
        },
        {
         "name": "Gene1136",
         "rawType": "int64",
         "type": "integer"
        },
        {
         "name": "Gene1137",
         "rawType": "int64",
         "type": "integer"
        },
        {
         "name": "Gene1138",
         "rawType": "int64",
         "type": "integer"
        },
        {
         "name": "Gene1139",
         "rawType": "int64",
         "type": "integer"
        },
        {
         "name": "Gene1140",
         "rawType": "int64",
         "type": "integer"
        },
        {
         "name": "Gene1141",
         "rawType": "int64",
         "type": "integer"
        },
        {
         "name": "Gene1142",
         "rawType": "int64",
         "type": "integer"
        },
        {
         "name": "Gene1143",
         "rawType": "int64",
         "type": "integer"
        },
        {
         "name": "Gene1144",
         "rawType": "int64",
         "type": "integer"
        },
        {
         "name": "Gene1145",
         "rawType": "int64",
         "type": "integer"
        },
        {
         "name": "Gene1146",
         "rawType": "int64",
         "type": "integer"
        },
        {
         "name": "Gene1147",
         "rawType": "int64",
         "type": "integer"
        },
        {
         "name": "Gene1148",
         "rawType": "int64",
         "type": "integer"
        },
        {
         "name": "Gene1149",
         "rawType": "int64",
         "type": "integer"
        },
        {
         "name": "Gene1150",
         "rawType": "int64",
         "type": "integer"
        },
        {
         "name": "Gene1151",
         "rawType": "int64",
         "type": "integer"
        },
        {
         "name": "Gene1152",
         "rawType": "int64",
         "type": "integer"
        },
        {
         "name": "Gene1153",
         "rawType": "int64",
         "type": "integer"
        },
        {
         "name": "Gene1154",
         "rawType": "int64",
         "type": "integer"
        },
        {
         "name": "Gene1155",
         "rawType": "int64",
         "type": "integer"
        },
        {
         "name": "Gene1156",
         "rawType": "int64",
         "type": "integer"
        },
        {
         "name": "Gene1157",
         "rawType": "int64",
         "type": "integer"
        },
        {
         "name": "Gene1158",
         "rawType": "int64",
         "type": "integer"
        },
        {
         "name": "Gene1159",
         "rawType": "int64",
         "type": "integer"
        },
        {
         "name": "Gene1160",
         "rawType": "int64",
         "type": "integer"
        },
        {
         "name": "Gene1161",
         "rawType": "int64",
         "type": "integer"
        },
        {
         "name": "Gene1162",
         "rawType": "int64",
         "type": "integer"
        },
        {
         "name": "Gene1163",
         "rawType": "int64",
         "type": "integer"
        },
        {
         "name": "Gene1164",
         "rawType": "int64",
         "type": "integer"
        },
        {
         "name": "Gene1165",
         "rawType": "int64",
         "type": "integer"
        },
        {
         "name": "Gene1166",
         "rawType": "int64",
         "type": "integer"
        },
        {
         "name": "Gene1167",
         "rawType": "int64",
         "type": "integer"
        },
        {
         "name": "Gene1168",
         "rawType": "int64",
         "type": "integer"
        },
        {
         "name": "Gene1169",
         "rawType": "int64",
         "type": "integer"
        },
        {
         "name": "Gene1170",
         "rawType": "int64",
         "type": "integer"
        },
        {
         "name": "Gene1171",
         "rawType": "int64",
         "type": "integer"
        },
        {
         "name": "Gene1172",
         "rawType": "int64",
         "type": "integer"
        },
        {
         "name": "Gene1173",
         "rawType": "int64",
         "type": "integer"
        },
        {
         "name": "Gene1174",
         "rawType": "int64",
         "type": "integer"
        },
        {
         "name": "Gene1175",
         "rawType": "int64",
         "type": "integer"
        },
        {
         "name": "Gene1176",
         "rawType": "int64",
         "type": "integer"
        },
        {
         "name": "Gene1177",
         "rawType": "int64",
         "type": "integer"
        },
        {
         "name": "Gene1178",
         "rawType": "int64",
         "type": "integer"
        },
        {
         "name": "Gene1179",
         "rawType": "int64",
         "type": "integer"
        },
        {
         "name": "Gene1180",
         "rawType": "int64",
         "type": "integer"
        },
        {
         "name": "Gene1181",
         "rawType": "int64",
         "type": "integer"
        },
        {
         "name": "Gene1182",
         "rawType": "int64",
         "type": "integer"
        },
        {
         "name": "Gene1183",
         "rawType": "int64",
         "type": "integer"
        },
        {
         "name": "Gene1184",
         "rawType": "int64",
         "type": "integer"
        },
        {
         "name": "Gene1185",
         "rawType": "int64",
         "type": "integer"
        },
        {
         "name": "Gene1186",
         "rawType": "int64",
         "type": "integer"
        },
        {
         "name": "Gene1187",
         "rawType": "int64",
         "type": "integer"
        },
        {
         "name": "Gene1188",
         "rawType": "int64",
         "type": "integer"
        },
        {
         "name": "Gene1189",
         "rawType": "int64",
         "type": "integer"
        },
        {
         "name": "Gene1190",
         "rawType": "int64",
         "type": "integer"
        },
        {
         "name": "Gene1191",
         "rawType": "int64",
         "type": "integer"
        },
        {
         "name": "Gene1192",
         "rawType": "int64",
         "type": "integer"
        },
        {
         "name": "Gene1193",
         "rawType": "int64",
         "type": "integer"
        },
        {
         "name": "Gene1194",
         "rawType": "int64",
         "type": "integer"
        },
        {
         "name": "Gene1195",
         "rawType": "int64",
         "type": "integer"
        },
        {
         "name": "Gene1196",
         "rawType": "int64",
         "type": "integer"
        },
        {
         "name": "Gene1197",
         "rawType": "int64",
         "type": "integer"
        },
        {
         "name": "Gene1198",
         "rawType": "int64",
         "type": "integer"
        },
        {
         "name": "Gene1199",
         "rawType": "int64",
         "type": "integer"
        },
        {
         "name": "Gene1200",
         "rawType": "int64",
         "type": "integer"
        },
        {
         "name": "Gene1201",
         "rawType": "int64",
         "type": "integer"
        },
        {
         "name": "Gene1202",
         "rawType": "int64",
         "type": "integer"
        },
        {
         "name": "Gene1203",
         "rawType": "int64",
         "type": "integer"
        },
        {
         "name": "Gene1204",
         "rawType": "int64",
         "type": "integer"
        },
        {
         "name": "Gene1205",
         "rawType": "int64",
         "type": "integer"
        },
        {
         "name": "Gene1206",
         "rawType": "int64",
         "type": "integer"
        },
        {
         "name": "Gene1207",
         "rawType": "int64",
         "type": "integer"
        },
        {
         "name": "Gene1208",
         "rawType": "int64",
         "type": "integer"
        },
        {
         "name": "Gene1209",
         "rawType": "int64",
         "type": "integer"
        },
        {
         "name": "Gene1210",
         "rawType": "int64",
         "type": "integer"
        },
        {
         "name": "Gene1211",
         "rawType": "int64",
         "type": "integer"
        },
        {
         "name": "Gene1212",
         "rawType": "int64",
         "type": "integer"
        },
        {
         "name": "Gene1213",
         "rawType": "int64",
         "type": "integer"
        },
        {
         "name": "Gene1214",
         "rawType": "int64",
         "type": "integer"
        },
        {
         "name": "Gene1215",
         "rawType": "int64",
         "type": "integer"
        },
        {
         "name": "Gene1216",
         "rawType": "int64",
         "type": "integer"
        },
        {
         "name": "Gene1217",
         "rawType": "int64",
         "type": "integer"
        },
        {
         "name": "Gene1218",
         "rawType": "int64",
         "type": "integer"
        },
        {
         "name": "Gene1219",
         "rawType": "int64",
         "type": "integer"
        },
        {
         "name": "Gene1220",
         "rawType": "int64",
         "type": "integer"
        },
        {
         "name": "Gene1221",
         "rawType": "int64",
         "type": "integer"
        },
        {
         "name": "Gene1222",
         "rawType": "int64",
         "type": "integer"
        },
        {
         "name": "Gene1223",
         "rawType": "int64",
         "type": "integer"
        },
        {
         "name": "Gene1224",
         "rawType": "int64",
         "type": "integer"
        },
        {
         "name": "Gene1225",
         "rawType": "int64",
         "type": "integer"
        },
        {
         "name": "Gene1226",
         "rawType": "int64",
         "type": "integer"
        },
        {
         "name": "Gene1227",
         "rawType": "int64",
         "type": "integer"
        },
        {
         "name": "Gene1228",
         "rawType": "int64",
         "type": "integer"
        },
        {
         "name": "Gene1229",
         "rawType": "int64",
         "type": "integer"
        },
        {
         "name": "Gene1230",
         "rawType": "int64",
         "type": "integer"
        },
        {
         "name": "Gene1231",
         "rawType": "int64",
         "type": "integer"
        },
        {
         "name": "Gene1232",
         "rawType": "int64",
         "type": "integer"
        },
        {
         "name": "Gene1233",
         "rawType": "int64",
         "type": "integer"
        },
        {
         "name": "Gene1234",
         "rawType": "int64",
         "type": "integer"
        },
        {
         "name": "Gene1235",
         "rawType": "int64",
         "type": "integer"
        },
        {
         "name": "Gene1236",
         "rawType": "int64",
         "type": "integer"
        },
        {
         "name": "Gene1237",
         "rawType": "int64",
         "type": "integer"
        },
        {
         "name": "Gene1238",
         "rawType": "int64",
         "type": "integer"
        },
        {
         "name": "Gene1239",
         "rawType": "int64",
         "type": "integer"
        },
        {
         "name": "Gene1240",
         "rawType": "int64",
         "type": "integer"
        },
        {
         "name": "Gene1241",
         "rawType": "int64",
         "type": "integer"
        },
        {
         "name": "Gene1242",
         "rawType": "int64",
         "type": "integer"
        },
        {
         "name": "Gene1243",
         "rawType": "int64",
         "type": "integer"
        },
        {
         "name": "Gene1244",
         "rawType": "int64",
         "type": "integer"
        },
        {
         "name": "Gene1245",
         "rawType": "int64",
         "type": "integer"
        },
        {
         "name": "Gene1246",
         "rawType": "int64",
         "type": "integer"
        },
        {
         "name": "Gene1247",
         "rawType": "int64",
         "type": "integer"
        },
        {
         "name": "Gene1248",
         "rawType": "int64",
         "type": "integer"
        },
        {
         "name": "Gene1249",
         "rawType": "int64",
         "type": "integer"
        },
        {
         "name": "Gene1250",
         "rawType": "int64",
         "type": "integer"
        },
        {
         "name": "Gene1251",
         "rawType": "int64",
         "type": "integer"
        },
        {
         "name": "Gene1252",
         "rawType": "int64",
         "type": "integer"
        },
        {
         "name": "Gene1253",
         "rawType": "int64",
         "type": "integer"
        },
        {
         "name": "Gene1254",
         "rawType": "int64",
         "type": "integer"
        },
        {
         "name": "Gene1255",
         "rawType": "int64",
         "type": "integer"
        },
        {
         "name": "Gene1256",
         "rawType": "int64",
         "type": "integer"
        },
        {
         "name": "Gene1257",
         "rawType": "int64",
         "type": "integer"
        },
        {
         "name": "Gene1258",
         "rawType": "int64",
         "type": "integer"
        },
        {
         "name": "Gene1259",
         "rawType": "int64",
         "type": "integer"
        },
        {
         "name": "Gene1260",
         "rawType": "int64",
         "type": "integer"
        },
        {
         "name": "Gene1261",
         "rawType": "int64",
         "type": "integer"
        },
        {
         "name": "Gene1262",
         "rawType": "int64",
         "type": "integer"
        },
        {
         "name": "Gene1263",
         "rawType": "int64",
         "type": "integer"
        },
        {
         "name": "Gene1264",
         "rawType": "int64",
         "type": "integer"
        },
        {
         "name": "Gene1265",
         "rawType": "int64",
         "type": "integer"
        },
        {
         "name": "Gene1266",
         "rawType": "int64",
         "type": "integer"
        },
        {
         "name": "Gene1267",
         "rawType": "int64",
         "type": "integer"
        },
        {
         "name": "Gene1268",
         "rawType": "int64",
         "type": "integer"
        },
        {
         "name": "Gene1269",
         "rawType": "int64",
         "type": "integer"
        },
        {
         "name": "Gene1270",
         "rawType": "int64",
         "type": "integer"
        },
        {
         "name": "Gene1271",
         "rawType": "int64",
         "type": "integer"
        },
        {
         "name": "Gene1272",
         "rawType": "int64",
         "type": "integer"
        },
        {
         "name": "Gene1273",
         "rawType": "int64",
         "type": "integer"
        },
        {
         "name": "Gene1274",
         "rawType": "int64",
         "type": "integer"
        },
        {
         "name": "Gene1275",
         "rawType": "int64",
         "type": "integer"
        },
        {
         "name": "Gene1276",
         "rawType": "int64",
         "type": "integer"
        },
        {
         "name": "Gene1277",
         "rawType": "int64",
         "type": "integer"
        },
        {
         "name": "Gene1278",
         "rawType": "int64",
         "type": "integer"
        },
        {
         "name": "Gene1279",
         "rawType": "int64",
         "type": "integer"
        },
        {
         "name": "Gene1280",
         "rawType": "int64",
         "type": "integer"
        },
        {
         "name": "Gene1281",
         "rawType": "int64",
         "type": "integer"
        },
        {
         "name": "Gene1282",
         "rawType": "int64",
         "type": "integer"
        },
        {
         "name": "Gene1283",
         "rawType": "int64",
         "type": "integer"
        },
        {
         "name": "Gene1284",
         "rawType": "int64",
         "type": "integer"
        },
        {
         "name": "Gene1285",
         "rawType": "int64",
         "type": "integer"
        },
        {
         "name": "Gene1286",
         "rawType": "int64",
         "type": "integer"
        },
        {
         "name": "Gene1287",
         "rawType": "int64",
         "type": "integer"
        },
        {
         "name": "Gene1288",
         "rawType": "int64",
         "type": "integer"
        },
        {
         "name": "Gene1289",
         "rawType": "int64",
         "type": "integer"
        },
        {
         "name": "Gene1290",
         "rawType": "int64",
         "type": "integer"
        },
        {
         "name": "Gene1291",
         "rawType": "int64",
         "type": "integer"
        },
        {
         "name": "Gene1292",
         "rawType": "int64",
         "type": "integer"
        },
        {
         "name": "Gene1293",
         "rawType": "int64",
         "type": "integer"
        },
        {
         "name": "Gene1294",
         "rawType": "int64",
         "type": "integer"
        },
        {
         "name": "Gene1295",
         "rawType": "int64",
         "type": "integer"
        },
        {
         "name": "Gene1296",
         "rawType": "int64",
         "type": "integer"
        },
        {
         "name": "Gene1297",
         "rawType": "int64",
         "type": "integer"
        },
        {
         "name": "Gene1298",
         "rawType": "int64",
         "type": "integer"
        },
        {
         "name": "Gene1299",
         "rawType": "int64",
         "type": "integer"
        },
        {
         "name": "Gene1300",
         "rawType": "int64",
         "type": "integer"
        },
        {
         "name": "Gene1301",
         "rawType": "int64",
         "type": "integer"
        },
        {
         "name": "Gene1302",
         "rawType": "int64",
         "type": "integer"
        },
        {
         "name": "Gene1303",
         "rawType": "int64",
         "type": "integer"
        },
        {
         "name": "Gene1304",
         "rawType": "int64",
         "type": "integer"
        },
        {
         "name": "Gene1305",
         "rawType": "int64",
         "type": "integer"
        },
        {
         "name": "Gene1306",
         "rawType": "int64",
         "type": "integer"
        },
        {
         "name": "Gene1307",
         "rawType": "int64",
         "type": "integer"
        },
        {
         "name": "Gene1308",
         "rawType": "int64",
         "type": "integer"
        },
        {
         "name": "Gene1309",
         "rawType": "int64",
         "type": "integer"
        },
        {
         "name": "Gene1310",
         "rawType": "int64",
         "type": "integer"
        },
        {
         "name": "Gene1311",
         "rawType": "int64",
         "type": "integer"
        },
        {
         "name": "Gene1312",
         "rawType": "int64",
         "type": "integer"
        },
        {
         "name": "Gene1313",
         "rawType": "int64",
         "type": "integer"
        },
        {
         "name": "Gene1314",
         "rawType": "int64",
         "type": "integer"
        },
        {
         "name": "Gene1315",
         "rawType": "int64",
         "type": "integer"
        },
        {
         "name": "Gene1316",
         "rawType": "int64",
         "type": "integer"
        },
        {
         "name": "Gene1317",
         "rawType": "int64",
         "type": "integer"
        },
        {
         "name": "Gene1318",
         "rawType": "int64",
         "type": "integer"
        },
        {
         "name": "Gene1319",
         "rawType": "int64",
         "type": "integer"
        },
        {
         "name": "Gene1320",
         "rawType": "int64",
         "type": "integer"
        },
        {
         "name": "Gene1321",
         "rawType": "int64",
         "type": "integer"
        },
        {
         "name": "Gene1322",
         "rawType": "int64",
         "type": "integer"
        },
        {
         "name": "Gene1323",
         "rawType": "int64",
         "type": "integer"
        },
        {
         "name": "Gene1324",
         "rawType": "int64",
         "type": "integer"
        },
        {
         "name": "Gene1325",
         "rawType": "int64",
         "type": "integer"
        },
        {
         "name": "Gene1326",
         "rawType": "int64",
         "type": "integer"
        },
        {
         "name": "Gene1327",
         "rawType": "int64",
         "type": "integer"
        },
        {
         "name": "Gene1328",
         "rawType": "int64",
         "type": "integer"
        },
        {
         "name": "Gene1329",
         "rawType": "int64",
         "type": "integer"
        },
        {
         "name": "Gene1330",
         "rawType": "int64",
         "type": "integer"
        },
        {
         "name": "Gene1331",
         "rawType": "int64",
         "type": "integer"
        },
        {
         "name": "Gene1332",
         "rawType": "int64",
         "type": "integer"
        },
        {
         "name": "Gene1333",
         "rawType": "int64",
         "type": "integer"
        },
        {
         "name": "Gene1334",
         "rawType": "int64",
         "type": "integer"
        },
        {
         "name": "Gene1335",
         "rawType": "int64",
         "type": "integer"
        },
        {
         "name": "Gene1336",
         "rawType": "int64",
         "type": "integer"
        },
        {
         "name": "Gene1337",
         "rawType": "int64",
         "type": "integer"
        },
        {
         "name": "Gene1338",
         "rawType": "int64",
         "type": "integer"
        },
        {
         "name": "Gene1339",
         "rawType": "int64",
         "type": "integer"
        },
        {
         "name": "Gene1340",
         "rawType": "int64",
         "type": "integer"
        },
        {
         "name": "Gene1341",
         "rawType": "int64",
         "type": "integer"
        },
        {
         "name": "Gene1342",
         "rawType": "int64",
         "type": "integer"
        },
        {
         "name": "Gene1343",
         "rawType": "int64",
         "type": "integer"
        },
        {
         "name": "Gene1344",
         "rawType": "int64",
         "type": "integer"
        },
        {
         "name": "Gene1345",
         "rawType": "int64",
         "type": "integer"
        },
        {
         "name": "Gene1346",
         "rawType": "int64",
         "type": "integer"
        },
        {
         "name": "Gene1347",
         "rawType": "int64",
         "type": "integer"
        },
        {
         "name": "Gene1348",
         "rawType": "int64",
         "type": "integer"
        },
        {
         "name": "Gene1349",
         "rawType": "int64",
         "type": "integer"
        },
        {
         "name": "Gene1350",
         "rawType": "int64",
         "type": "integer"
        },
        {
         "name": "Gene1351",
         "rawType": "int64",
         "type": "integer"
        },
        {
         "name": "Gene1352",
         "rawType": "int64",
         "type": "integer"
        },
        {
         "name": "Gene1353",
         "rawType": "int64",
         "type": "integer"
        },
        {
         "name": "Gene1354",
         "rawType": "int64",
         "type": "integer"
        },
        {
         "name": "Gene1355",
         "rawType": "int64",
         "type": "integer"
        },
        {
         "name": "Gene1356",
         "rawType": "int64",
         "type": "integer"
        },
        {
         "name": "Gene1357",
         "rawType": "int64",
         "type": "integer"
        },
        {
         "name": "Gene1358",
         "rawType": "int64",
         "type": "integer"
        },
        {
         "name": "Gene1359",
         "rawType": "int64",
         "type": "integer"
        },
        {
         "name": "Gene1360",
         "rawType": "int64",
         "type": "integer"
        },
        {
         "name": "Gene1361",
         "rawType": "int64",
         "type": "integer"
        },
        {
         "name": "Gene1362",
         "rawType": "int64",
         "type": "integer"
        },
        {
         "name": "Gene1363",
         "rawType": "int64",
         "type": "integer"
        },
        {
         "name": "Gene1364",
         "rawType": "int64",
         "type": "integer"
        },
        {
         "name": "Gene1365",
         "rawType": "int64",
         "type": "integer"
        },
        {
         "name": "Gene1366",
         "rawType": "int64",
         "type": "integer"
        },
        {
         "name": "Gene1367",
         "rawType": "int64",
         "type": "integer"
        },
        {
         "name": "Gene1368",
         "rawType": "int64",
         "type": "integer"
        },
        {
         "name": "Gene1369",
         "rawType": "int64",
         "type": "integer"
        },
        {
         "name": "Gene1370",
         "rawType": "int64",
         "type": "integer"
        },
        {
         "name": "Gene1371",
         "rawType": "int64",
         "type": "integer"
        },
        {
         "name": "Gene1372",
         "rawType": "int64",
         "type": "integer"
        },
        {
         "name": "Gene1373",
         "rawType": "int64",
         "type": "integer"
        },
        {
         "name": "Gene1374",
         "rawType": "int64",
         "type": "integer"
        },
        {
         "name": "Gene1375",
         "rawType": "int64",
         "type": "integer"
        },
        {
         "name": "Gene1376",
         "rawType": "int64",
         "type": "integer"
        },
        {
         "name": "Gene1377",
         "rawType": "int64",
         "type": "integer"
        },
        {
         "name": "Gene1378",
         "rawType": "int64",
         "type": "integer"
        },
        {
         "name": "Gene1379",
         "rawType": "int64",
         "type": "integer"
        },
        {
         "name": "Gene1380",
         "rawType": "int64",
         "type": "integer"
        },
        {
         "name": "Gene1381",
         "rawType": "int64",
         "type": "integer"
        },
        {
         "name": "Gene1382",
         "rawType": "int64",
         "type": "integer"
        },
        {
         "name": "Gene1383",
         "rawType": "int64",
         "type": "integer"
        },
        {
         "name": "Gene1384",
         "rawType": "int64",
         "type": "integer"
        },
        {
         "name": "Gene1385",
         "rawType": "int64",
         "type": "integer"
        },
        {
         "name": "Gene1386",
         "rawType": "int64",
         "type": "integer"
        },
        {
         "name": "Gene1387",
         "rawType": "int64",
         "type": "integer"
        },
        {
         "name": "Gene1388",
         "rawType": "int64",
         "type": "integer"
        },
        {
         "name": "Gene1389",
         "rawType": "int64",
         "type": "integer"
        },
        {
         "name": "Gene1390",
         "rawType": "int64",
         "type": "integer"
        },
        {
         "name": "Gene1391",
         "rawType": "int64",
         "type": "integer"
        },
        {
         "name": "Gene1392",
         "rawType": "int64",
         "type": "integer"
        },
        {
         "name": "Gene1393",
         "rawType": "int64",
         "type": "integer"
        },
        {
         "name": "Gene1394",
         "rawType": "int64",
         "type": "integer"
        },
        {
         "name": "Gene1395",
         "rawType": "int64",
         "type": "integer"
        },
        {
         "name": "Gene1396",
         "rawType": "int64",
         "type": "integer"
        },
        {
         "name": "Gene1397",
         "rawType": "int64",
         "type": "integer"
        },
        {
         "name": "Gene1398",
         "rawType": "int64",
         "type": "integer"
        },
        {
         "name": "Gene1399",
         "rawType": "int64",
         "type": "integer"
        },
        {
         "name": "Gene1400",
         "rawType": "int64",
         "type": "integer"
        },
        {
         "name": "Gene1401",
         "rawType": "int64",
         "type": "integer"
        },
        {
         "name": "Gene1402",
         "rawType": "int64",
         "type": "integer"
        },
        {
         "name": "Gene1403",
         "rawType": "int64",
         "type": "integer"
        },
        {
         "name": "Gene1404",
         "rawType": "int64",
         "type": "integer"
        },
        {
         "name": "Gene1405",
         "rawType": "int64",
         "type": "integer"
        },
        {
         "name": "Gene1406",
         "rawType": "int64",
         "type": "integer"
        },
        {
         "name": "Gene1407",
         "rawType": "int64",
         "type": "integer"
        },
        {
         "name": "Gene1408",
         "rawType": "int64",
         "type": "integer"
        },
        {
         "name": "Gene1409",
         "rawType": "int64",
         "type": "integer"
        },
        {
         "name": "Gene1410",
         "rawType": "int64",
         "type": "integer"
        },
        {
         "name": "Gene1411",
         "rawType": "int64",
         "type": "integer"
        },
        {
         "name": "Gene1412",
         "rawType": "int64",
         "type": "integer"
        },
        {
         "name": "Gene1413",
         "rawType": "int64",
         "type": "integer"
        },
        {
         "name": "Gene1414",
         "rawType": "int64",
         "type": "integer"
        },
        {
         "name": "Gene1415",
         "rawType": "int64",
         "type": "integer"
        },
        {
         "name": "Gene1416",
         "rawType": "int64",
         "type": "integer"
        },
        {
         "name": "Gene1417",
         "rawType": "int64",
         "type": "integer"
        },
        {
         "name": "Gene1418",
         "rawType": "int64",
         "type": "integer"
        },
        {
         "name": "Gene1419",
         "rawType": "int64",
         "type": "integer"
        },
        {
         "name": "Gene1420",
         "rawType": "int64",
         "type": "integer"
        },
        {
         "name": "Gene1421",
         "rawType": "int64",
         "type": "integer"
        },
        {
         "name": "Gene1422",
         "rawType": "int64",
         "type": "integer"
        },
        {
         "name": "Gene1423",
         "rawType": "int64",
         "type": "integer"
        },
        {
         "name": "Gene1424",
         "rawType": "int64",
         "type": "integer"
        },
        {
         "name": "Gene1425",
         "rawType": "int64",
         "type": "integer"
        },
        {
         "name": "Gene1426",
         "rawType": "int64",
         "type": "integer"
        },
        {
         "name": "Gene1427",
         "rawType": "int64",
         "type": "integer"
        },
        {
         "name": "Gene1428",
         "rawType": "int64",
         "type": "integer"
        },
        {
         "name": "Gene1429",
         "rawType": "int64",
         "type": "integer"
        },
        {
         "name": "Gene1430",
         "rawType": "int64",
         "type": "integer"
        },
        {
         "name": "Gene1431",
         "rawType": "int64",
         "type": "integer"
        },
        {
         "name": "Gene1432",
         "rawType": "int64",
         "type": "integer"
        },
        {
         "name": "Gene1433",
         "rawType": "int64",
         "type": "integer"
        },
        {
         "name": "Gene1434",
         "rawType": "int64",
         "type": "integer"
        },
        {
         "name": "Gene1435",
         "rawType": "int64",
         "type": "integer"
        },
        {
         "name": "Gene1436",
         "rawType": "int64",
         "type": "integer"
        },
        {
         "name": "Gene1437",
         "rawType": "int64",
         "type": "integer"
        },
        {
         "name": "Gene1438",
         "rawType": "int64",
         "type": "integer"
        },
        {
         "name": "Gene1439",
         "rawType": "int64",
         "type": "integer"
        },
        {
         "name": "Gene1440",
         "rawType": "int64",
         "type": "integer"
        },
        {
         "name": "Gene1441",
         "rawType": "int64",
         "type": "integer"
        },
        {
         "name": "Gene1442",
         "rawType": "int64",
         "type": "integer"
        },
        {
         "name": "Gene1443",
         "rawType": "int64",
         "type": "integer"
        },
        {
         "name": "Gene1444",
         "rawType": "int64",
         "type": "integer"
        },
        {
         "name": "Gene1445",
         "rawType": "int64",
         "type": "integer"
        },
        {
         "name": "Gene1446",
         "rawType": "int64",
         "type": "integer"
        },
        {
         "name": "Gene1447",
         "rawType": "int64",
         "type": "integer"
        },
        {
         "name": "Gene1448",
         "rawType": "int64",
         "type": "integer"
        },
        {
         "name": "Gene1449",
         "rawType": "int64",
         "type": "integer"
        },
        {
         "name": "Gene1450",
         "rawType": "int64",
         "type": "integer"
        },
        {
         "name": "Gene1451",
         "rawType": "int64",
         "type": "integer"
        },
        {
         "name": "Gene1452",
         "rawType": "int64",
         "type": "integer"
        },
        {
         "name": "Gene1453",
         "rawType": "int64",
         "type": "integer"
        },
        {
         "name": "Gene1454",
         "rawType": "int64",
         "type": "integer"
        },
        {
         "name": "Gene1455",
         "rawType": "int64",
         "type": "integer"
        },
        {
         "name": "Gene1456",
         "rawType": "int64",
         "type": "integer"
        },
        {
         "name": "Gene1457",
         "rawType": "int64",
         "type": "integer"
        },
        {
         "name": "Gene1458",
         "rawType": "int64",
         "type": "integer"
        },
        {
         "name": "Gene1459",
         "rawType": "int64",
         "type": "integer"
        },
        {
         "name": "Gene1460",
         "rawType": "int64",
         "type": "integer"
        },
        {
         "name": "Gene1461",
         "rawType": "int64",
         "type": "integer"
        },
        {
         "name": "Gene1462",
         "rawType": "int64",
         "type": "integer"
        },
        {
         "name": "Gene1463",
         "rawType": "int64",
         "type": "integer"
        },
        {
         "name": "Gene1464",
         "rawType": "int64",
         "type": "integer"
        },
        {
         "name": "Gene1465",
         "rawType": "int64",
         "type": "integer"
        },
        {
         "name": "Gene1466",
         "rawType": "int64",
         "type": "integer"
        },
        {
         "name": "Gene1467",
         "rawType": "int64",
         "type": "integer"
        },
        {
         "name": "Gene1468",
         "rawType": "int64",
         "type": "integer"
        },
        {
         "name": "Gene1469",
         "rawType": "int64",
         "type": "integer"
        },
        {
         "name": "Gene1470",
         "rawType": "int64",
         "type": "integer"
        },
        {
         "name": "Gene1471",
         "rawType": "int64",
         "type": "integer"
        },
        {
         "name": "Gene1472",
         "rawType": "int64",
         "type": "integer"
        },
        {
         "name": "Gene1473",
         "rawType": "int64",
         "type": "integer"
        },
        {
         "name": "Gene1474",
         "rawType": "int64",
         "type": "integer"
        },
        {
         "name": "Gene1475",
         "rawType": "int64",
         "type": "integer"
        },
        {
         "name": "Gene1476",
         "rawType": "int64",
         "type": "integer"
        },
        {
         "name": "Gene1477",
         "rawType": "int64",
         "type": "integer"
        },
        {
         "name": "Gene1478",
         "rawType": "int64",
         "type": "integer"
        },
        {
         "name": "Gene1479",
         "rawType": "int64",
         "type": "integer"
        },
        {
         "name": "Gene1480",
         "rawType": "int64",
         "type": "integer"
        },
        {
         "name": "Gene1481",
         "rawType": "int64",
         "type": "integer"
        },
        {
         "name": "Gene1482",
         "rawType": "int64",
         "type": "integer"
        },
        {
         "name": "Gene1483",
         "rawType": "int64",
         "type": "integer"
        },
        {
         "name": "Gene1484",
         "rawType": "int64",
         "type": "integer"
        },
        {
         "name": "Gene1485",
         "rawType": "int64",
         "type": "integer"
        },
        {
         "name": "Gene1486",
         "rawType": "int64",
         "type": "integer"
        },
        {
         "name": "Gene1487",
         "rawType": "int64",
         "type": "integer"
        },
        {
         "name": "Gene1488",
         "rawType": "int64",
         "type": "integer"
        },
        {
         "name": "Gene1489",
         "rawType": "int64",
         "type": "integer"
        },
        {
         "name": "Gene1490",
         "rawType": "int64",
         "type": "integer"
        },
        {
         "name": "Gene1491",
         "rawType": "int64",
         "type": "integer"
        },
        {
         "name": "Gene1492",
         "rawType": "int64",
         "type": "integer"
        },
        {
         "name": "Gene1493",
         "rawType": "int64",
         "type": "integer"
        },
        {
         "name": "Gene1494",
         "rawType": "int64",
         "type": "integer"
        },
        {
         "name": "Gene1495",
         "rawType": "int64",
         "type": "integer"
        },
        {
         "name": "Gene1496",
         "rawType": "int64",
         "type": "integer"
        },
        {
         "name": "Gene1497",
         "rawType": "int64",
         "type": "integer"
        },
        {
         "name": "Gene1498",
         "rawType": "int64",
         "type": "integer"
        },
        {
         "name": "Gene1499",
         "rawType": "int64",
         "type": "integer"
        },
        {
         "name": "Gene1500",
         "rawType": "int64",
         "type": "integer"
        },
        {
         "name": "Gene1501",
         "rawType": "int64",
         "type": "integer"
        },
        {
         "name": "Gene1502",
         "rawType": "int64",
         "type": "integer"
        },
        {
         "name": "Gene1503",
         "rawType": "int64",
         "type": "integer"
        },
        {
         "name": "Gene1504",
         "rawType": "int64",
         "type": "integer"
        },
        {
         "name": "Gene1505",
         "rawType": "int64",
         "type": "integer"
        },
        {
         "name": "Gene1506",
         "rawType": "int64",
         "type": "integer"
        },
        {
         "name": "Gene1507",
         "rawType": "int64",
         "type": "integer"
        },
        {
         "name": "Gene1508",
         "rawType": "int64",
         "type": "integer"
        },
        {
         "name": "Gene1509",
         "rawType": "int64",
         "type": "integer"
        },
        {
         "name": "Gene1510",
         "rawType": "int64",
         "type": "integer"
        },
        {
         "name": "Gene1511",
         "rawType": "int64",
         "type": "integer"
        },
        {
         "name": "Gene1512",
         "rawType": "int64",
         "type": "integer"
        },
        {
         "name": "Gene1513",
         "rawType": "int64",
         "type": "integer"
        },
        {
         "name": "Gene1514",
         "rawType": "int64",
         "type": "integer"
        },
        {
         "name": "Gene1515",
         "rawType": "int64",
         "type": "integer"
        },
        {
         "name": "Gene1516",
         "rawType": "int64",
         "type": "integer"
        },
        {
         "name": "Gene1517",
         "rawType": "int64",
         "type": "integer"
        },
        {
         "name": "Gene1518",
         "rawType": "int64",
         "type": "integer"
        },
        {
         "name": "Gene1519",
         "rawType": "int64",
         "type": "integer"
        },
        {
         "name": "Gene1520",
         "rawType": "int64",
         "type": "integer"
        },
        {
         "name": "Gene1521",
         "rawType": "int64",
         "type": "integer"
        },
        {
         "name": "Gene1522",
         "rawType": "int64",
         "type": "integer"
        },
        {
         "name": "Gene1523",
         "rawType": "int64",
         "type": "integer"
        },
        {
         "name": "Gene1524",
         "rawType": "int64",
         "type": "integer"
        },
        {
         "name": "Gene1525",
         "rawType": "int64",
         "type": "integer"
        },
        {
         "name": "Gene1526",
         "rawType": "int64",
         "type": "integer"
        },
        {
         "name": "Gene1527",
         "rawType": "int64",
         "type": "integer"
        },
        {
         "name": "Gene1528",
         "rawType": "int64",
         "type": "integer"
        },
        {
         "name": "Gene1529",
         "rawType": "int64",
         "type": "integer"
        },
        {
         "name": "Gene1530",
         "rawType": "int64",
         "type": "integer"
        },
        {
         "name": "Gene1531",
         "rawType": "int64",
         "type": "integer"
        },
        {
         "name": "Gene1532",
         "rawType": "int64",
         "type": "integer"
        },
        {
         "name": "Gene1533",
         "rawType": "int64",
         "type": "integer"
        },
        {
         "name": "Gene1534",
         "rawType": "int64",
         "type": "integer"
        },
        {
         "name": "Gene1535",
         "rawType": "int64",
         "type": "integer"
        },
        {
         "name": "Gene1536",
         "rawType": "int64",
         "type": "integer"
        },
        {
         "name": "Gene1537",
         "rawType": "int64",
         "type": "integer"
        },
        {
         "name": "Gene1538",
         "rawType": "int64",
         "type": "integer"
        },
        {
         "name": "Gene1539",
         "rawType": "int64",
         "type": "integer"
        },
        {
         "name": "Gene1540",
         "rawType": "int64",
         "type": "integer"
        },
        {
         "name": "Gene1541",
         "rawType": "int64",
         "type": "integer"
        },
        {
         "name": "Gene1542",
         "rawType": "int64",
         "type": "integer"
        },
        {
         "name": "Gene1543",
         "rawType": "int64",
         "type": "integer"
        },
        {
         "name": "Gene1544",
         "rawType": "int64",
         "type": "integer"
        },
        {
         "name": "Gene1545",
         "rawType": "int64",
         "type": "integer"
        },
        {
         "name": "Gene1546",
         "rawType": "int64",
         "type": "integer"
        },
        {
         "name": "Gene1547",
         "rawType": "int64",
         "type": "integer"
        },
        {
         "name": "Gene1548",
         "rawType": "int64",
         "type": "integer"
        },
        {
         "name": "Gene1549",
         "rawType": "int64",
         "type": "integer"
        },
        {
         "name": "Gene1550",
         "rawType": "int64",
         "type": "integer"
        },
        {
         "name": "Gene1551",
         "rawType": "int64",
         "type": "integer"
        },
        {
         "name": "Gene1552",
         "rawType": "int64",
         "type": "integer"
        },
        {
         "name": "Gene1553",
         "rawType": "int64",
         "type": "integer"
        },
        {
         "name": "Gene1554",
         "rawType": "int64",
         "type": "integer"
        },
        {
         "name": "Gene1555",
         "rawType": "int64",
         "type": "integer"
        },
        {
         "name": "Gene1556",
         "rawType": "int64",
         "type": "integer"
        },
        {
         "name": "Gene1557",
         "rawType": "int64",
         "type": "integer"
        },
        {
         "name": "Gene1558",
         "rawType": "int64",
         "type": "integer"
        },
        {
         "name": "Gene1559",
         "rawType": "int64",
         "type": "integer"
        },
        {
         "name": "Gene1560",
         "rawType": "int64",
         "type": "integer"
        },
        {
         "name": "Gene1561",
         "rawType": "int64",
         "type": "integer"
        },
        {
         "name": "Gene1562",
         "rawType": "int64",
         "type": "integer"
        },
        {
         "name": "Gene1563",
         "rawType": "int64",
         "type": "integer"
        },
        {
         "name": "Gene1564",
         "rawType": "int64",
         "type": "integer"
        },
        {
         "name": "Gene1565",
         "rawType": "int64",
         "type": "integer"
        },
        {
         "name": "Gene1566",
         "rawType": "int64",
         "type": "integer"
        },
        {
         "name": "Gene1567",
         "rawType": "int64",
         "type": "integer"
        },
        {
         "name": "Gene1568",
         "rawType": "int64",
         "type": "integer"
        },
        {
         "name": "Gene1569",
         "rawType": "int64",
         "type": "integer"
        },
        {
         "name": "Gene1570",
         "rawType": "int64",
         "type": "integer"
        },
        {
         "name": "Gene1571",
         "rawType": "int64",
         "type": "integer"
        },
        {
         "name": "Gene1572",
         "rawType": "int64",
         "type": "integer"
        },
        {
         "name": "Gene1573",
         "rawType": "int64",
         "type": "integer"
        },
        {
         "name": "Gene1574",
         "rawType": "int64",
         "type": "integer"
        },
        {
         "name": "Gene1575",
         "rawType": "int64",
         "type": "integer"
        },
        {
         "name": "Gene1576",
         "rawType": "int64",
         "type": "integer"
        },
        {
         "name": "Gene1577",
         "rawType": "int64",
         "type": "integer"
        },
        {
         "name": "Gene1578",
         "rawType": "int64",
         "type": "integer"
        },
        {
         "name": "Gene1579",
         "rawType": "int64",
         "type": "integer"
        },
        {
         "name": "Gene1580",
         "rawType": "int64",
         "type": "integer"
        },
        {
         "name": "Gene1581",
         "rawType": "int64",
         "type": "integer"
        },
        {
         "name": "Gene1582",
         "rawType": "int64",
         "type": "integer"
        },
        {
         "name": "Gene1583",
         "rawType": "int64",
         "type": "integer"
        },
        {
         "name": "Gene1584",
         "rawType": "int64",
         "type": "integer"
        },
        {
         "name": "Gene1585",
         "rawType": "int64",
         "type": "integer"
        },
        {
         "name": "Gene1586",
         "rawType": "int64",
         "type": "integer"
        },
        {
         "name": "Gene1587",
         "rawType": "int64",
         "type": "integer"
        },
        {
         "name": "Gene1588",
         "rawType": "int64",
         "type": "integer"
        },
        {
         "name": "Gene1589",
         "rawType": "int64",
         "type": "integer"
        },
        {
         "name": "Gene1590",
         "rawType": "int64",
         "type": "integer"
        },
        {
         "name": "Gene1591",
         "rawType": "int64",
         "type": "integer"
        },
        {
         "name": "Gene1592",
         "rawType": "int64",
         "type": "integer"
        },
        {
         "name": "Gene1593",
         "rawType": "int64",
         "type": "integer"
        },
        {
         "name": "Gene1594",
         "rawType": "int64",
         "type": "integer"
        },
        {
         "name": "Gene1595",
         "rawType": "int64",
         "type": "integer"
        },
        {
         "name": "Gene1596",
         "rawType": "int64",
         "type": "integer"
        },
        {
         "name": "Gene1597",
         "rawType": "int64",
         "type": "integer"
        },
        {
         "name": "Gene1598",
         "rawType": "int64",
         "type": "integer"
        },
        {
         "name": "Gene1599",
         "rawType": "int64",
         "type": "integer"
        },
        {
         "name": "Gene1600",
         "rawType": "int64",
         "type": "integer"
        },
        {
         "name": "Gene1601",
         "rawType": "int64",
         "type": "integer"
        },
        {
         "name": "Gene1602",
         "rawType": "int64",
         "type": "integer"
        },
        {
         "name": "Gene1603",
         "rawType": "int64",
         "type": "integer"
        },
        {
         "name": "Gene1604",
         "rawType": "int64",
         "type": "integer"
        },
        {
         "name": "Gene1605",
         "rawType": "int64",
         "type": "integer"
        },
        {
         "name": "Gene1606",
         "rawType": "int64",
         "type": "integer"
        },
        {
         "name": "Gene1607",
         "rawType": "int64",
         "type": "integer"
        },
        {
         "name": "Gene1608",
         "rawType": "int64",
         "type": "integer"
        },
        {
         "name": "Gene1609",
         "rawType": "int64",
         "type": "integer"
        },
        {
         "name": "Gene1610",
         "rawType": "int64",
         "type": "integer"
        },
        {
         "name": "Gene1611",
         "rawType": "int64",
         "type": "integer"
        },
        {
         "name": "Gene1612",
         "rawType": "int64",
         "type": "integer"
        },
        {
         "name": "Gene1613",
         "rawType": "int64",
         "type": "integer"
        },
        {
         "name": "Gene1614",
         "rawType": "int64",
         "type": "integer"
        },
        {
         "name": "Gene1615",
         "rawType": "int64",
         "type": "integer"
        },
        {
         "name": "Gene1616",
         "rawType": "int64",
         "type": "integer"
        },
        {
         "name": "Gene1617",
         "rawType": "int64",
         "type": "integer"
        },
        {
         "name": "Gene1618",
         "rawType": "int64",
         "type": "integer"
        },
        {
         "name": "Gene1619",
         "rawType": "int64",
         "type": "integer"
        },
        {
         "name": "Gene1620",
         "rawType": "int64",
         "type": "integer"
        },
        {
         "name": "Gene1621",
         "rawType": "int64",
         "type": "integer"
        },
        {
         "name": "Gene1622",
         "rawType": "int64",
         "type": "integer"
        },
        {
         "name": "Gene1623",
         "rawType": "int64",
         "type": "integer"
        },
        {
         "name": "Gene1624",
         "rawType": "int64",
         "type": "integer"
        },
        {
         "name": "Gene1625",
         "rawType": "int64",
         "type": "integer"
        },
        {
         "name": "Gene1626",
         "rawType": "int64",
         "type": "integer"
        },
        {
         "name": "Gene1627",
         "rawType": "int64",
         "type": "integer"
        },
        {
         "name": "Gene1628",
         "rawType": "int64",
         "type": "integer"
        },
        {
         "name": "Gene1629",
         "rawType": "int64",
         "type": "integer"
        },
        {
         "name": "Gene1630",
         "rawType": "int64",
         "type": "integer"
        },
        {
         "name": "Gene1631",
         "rawType": "int64",
         "type": "integer"
        },
        {
         "name": "Gene1632",
         "rawType": "int64",
         "type": "integer"
        },
        {
         "name": "Gene1633",
         "rawType": "int64",
         "type": "integer"
        },
        {
         "name": "Gene1634",
         "rawType": "int64",
         "type": "integer"
        },
        {
         "name": "Gene1635",
         "rawType": "int64",
         "type": "integer"
        },
        {
         "name": "Gene1636",
         "rawType": "int64",
         "type": "integer"
        },
        {
         "name": "Gene1637",
         "rawType": "int64",
         "type": "integer"
        },
        {
         "name": "Gene1638",
         "rawType": "int64",
         "type": "integer"
        },
        {
         "name": "Gene1639",
         "rawType": "int64",
         "type": "integer"
        },
        {
         "name": "Gene1640",
         "rawType": "int64",
         "type": "integer"
        },
        {
         "name": "Gene1641",
         "rawType": "int64",
         "type": "integer"
        },
        {
         "name": "Gene1642",
         "rawType": "int64",
         "type": "integer"
        },
        {
         "name": "Gene1643",
         "rawType": "int64",
         "type": "integer"
        },
        {
         "name": "Gene1644",
         "rawType": "int64",
         "type": "integer"
        },
        {
         "name": "Gene1645",
         "rawType": "int64",
         "type": "integer"
        },
        {
         "name": "Gene1646",
         "rawType": "int64",
         "type": "integer"
        },
        {
         "name": "Gene1647",
         "rawType": "int64",
         "type": "integer"
        },
        {
         "name": "Gene1648",
         "rawType": "int64",
         "type": "integer"
        },
        {
         "name": "Gene1649",
         "rawType": "int64",
         "type": "integer"
        },
        {
         "name": "Gene1650",
         "rawType": "int64",
         "type": "integer"
        },
        {
         "name": "Gene1651",
         "rawType": "int64",
         "type": "integer"
        },
        {
         "name": "Gene1652",
         "rawType": "int64",
         "type": "integer"
        },
        {
         "name": "Gene1653",
         "rawType": "int64",
         "type": "integer"
        },
        {
         "name": "Gene1654",
         "rawType": "int64",
         "type": "integer"
        },
        {
         "name": "Gene1655",
         "rawType": "int64",
         "type": "integer"
        },
        {
         "name": "Gene1656",
         "rawType": "int64",
         "type": "integer"
        },
        {
         "name": "Gene1657",
         "rawType": "int64",
         "type": "integer"
        },
        {
         "name": "Gene1658",
         "rawType": "int64",
         "type": "integer"
        },
        {
         "name": "Gene1659",
         "rawType": "int64",
         "type": "integer"
        },
        {
         "name": "Gene1660",
         "rawType": "int64",
         "type": "integer"
        },
        {
         "name": "Gene1661",
         "rawType": "int64",
         "type": "integer"
        },
        {
         "name": "Gene1662",
         "rawType": "int64",
         "type": "integer"
        },
        {
         "name": "Gene1663",
         "rawType": "int64",
         "type": "integer"
        },
        {
         "name": "Gene1664",
         "rawType": "int64",
         "type": "integer"
        },
        {
         "name": "Gene1665",
         "rawType": "int64",
         "type": "integer"
        },
        {
         "name": "Gene1666",
         "rawType": "int64",
         "type": "integer"
        },
        {
         "name": "Gene1667",
         "rawType": "int64",
         "type": "integer"
        },
        {
         "name": "Gene1668",
         "rawType": "int64",
         "type": "integer"
        },
        {
         "name": "Gene1669",
         "rawType": "int64",
         "type": "integer"
        },
        {
         "name": "Gene1670",
         "rawType": "int64",
         "type": "integer"
        },
        {
         "name": "Gene1671",
         "rawType": "int64",
         "type": "integer"
        },
        {
         "name": "Gene1672",
         "rawType": "int64",
         "type": "integer"
        },
        {
         "name": "Gene1673",
         "rawType": "int64",
         "type": "integer"
        },
        {
         "name": "Gene1674",
         "rawType": "int64",
         "type": "integer"
        },
        {
         "name": "Gene1675",
         "rawType": "int64",
         "type": "integer"
        },
        {
         "name": "Gene1676",
         "rawType": "int64",
         "type": "integer"
        },
        {
         "name": "Gene1677",
         "rawType": "int64",
         "type": "integer"
        },
        {
         "name": "Gene1678",
         "rawType": "int64",
         "type": "integer"
        },
        {
         "name": "Gene1679",
         "rawType": "int64",
         "type": "integer"
        },
        {
         "name": "Gene1680",
         "rawType": "int64",
         "type": "integer"
        },
        {
         "name": "Gene1681",
         "rawType": "int64",
         "type": "integer"
        },
        {
         "name": "Gene1682",
         "rawType": "int64",
         "type": "integer"
        },
        {
         "name": "Gene1683",
         "rawType": "int64",
         "type": "integer"
        },
        {
         "name": "Gene1684",
         "rawType": "int64",
         "type": "integer"
        },
        {
         "name": "Gene1685",
         "rawType": "int64",
         "type": "integer"
        },
        {
         "name": "Gene1686",
         "rawType": "int64",
         "type": "integer"
        },
        {
         "name": "Gene1687",
         "rawType": "int64",
         "type": "integer"
        },
        {
         "name": "Gene1688",
         "rawType": "int64",
         "type": "integer"
        },
        {
         "name": "Gene1689",
         "rawType": "int64",
         "type": "integer"
        },
        {
         "name": "Gene1690",
         "rawType": "int64",
         "type": "integer"
        },
        {
         "name": "Gene1691",
         "rawType": "int64",
         "type": "integer"
        },
        {
         "name": "Gene1692",
         "rawType": "int64",
         "type": "integer"
        },
        {
         "name": "Gene1693",
         "rawType": "int64",
         "type": "integer"
        },
        {
         "name": "Gene1694",
         "rawType": "int64",
         "type": "integer"
        },
        {
         "name": "Gene1695",
         "rawType": "int64",
         "type": "integer"
        },
        {
         "name": "Gene1696",
         "rawType": "int64",
         "type": "integer"
        },
        {
         "name": "Gene1697",
         "rawType": "int64",
         "type": "integer"
        },
        {
         "name": "Gene1698",
         "rawType": "int64",
         "type": "integer"
        },
        {
         "name": "Gene1699",
         "rawType": "int64",
         "type": "integer"
        },
        {
         "name": "Gene1700",
         "rawType": "int64",
         "type": "integer"
        },
        {
         "name": "Gene1701",
         "rawType": "int64",
         "type": "integer"
        },
        {
         "name": "Gene1702",
         "rawType": "int64",
         "type": "integer"
        },
        {
         "name": "Gene1703",
         "rawType": "int64",
         "type": "integer"
        },
        {
         "name": "Gene1704",
         "rawType": "int64",
         "type": "integer"
        },
        {
         "name": "Gene1705",
         "rawType": "int64",
         "type": "integer"
        },
        {
         "name": "Gene1706",
         "rawType": "int64",
         "type": "integer"
        },
        {
         "name": "Gene1707",
         "rawType": "int64",
         "type": "integer"
        },
        {
         "name": "Gene1708",
         "rawType": "int64",
         "type": "integer"
        },
        {
         "name": "Gene1709",
         "rawType": "int64",
         "type": "integer"
        },
        {
         "name": "Gene1710",
         "rawType": "int64",
         "type": "integer"
        },
        {
         "name": "Gene1711",
         "rawType": "int64",
         "type": "integer"
        },
        {
         "name": "Gene1712",
         "rawType": "int64",
         "type": "integer"
        },
        {
         "name": "Gene1713",
         "rawType": "int64",
         "type": "integer"
        },
        {
         "name": "Gene1714",
         "rawType": "int64",
         "type": "integer"
        },
        {
         "name": "Gene1715",
         "rawType": "int64",
         "type": "integer"
        },
        {
         "name": "Gene1716",
         "rawType": "int64",
         "type": "integer"
        },
        {
         "name": "Gene1717",
         "rawType": "int64",
         "type": "integer"
        },
        {
         "name": "Gene1718",
         "rawType": "int64",
         "type": "integer"
        },
        {
         "name": "Gene1719",
         "rawType": "int64",
         "type": "integer"
        },
        {
         "name": "Gene1720",
         "rawType": "int64",
         "type": "integer"
        },
        {
         "name": "Gene1721",
         "rawType": "int64",
         "type": "integer"
        },
        {
         "name": "Gene1722",
         "rawType": "int64",
         "type": "integer"
        },
        {
         "name": "Gene1723",
         "rawType": "int64",
         "type": "integer"
        },
        {
         "name": "Gene1724",
         "rawType": "int64",
         "type": "integer"
        },
        {
         "name": "Gene1725",
         "rawType": "int64",
         "type": "integer"
        },
        {
         "name": "Gene1726",
         "rawType": "int64",
         "type": "integer"
        },
        {
         "name": "Gene1727",
         "rawType": "int64",
         "type": "integer"
        },
        {
         "name": "Gene1728",
         "rawType": "int64",
         "type": "integer"
        },
        {
         "name": "Gene1729",
         "rawType": "int64",
         "type": "integer"
        },
        {
         "name": "Gene1730",
         "rawType": "int64",
         "type": "integer"
        },
        {
         "name": "Gene1731",
         "rawType": "int64",
         "type": "integer"
        },
        {
         "name": "Gene1732",
         "rawType": "int64",
         "type": "integer"
        },
        {
         "name": "Gene1733",
         "rawType": "int64",
         "type": "integer"
        },
        {
         "name": "Gene1734",
         "rawType": "int64",
         "type": "integer"
        },
        {
         "name": "Gene1735",
         "rawType": "int64",
         "type": "integer"
        },
        {
         "name": "Gene1736",
         "rawType": "int64",
         "type": "integer"
        },
        {
         "name": "Gene1737",
         "rawType": "int64",
         "type": "integer"
        },
        {
         "name": "Gene1738",
         "rawType": "int64",
         "type": "integer"
        },
        {
         "name": "Gene1739",
         "rawType": "int64",
         "type": "integer"
        },
        {
         "name": "Gene1740",
         "rawType": "int64",
         "type": "integer"
        },
        {
         "name": "Gene1741",
         "rawType": "int64",
         "type": "integer"
        },
        {
         "name": "Gene1742",
         "rawType": "int64",
         "type": "integer"
        },
        {
         "name": "Gene1743",
         "rawType": "int64",
         "type": "integer"
        },
        {
         "name": "Gene1744",
         "rawType": "int64",
         "type": "integer"
        },
        {
         "name": "Gene1745",
         "rawType": "int64",
         "type": "integer"
        },
        {
         "name": "Gene1746",
         "rawType": "int64",
         "type": "integer"
        },
        {
         "name": "Gene1747",
         "rawType": "int64",
         "type": "integer"
        },
        {
         "name": "Gene1748",
         "rawType": "int64",
         "type": "integer"
        },
        {
         "name": "Gene1749",
         "rawType": "int64",
         "type": "integer"
        },
        {
         "name": "Gene1750",
         "rawType": "int64",
         "type": "integer"
        },
        {
         "name": "Gene1751",
         "rawType": "int64",
         "type": "integer"
        },
        {
         "name": "Gene1752",
         "rawType": "int64",
         "type": "integer"
        },
        {
         "name": "Gene1753",
         "rawType": "int64",
         "type": "integer"
        },
        {
         "name": "Gene1754",
         "rawType": "int64",
         "type": "integer"
        },
        {
         "name": "Gene1755",
         "rawType": "int64",
         "type": "integer"
        },
        {
         "name": "Gene1756",
         "rawType": "int64",
         "type": "integer"
        },
        {
         "name": "Gene1757",
         "rawType": "int64",
         "type": "integer"
        },
        {
         "name": "Gene1758",
         "rawType": "int64",
         "type": "integer"
        },
        {
         "name": "Gene1759",
         "rawType": "int64",
         "type": "integer"
        },
        {
         "name": "Gene1760",
         "rawType": "int64",
         "type": "integer"
        },
        {
         "name": "Gene1761",
         "rawType": "int64",
         "type": "integer"
        },
        {
         "name": "Gene1762",
         "rawType": "int64",
         "type": "integer"
        },
        {
         "name": "Gene1763",
         "rawType": "int64",
         "type": "integer"
        },
        {
         "name": "Gene1764",
         "rawType": "int64",
         "type": "integer"
        },
        {
         "name": "Gene1765",
         "rawType": "int64",
         "type": "integer"
        },
        {
         "name": "Gene1766",
         "rawType": "int64",
         "type": "integer"
        },
        {
         "name": "Gene1767",
         "rawType": "int64",
         "type": "integer"
        },
        {
         "name": "Gene1768",
         "rawType": "int64",
         "type": "integer"
        },
        {
         "name": "Gene1769",
         "rawType": "int64",
         "type": "integer"
        },
        {
         "name": "Gene1770",
         "rawType": "int64",
         "type": "integer"
        },
        {
         "name": "Gene1771",
         "rawType": "int64",
         "type": "integer"
        },
        {
         "name": "Gene1772",
         "rawType": "int64",
         "type": "integer"
        },
        {
         "name": "Gene1773",
         "rawType": "int64",
         "type": "integer"
        },
        {
         "name": "Gene1774",
         "rawType": "int64",
         "type": "integer"
        },
        {
         "name": "Gene1775",
         "rawType": "int64",
         "type": "integer"
        },
        {
         "name": "Gene1776",
         "rawType": "int64",
         "type": "integer"
        },
        {
         "name": "Gene1777",
         "rawType": "int64",
         "type": "integer"
        },
        {
         "name": "Gene1778",
         "rawType": "int64",
         "type": "integer"
        },
        {
         "name": "Gene1779",
         "rawType": "int64",
         "type": "integer"
        },
        {
         "name": "Gene1780",
         "rawType": "int64",
         "type": "integer"
        },
        {
         "name": "Gene1781",
         "rawType": "int64",
         "type": "integer"
        },
        {
         "name": "Gene1782",
         "rawType": "int64",
         "type": "integer"
        },
        {
         "name": "Gene1783",
         "rawType": "int64",
         "type": "integer"
        },
        {
         "name": "Gene1784",
         "rawType": "int64",
         "type": "integer"
        },
        {
         "name": "Gene1785",
         "rawType": "int64",
         "type": "integer"
        },
        {
         "name": "Gene1786",
         "rawType": "int64",
         "type": "integer"
        },
        {
         "name": "Gene1787",
         "rawType": "int64",
         "type": "integer"
        },
        {
         "name": "Gene1788",
         "rawType": "int64",
         "type": "integer"
        },
        {
         "name": "Gene1789",
         "rawType": "int64",
         "type": "integer"
        },
        {
         "name": "Gene1790",
         "rawType": "int64",
         "type": "integer"
        },
        {
         "name": "Gene1791",
         "rawType": "int64",
         "type": "integer"
        },
        {
         "name": "Gene1792",
         "rawType": "int64",
         "type": "integer"
        },
        {
         "name": "Gene1793",
         "rawType": "int64",
         "type": "integer"
        },
        {
         "name": "Gene1794",
         "rawType": "int64",
         "type": "integer"
        },
        {
         "name": "Gene1795",
         "rawType": "int64",
         "type": "integer"
        },
        {
         "name": "Gene1796",
         "rawType": "int64",
         "type": "integer"
        },
        {
         "name": "Gene1797",
         "rawType": "int64",
         "type": "integer"
        },
        {
         "name": "Gene1798",
         "rawType": "int64",
         "type": "integer"
        },
        {
         "name": "Gene1799",
         "rawType": "int64",
         "type": "integer"
        },
        {
         "name": "Gene1800",
         "rawType": "int64",
         "type": "integer"
        },
        {
         "name": "Gene1801",
         "rawType": "int64",
         "type": "integer"
        },
        {
         "name": "Gene1802",
         "rawType": "int64",
         "type": "integer"
        },
        {
         "name": "Gene1803",
         "rawType": "int64",
         "type": "integer"
        },
        {
         "name": "Gene1804",
         "rawType": "int64",
         "type": "integer"
        },
        {
         "name": "Gene1805",
         "rawType": "int64",
         "type": "integer"
        },
        {
         "name": "Gene1806",
         "rawType": "int64",
         "type": "integer"
        },
        {
         "name": "Gene1807",
         "rawType": "int64",
         "type": "integer"
        },
        {
         "name": "Gene1808",
         "rawType": "int64",
         "type": "integer"
        },
        {
         "name": "Gene1809",
         "rawType": "int64",
         "type": "integer"
        },
        {
         "name": "Gene1810",
         "rawType": "int64",
         "type": "integer"
        },
        {
         "name": "Gene1811",
         "rawType": "int64",
         "type": "integer"
        },
        {
         "name": "Gene1812",
         "rawType": "int64",
         "type": "integer"
        },
        {
         "name": "Gene1813",
         "rawType": "int64",
         "type": "integer"
        },
        {
         "name": "Gene1814",
         "rawType": "int64",
         "type": "integer"
        },
        {
         "name": "Gene1815",
         "rawType": "int64",
         "type": "integer"
        },
        {
         "name": "Gene1816",
         "rawType": "int64",
         "type": "integer"
        },
        {
         "name": "Gene1817",
         "rawType": "int64",
         "type": "integer"
        },
        {
         "name": "Gene1818",
         "rawType": "int64",
         "type": "integer"
        },
        {
         "name": "Gene1819",
         "rawType": "int64",
         "type": "integer"
        },
        {
         "name": "Gene1820",
         "rawType": "int64",
         "type": "integer"
        },
        {
         "name": "Gene1821",
         "rawType": "int64",
         "type": "integer"
        },
        {
         "name": "Gene1822",
         "rawType": "int64",
         "type": "integer"
        },
        {
         "name": "Gene1823",
         "rawType": "int64",
         "type": "integer"
        },
        {
         "name": "Gene1824",
         "rawType": "int64",
         "type": "integer"
        },
        {
         "name": "Gene1825",
         "rawType": "int64",
         "type": "integer"
        },
        {
         "name": "Gene1826",
         "rawType": "int64",
         "type": "integer"
        },
        {
         "name": "Gene1827",
         "rawType": "int64",
         "type": "integer"
        },
        {
         "name": "Gene1828",
         "rawType": "int64",
         "type": "integer"
        },
        {
         "name": "Gene1829",
         "rawType": "int64",
         "type": "integer"
        },
        {
         "name": "Gene1830",
         "rawType": "int64",
         "type": "integer"
        },
        {
         "name": "Gene1831",
         "rawType": "int64",
         "type": "integer"
        },
        {
         "name": "Gene1832",
         "rawType": "int64",
         "type": "integer"
        },
        {
         "name": "Gene1833",
         "rawType": "int64",
         "type": "integer"
        },
        {
         "name": "Gene1834",
         "rawType": "int64",
         "type": "integer"
        },
        {
         "name": "Gene1835",
         "rawType": "int64",
         "type": "integer"
        },
        {
         "name": "Gene1836",
         "rawType": "int64",
         "type": "integer"
        },
        {
         "name": "Gene1837",
         "rawType": "int64",
         "type": "integer"
        },
        {
         "name": "Gene1838",
         "rawType": "int64",
         "type": "integer"
        },
        {
         "name": "Gene1839",
         "rawType": "int64",
         "type": "integer"
        },
        {
         "name": "Gene1840",
         "rawType": "int64",
         "type": "integer"
        },
        {
         "name": "Gene1841",
         "rawType": "int64",
         "type": "integer"
        },
        {
         "name": "Gene1842",
         "rawType": "int64",
         "type": "integer"
        },
        {
         "name": "Gene1843",
         "rawType": "int64",
         "type": "integer"
        },
        {
         "name": "Gene1844",
         "rawType": "int64",
         "type": "integer"
        },
        {
         "name": "Gene1845",
         "rawType": "int64",
         "type": "integer"
        },
        {
         "name": "Gene1846",
         "rawType": "int64",
         "type": "integer"
        },
        {
         "name": "Gene1847",
         "rawType": "int64",
         "type": "integer"
        },
        {
         "name": "Gene1848",
         "rawType": "int64",
         "type": "integer"
        },
        {
         "name": "Gene1849",
         "rawType": "int64",
         "type": "integer"
        },
        {
         "name": "Gene1850",
         "rawType": "int64",
         "type": "integer"
        },
        {
         "name": "Gene1851",
         "rawType": "int64",
         "type": "integer"
        },
        {
         "name": "Gene1852",
         "rawType": "int64",
         "type": "integer"
        },
        {
         "name": "Gene1853",
         "rawType": "int64",
         "type": "integer"
        },
        {
         "name": "Gene1854",
         "rawType": "int64",
         "type": "integer"
        },
        {
         "name": "Gene1855",
         "rawType": "int64",
         "type": "integer"
        },
        {
         "name": "Gene1856",
         "rawType": "int64",
         "type": "integer"
        },
        {
         "name": "Gene1857",
         "rawType": "int64",
         "type": "integer"
        },
        {
         "name": "Gene1858",
         "rawType": "int64",
         "type": "integer"
        },
        {
         "name": "Gene1859",
         "rawType": "int64",
         "type": "integer"
        },
        {
         "name": "Gene1860",
         "rawType": "int64",
         "type": "integer"
        },
        {
         "name": "Gene1861",
         "rawType": "int64",
         "type": "integer"
        },
        {
         "name": "Gene1862",
         "rawType": "int64",
         "type": "integer"
        },
        {
         "name": "Gene1863",
         "rawType": "int64",
         "type": "integer"
        },
        {
         "name": "Gene1864",
         "rawType": "int64",
         "type": "integer"
        },
        {
         "name": "Gene1865",
         "rawType": "int64",
         "type": "integer"
        },
        {
         "name": "Gene1866",
         "rawType": "int64",
         "type": "integer"
        },
        {
         "name": "Gene1867",
         "rawType": "int64",
         "type": "integer"
        },
        {
         "name": "Gene1868",
         "rawType": "int64",
         "type": "integer"
        },
        {
         "name": "Gene1869",
         "rawType": "int64",
         "type": "integer"
        },
        {
         "name": "Gene1870",
         "rawType": "int64",
         "type": "integer"
        },
        {
         "name": "Gene1871",
         "rawType": "int64",
         "type": "integer"
        },
        {
         "name": "Gene1872",
         "rawType": "int64",
         "type": "integer"
        },
        {
         "name": "Gene1873",
         "rawType": "int64",
         "type": "integer"
        },
        {
         "name": "Gene1874",
         "rawType": "int64",
         "type": "integer"
        },
        {
         "name": "Gene1875",
         "rawType": "int64",
         "type": "integer"
        },
        {
         "name": "Gene1876",
         "rawType": "int64",
         "type": "integer"
        },
        {
         "name": "Gene1877",
         "rawType": "int64",
         "type": "integer"
        },
        {
         "name": "Gene1878",
         "rawType": "int64",
         "type": "integer"
        },
        {
         "name": "Gene1879",
         "rawType": "int64",
         "type": "integer"
        },
        {
         "name": "Gene1880",
         "rawType": "int64",
         "type": "integer"
        },
        {
         "name": "Gene1881",
         "rawType": "int64",
         "type": "integer"
        },
        {
         "name": "Gene1882",
         "rawType": "int64",
         "type": "integer"
        },
        {
         "name": "Gene1883",
         "rawType": "int64",
         "type": "integer"
        },
        {
         "name": "Gene1884",
         "rawType": "int64",
         "type": "integer"
        },
        {
         "name": "Gene1885",
         "rawType": "int64",
         "type": "integer"
        },
        {
         "name": "Gene1886",
         "rawType": "int64",
         "type": "integer"
        },
        {
         "name": "Gene1887",
         "rawType": "int64",
         "type": "integer"
        },
        {
         "name": "Gene1888",
         "rawType": "int64",
         "type": "integer"
        },
        {
         "name": "Gene1889",
         "rawType": "int64",
         "type": "integer"
        },
        {
         "name": "Gene1890",
         "rawType": "int64",
         "type": "integer"
        },
        {
         "name": "Gene1891",
         "rawType": "int64",
         "type": "integer"
        },
        {
         "name": "Gene1892",
         "rawType": "int64",
         "type": "integer"
        },
        {
         "name": "Gene1893",
         "rawType": "int64",
         "type": "integer"
        },
        {
         "name": "Gene1894",
         "rawType": "int64",
         "type": "integer"
        },
        {
         "name": "Gene1895",
         "rawType": "int64",
         "type": "integer"
        },
        {
         "name": "Gene1896",
         "rawType": "int64",
         "type": "integer"
        },
        {
         "name": "Gene1897",
         "rawType": "int64",
         "type": "integer"
        },
        {
         "name": "Gene1898",
         "rawType": "int64",
         "type": "integer"
        },
        {
         "name": "Gene1899",
         "rawType": "int64",
         "type": "integer"
        },
        {
         "name": "Gene1900",
         "rawType": "int64",
         "type": "integer"
        },
        {
         "name": "Gene1901",
         "rawType": "int64",
         "type": "integer"
        },
        {
         "name": "Gene1902",
         "rawType": "int64",
         "type": "integer"
        },
        {
         "name": "Gene1903",
         "rawType": "int64",
         "type": "integer"
        },
        {
         "name": "Gene1904",
         "rawType": "int64",
         "type": "integer"
        },
        {
         "name": "Gene1905",
         "rawType": "int64",
         "type": "integer"
        },
        {
         "name": "Gene1906",
         "rawType": "int64",
         "type": "integer"
        },
        {
         "name": "Gene1907",
         "rawType": "int64",
         "type": "integer"
        },
        {
         "name": "Gene1908",
         "rawType": "int64",
         "type": "integer"
        },
        {
         "name": "Gene1909",
         "rawType": "int64",
         "type": "integer"
        },
        {
         "name": "Gene1910",
         "rawType": "int64",
         "type": "integer"
        },
        {
         "name": "Gene1911",
         "rawType": "int64",
         "type": "integer"
        },
        {
         "name": "Gene1912",
         "rawType": "int64",
         "type": "integer"
        },
        {
         "name": "Gene1913",
         "rawType": "int64",
         "type": "integer"
        },
        {
         "name": "Gene1914",
         "rawType": "int64",
         "type": "integer"
        },
        {
         "name": "Gene1915",
         "rawType": "int64",
         "type": "integer"
        },
        {
         "name": "Gene1916",
         "rawType": "int64",
         "type": "integer"
        },
        {
         "name": "Gene1917",
         "rawType": "int64",
         "type": "integer"
        },
        {
         "name": "Gene1918",
         "rawType": "int64",
         "type": "integer"
        },
        {
         "name": "Gene1919",
         "rawType": "int64",
         "type": "integer"
        },
        {
         "name": "Gene1920",
         "rawType": "int64",
         "type": "integer"
        },
        {
         "name": "Gene1921",
         "rawType": "int64",
         "type": "integer"
        },
        {
         "name": "Gene1922",
         "rawType": "int64",
         "type": "integer"
        },
        {
         "name": "Gene1923",
         "rawType": "int64",
         "type": "integer"
        },
        {
         "name": "Gene1924",
         "rawType": "int64",
         "type": "integer"
        },
        {
         "name": "Gene1925",
         "rawType": "int64",
         "type": "integer"
        },
        {
         "name": "Gene1926",
         "rawType": "int64",
         "type": "integer"
        },
        {
         "name": "Gene1927",
         "rawType": "int64",
         "type": "integer"
        },
        {
         "name": "Gene1928",
         "rawType": "int64",
         "type": "integer"
        },
        {
         "name": "Gene1929",
         "rawType": "int64",
         "type": "integer"
        },
        {
         "name": "Gene1930",
         "rawType": "int64",
         "type": "integer"
        },
        {
         "name": "Gene1931",
         "rawType": "int64",
         "type": "integer"
        },
        {
         "name": "Gene1932",
         "rawType": "int64",
         "type": "integer"
        },
        {
         "name": "Gene1933",
         "rawType": "int64",
         "type": "integer"
        },
        {
         "name": "Gene1934",
         "rawType": "int64",
         "type": "integer"
        },
        {
         "name": "Gene1935",
         "rawType": "int64",
         "type": "integer"
        },
        {
         "name": "Gene1936",
         "rawType": "int64",
         "type": "integer"
        },
        {
         "name": "Gene1937",
         "rawType": "int64",
         "type": "integer"
        },
        {
         "name": "Gene1938",
         "rawType": "int64",
         "type": "integer"
        },
        {
         "name": "Gene1939",
         "rawType": "int64",
         "type": "integer"
        },
        {
         "name": "Gene1940",
         "rawType": "int64",
         "type": "integer"
        },
        {
         "name": "Gene1941",
         "rawType": "int64",
         "type": "integer"
        },
        {
         "name": "Gene1942",
         "rawType": "int64",
         "type": "integer"
        },
        {
         "name": "Gene1943",
         "rawType": "int64",
         "type": "integer"
        },
        {
         "name": "Gene1944",
         "rawType": "int64",
         "type": "integer"
        },
        {
         "name": "Gene1945",
         "rawType": "int64",
         "type": "integer"
        },
        {
         "name": "Gene1946",
         "rawType": "int64",
         "type": "integer"
        },
        {
         "name": "Gene1947",
         "rawType": "int64",
         "type": "integer"
        },
        {
         "name": "Gene1948",
         "rawType": "int64",
         "type": "integer"
        },
        {
         "name": "Gene1949",
         "rawType": "int64",
         "type": "integer"
        },
        {
         "name": "Gene1950",
         "rawType": "int64",
         "type": "integer"
        },
        {
         "name": "Gene1951",
         "rawType": "int64",
         "type": "integer"
        },
        {
         "name": "Gene1952",
         "rawType": "int64",
         "type": "integer"
        },
        {
         "name": "Gene1953",
         "rawType": "int64",
         "type": "integer"
        },
        {
         "name": "Gene1954",
         "rawType": "int64",
         "type": "integer"
        },
        {
         "name": "Gene1955",
         "rawType": "int64",
         "type": "integer"
        },
        {
         "name": "Gene1956",
         "rawType": "int64",
         "type": "integer"
        },
        {
         "name": "Gene1957",
         "rawType": "int64",
         "type": "integer"
        },
        {
         "name": "Gene1958",
         "rawType": "int64",
         "type": "integer"
        },
        {
         "name": "Gene1959",
         "rawType": "int64",
         "type": "integer"
        },
        {
         "name": "Gene1960",
         "rawType": "int64",
         "type": "integer"
        },
        {
         "name": "Gene1961",
         "rawType": "int64",
         "type": "integer"
        },
        {
         "name": "Gene1962",
         "rawType": "int64",
         "type": "integer"
        },
        {
         "name": "Gene1963",
         "rawType": "int64",
         "type": "integer"
        },
        {
         "name": "Gene1964",
         "rawType": "int64",
         "type": "integer"
        },
        {
         "name": "Gene1965",
         "rawType": "int64",
         "type": "integer"
        },
        {
         "name": "Gene1966",
         "rawType": "int64",
         "type": "integer"
        },
        {
         "name": "Gene1967",
         "rawType": "int64",
         "type": "integer"
        },
        {
         "name": "Gene1968",
         "rawType": "int64",
         "type": "integer"
        },
        {
         "name": "Gene1969",
         "rawType": "int64",
         "type": "integer"
        },
        {
         "name": "Gene1970",
         "rawType": "int64",
         "type": "integer"
        },
        {
         "name": "Gene1971",
         "rawType": "int64",
         "type": "integer"
        },
        {
         "name": "Gene1972",
         "rawType": "int64",
         "type": "integer"
        },
        {
         "name": "Gene1973",
         "rawType": "int64",
         "type": "integer"
        },
        {
         "name": "Gene1974",
         "rawType": "int64",
         "type": "integer"
        },
        {
         "name": "Gene1975",
         "rawType": "int64",
         "type": "integer"
        },
        {
         "name": "Gene1976",
         "rawType": "int64",
         "type": "integer"
        },
        {
         "name": "Gene1977",
         "rawType": "int64",
         "type": "integer"
        },
        {
         "name": "Gene1978",
         "rawType": "int64",
         "type": "integer"
        },
        {
         "name": "Gene1979",
         "rawType": "int64",
         "type": "integer"
        },
        {
         "name": "Gene1980",
         "rawType": "int64",
         "type": "integer"
        },
        {
         "name": "Gene1981",
         "rawType": "int64",
         "type": "integer"
        },
        {
         "name": "Gene1982",
         "rawType": "int64",
         "type": "integer"
        },
        {
         "name": "Gene1983",
         "rawType": "int64",
         "type": "integer"
        },
        {
         "name": "Gene1984",
         "rawType": "int64",
         "type": "integer"
        },
        {
         "name": "Gene1985",
         "rawType": "int64",
         "type": "integer"
        },
        {
         "name": "Gene1986",
         "rawType": "int64",
         "type": "integer"
        },
        {
         "name": "Gene1987",
         "rawType": "int64",
         "type": "integer"
        },
        {
         "name": "Gene1988",
         "rawType": "int64",
         "type": "integer"
        },
        {
         "name": "Gene1989",
         "rawType": "int64",
         "type": "integer"
        },
        {
         "name": "Gene1990",
         "rawType": "int64",
         "type": "integer"
        },
        {
         "name": "Gene1991",
         "rawType": "int64",
         "type": "integer"
        },
        {
         "name": "Gene1992",
         "rawType": "int64",
         "type": "integer"
        },
        {
         "name": "Gene1993",
         "rawType": "int64",
         "type": "integer"
        },
        {
         "name": "Gene1994",
         "rawType": "int64",
         "type": "integer"
        },
        {
         "name": "Gene1995",
         "rawType": "int64",
         "type": "integer"
        },
        {
         "name": "Gene1996",
         "rawType": "int64",
         "type": "integer"
        },
        {
         "name": "Gene1997",
         "rawType": "int64",
         "type": "integer"
        },
        {
         "name": "Gene1998",
         "rawType": "int64",
         "type": "integer"
        },
        {
         "name": "Gene1999",
         "rawType": "int64",
         "type": "integer"
        },
        {
         "name": "Gene2000",
         "rawType": "int64",
         "type": "integer"
        }
       ],
       "ref": "61e13eb5-228d-4e9f-ae5b-ee60d00d81e7",
       "rows": [
        [
         "Sample1",
         "9706",
         "7126",
         "10350",
         "5175",
         "12208",
         "4150",
         "3281",
         "7054",
         "7117",
         "7235",
         "2331",
         "2385",
         "2491",
         "1133",
         "5471",
         "5968",
         "2172",
         "5687",
         "1474",
         "14452",
         "815",
         "5429",
         "3294",
         "2230",
         "13892",
         "4574",
         "12975",
         "3688",
         "6344",
         "9906",
         "1806",
         "6674",
         "4420",
         "2010",
         "815",
         "9043",
         "7092",
         "3517",
         "1837",
         "6213",
         "7941",
         "8405",
         "6660",
         "18261",
         "6240",
         "6109",
         "12993",
         "1952",
         "13603",
         "279",
         "11589",
         "5413",
         "7796",
         "3744",
         "8224",
         "4968",
         "3156",
         "1481",
         "11549",
         "8977",
         "4887",
         "2674",
         "5733",
         "3008",
         "5456",
         "4951",
         "2838",
         "836",
         "805",
         "2959",
         "1764",
         "13855",
         "6467",
         "5699",
         "2750",
         "2396",
         "4260",
         "777",
         "3928",
         "5710",
         "18022",
         "3286",
         "7067",
         "2987",
         "8186",
         "4389",
         "18367",
         "21322",
         "4814",
         "10642",
         "7352",
         "3135",
         "14380",
         "2761",
         "12006",
         "1206",
         "3104",
         "24647",
         "5831",
         "3432",
         "2780",
         "1596",
         "4466",
         "2273",
         "8762",
         "6081",
         "1459",
         "2075",
         "11896",
         "9106",
         "2016",
         "5408",
         "3153",
         "6838",
         "18707",
         "4274",
         "1350",
         "9395",
         "5147",
         "5079",
         "4206",
         "18253",
         "4580",
         "10331",
         "14925",
         "5984",
         "3771",
         "2422",
         "5972",
         "4068",
         "4811",
         "3038",
         "2860",
         "2786",
         "5751",
         "19737",
         "5010",
         "3945",
         "8939",
         "10340",
         "4105",
         "7028",
         "4247",
         "18652",
         "4444",
         "5650",
         "8642",
         "3453",
         "2168",
         "6618",
         "7588",
         "4510",
         "7497",
         "4324",
         "9175",
         "3177",
         "4928",
         "1096",
         "4078",
         "9257",
         "3292",
         "3391",
         "5975",
         "4628",
         "825",
         "4648",
         "7583",
         "6081",
         "13258",
         "5091",
         "6026",
         "3920",
         "6475",
         "8431",
         "2244",
         "328",
         "4231",
         "2153",
         "3556",
         "763",
         "6687",
         "3922",
         "10515",
         "6100",
         "6496",
         "8631",
         "8501",
         "5526",
         "8622",
         "1933",
         "15560",
         "4234",
         "2219",
         "3052",
         "5601",
         "5760",
         "4580",
         "3499",
         "4256",
         "3549",
         "4217",
         "4577",
         "3255",
         "6788",
         "2607",
         "7967",
         "7636",
         "4729",
         "1510",
         "17491",
         "1916",
         "5731",
         "8224",
         "22694",
         "1028",
         "6964",
         "7438",
         "4226",
         "11333",
         "1125",
         "8525",
         "4225",
         "22100",
         "5724",
         "7283",
         "5449",
         "5067",
         "206",
         "6097",
         "4147",
         "1269",
         "1846",
         "5452",
         "4164",
         "1897",
         "1943",
         "2724",
         "3306",
         "2618",
         "1856",
         "1499",
         "21671",
         "1283",
         "5289",
         "4348",
         "12147",
         "3513",
         "7064",
         "2833",
         "1421",
         "10136",
         "13492",
         "16396",
         "16583",
         "1362",
         "9495",
         "2072",
         "3402",
         "6088",
         "18010",
         "18716",
         "8202",
         "11998",
         "2240",
         "2485",
         "807",
         "4480",
         "6994",
         "11929",
         "1611",
         "9255",
         "3015",
         "2787",
         "6781",
         "5222",
         "10594",
         "2713",
         "6863",
         "10370",
         "30199",
         "3895",
         "4769",
         "8894",
         "3474",
         "7152",
         "3475",
         "10600",
         "1353",
         "1332",
         "17109",
         "6040",
         "1601",
         "2086",
         "2114",
         "2488",
         "432",
         "6107",
         "1388",
         "3107",
         "4741",
         "10279",
         "1078",
         "9548",
         "3107",
         "4073",
         "2189",
         "7914",
         "7671",
         "2481",
         "9678",
         "2814",
         "4932",
         "13445",
         "5895",
         "5964",
         "2312",
         "5207",
         "259",
         "2016",
         "3753",
         "16335",
         "11848",
         "18304",
         "6275",
         "2981",
         "2788",
         "9188",
         "9317",
         "4313",
         "6486",
         "747",
         "4085",
         "6368",
         "3411",
         "8984",
         "7300",
         "2953",
         "4405",
         "2020",
         "7980",
         "9964",
         "8616",
         "6424",
         "3095",
         "5506",
         "8836",
         "7933",
         "4490",
         "2417",
         "5019",
         "2744",
         "5911",
         "1105",
         "2714",
         "9092",
         "7243",
         "9756",
         "4684",
         "4018",
         "5857",
         "4887",
         "8328",
         "3634",
         "5929",
         "3812",
         "2877",
         "3027",
         "5485",
         "16245",
         "3316",
         "13932",
         "6179",
         "5601",
         "5108",
         "3699",
         "9435",
         "2611",
         "8030",
         "770",
         "1772",
         "4852",
         "6704",
         "6485",
         "2026",
         "1183",
         "4653",
         "2305",
         "6226",
         "4454",
         "3590",
         "679",
         "438",
         "5803",
         "8668",
         "5435",
         "3257",
         "7320",
         "4687",
         "10474",
         "545",
         "2245",
         "12191",
         "4252",
         "7466",
         "6897",
         "4702",
         "3291",
         "4583",
         "5011",
         "12317",
         "6941",
         "2201",
         "11594",
         "2245",
         "2913",
         "3153",
         "14039",
         "3776",
         "7829",
         "1769",
         "3132",
         "5859",
         "1474",
         "8154",
         "3913",
         "25028",
         "5831",
         "6185",
         "4949",
         "5566",
         "7641",
         "4543",
         "9442",
         "6193",
         "5021",
         "5808",
         "2280",
         "6200",
         "6028",
         "3109",
         "8012",
         "2242",
         "4433",
         "4270",
         "1582",
         "579",
         "3643",
         "2464",
         "12457",
         "15729",
         "12042",
         "5840",
         "1810",
         "11906",
         "6698",
         "8193",
         "1372",
         "3244",
         "12765",
         "3878",
         "6523",
         "2529",
         "7004",
         "2439",
         "5549",
         "2984",
         "15787",
         "1995",
         "9730",
         "14715",
         "6919",
         "1878",
         "7194",
         "5203",
         "2691",
         "7903",
         "5147",
         "10976",
         "4017",
         "10002",
         "6823",
         "10682",
         "13275",
         "3453",
         "1576",
         "12333",
         "3233",
         "3493",
         "4833",
         "2231",
         "4128",
         "8172",
         "10254",
         "1871",
         "2012",
         "7537",
         "1955",
         "498",
         "519",
         "13271",
         "727",
         "2290",
         "4778",
         "17367",
         "6643",
         "1840",
         "8549",
         "6008",
         "2691",
         "11822",
         "6391",
         "4718",
         "6915",
         "2326",
         "7080",
         "11890",
         "5429",
         "2379",
         "10079",
         "3359",
         "2434",
         "13419",
         "8990",
         "10659",
         "2163",
         "5876",
         "4053",
         "5526",
         "3672",
         "6227",
         "14947",
         "6014",
         "10758",
         "868",
         "6221",
         "7595",
         "3224",
         "2524",
         "3225",
         "11713",
         "3276",
         "7807",
         "6537",
         "10070",
         "7811",
         "13220",
         "9066",
         "4240",
         "4331",
         "4653",
         "5049",
         "2360",
         "17250",
         "4074",
         "6899",
         "5413",
         "7030",
         "2490",
         "14366",
         "3702",
         "3961",
         "491",
         "471",
         "7428",
         "1750",
         "1930",
         "4499",
         "2620",
         "1309",
         "2962",
         "4900",
         "5818",
         "10975",
         "7524",
         "8228",
         "5122",
         "1971",
         "2314",
         "4018",
         "1769",
         "1327",
         "3299",
         "3081",
         "4995",
         "3332",
         "1794",
         "1453",
         "2128",
         "5504",
         "2195",
         "12282",
         "6417",
         "643",
         "2730",
         "7571",
         "14959",
         "11769",
         "8374",
         "7702",
         "1718",
         "12406",
         "4167",
         "2723",
         "9694",
         "10805",
         "1885",
         "1093",
         "4749",
         "3962",
         "6843",
         "772",
         "3322",
         "5019",
         "5855",
         "4006",
         "751",
         "6010",
         "2872",
         "4604",
         "6033",
         "16189",
         "14006",
         "9071",
         "9517",
         "5992",
         "9191",
         "5800",
         "3345",
         "13191",
         "8866",
         "719",
         "9719",
         "11006",
         "743",
         "5800",
         "18328",
         "2057",
         "3598",
         "8635",
         "4119",
         "3674",
         "1363",
         "1959",
         "3090",
         "8112",
         "1320",
         "19427",
         "6587",
         "1040",
         "3687",
         "1890",
         "3023",
         "7058",
         "3596",
         "1024",
         "2526",
         "5529",
         "25150",
         "8148",
         "5731",
         "5365",
         "2325",
         "5036",
         "8077",
         "955",
         "3496",
         "3898",
         "14196",
         "6714",
         "9679",
         "3396",
         "3050",
         "1550",
         "13177",
         "8606",
         "11042",
         "9517",
         "5255",
         "5525",
         "4329",
         "4954",
         "10889",
         "4996",
         "5619",
         "8406",
         "12224",
         "2504",
         "7702",
         "6440",
         "10397",
         "10449",
         "4257",
         "6581",
         "5670",
         "9292",
         "1536",
         "2551",
         "1209",
         "3657",
         "3088",
         "374",
         "9907",
         "3052",
         "6962",
         "7204",
         "9418",
         "1455",
         "10566",
         "4533",
         "2261",
         "7603",
         "7325",
         "3252",
         "5403",
         "11362",
         "4321",
         "7137",
         "4713",
         "9048",
         "3187",
         "7020",
         "4837",
         "8373",
         "5759",
         "1385",
         "5015",
         "6048",
         "6317",
         "9569",
         "8074",
         "918",
         "16860",
         "8156",
         "7555",
         "4771",
         "9505",
         "2981",
         "1556",
         "5518",
         "6116",
         "10576",
         "6030",
         "21454",
         "2730",
         "1327",
         "10889",
         "2410",
         "1497",
         "8507",
         "1253",
         "15780",
         "2407",
         "7039",
         "2394",
         "8744",
         "11219",
         "1191",
         "1416",
         "6410",
         "10807",
         "4109",
         "13346",
         "7012",
         "2181",
         "4969",
         "2831",
         "11132",
         "8334",
         "429",
         "1241",
         "1192",
         "9199",
         "8830",
         "3949",
         "893",
         "3115",
         "7055",
         "1707",
         "3582",
         "9619",
         "9162",
         "8311",
         "1266",
         "7263",
         "3117",
         "5683",
         "10704",
         "3497",
         "1867",
         "1164",
         "12899",
         "5189",
         "10222",
         "1621",
         "6377",
         "3761",
         "1028",
         "9935",
         "5224",
         "8683",
         "892",
         "3829",
         "8111",
         "12506",
         "2745",
         "2092",
         "5291",
         "4416",
         "2270",
         "1946",
         "6949",
         "994",
         "2497",
         "3083",
         "4730",
         "1450",
         "2076",
         "7928",
         "13049",
         "9079",
         "5807",
         "13254",
         "1673",
         "4680",
         "3907",
         "3079",
         "2261",
         "5825",
         "11453",
         "7864",
         "9771",
         "8032",
         "5801",
         "2009",
         "2501",
         "2481",
         "10931",
         "3464",
         "5093",
         "5097",
         "5799",
         "1245",
         "813",
         "4147",
         "2334",
         "8157",
         "6368",
         "6842",
         "6872",
         "3109",
         "3078",
         "3933",
         "4969",
         "960",
         "10254",
         "9343",
         "8580",
         "7140",
         "15105",
         "1320",
         "5973",
         "10495",
         "4071",
         "2664",
         "188",
         "7851",
         "5266",
         "2960",
         "2917",
         "7953",
         "3705",
         "10033",
         "14595",
         "6868",
         "8576",
         "6462",
         "5827",
         "7368",
         "7170",
         "11756",
         "11831",
         "1124",
         "1167",
         "2303",
         "15484",
         "3556",
         "1394",
         "9671",
         "3684",
         "16347",
         "17648",
         "8057",
         "4555",
         "2121",
         "5821",
         "1365",
         "16723",
         "533",
         "3551",
         "16365",
         "9702",
         "13069",
         "6145",
         "2699",
         "1387",
         "2273",
         "431",
         "1471",
         "3816",
         "4661",
         "7977",
         "7773",
         "4960",
         "3080",
         "6212",
         "5655",
         "8891",
         "6247",
         "4223",
         "3170",
         "5551",
         "1232",
         "1043",
         "2544",
         "7521",
         "9875",
         "3976",
         "8556",
         "5379",
         "7031",
         "1150",
         "7221",
         "5050",
         "3066",
         "11847",
         "5211",
         "8549",
         "12611",
         "6260",
         "1954",
         "8322",
         "8039",
         "7083",
         "3690",
         "3403",
         "3580",
         "11685",
         "2087",
         "327",
         "5363",
         "12311",
         "5615",
         "3164",
         "2099",
         "4221",
         "6223",
         "2332",
         "1558",
         "3294",
         "1966",
         "11777",
         "3680",
         "6133",
         "8894",
         "9279",
         "7589",
         "5864",
         "6465",
         "1390",
         "9432",
         "1623",
         "3298",
         "354",
         "9067",
         "12884",
         "3285",
         "8714",
         "4134",
         "3418",
         "4948",
         "8706",
         "5041",
         "6214",
         "4027",
         "1787",
         "8995",
         "3945",
         "4818",
         "5308",
         "5776",
         "842",
         "3927",
         "2017",
         "2760",
         "5398",
         "8185",
         "5607",
         "1110",
         "10846",
         "9699",
         "2176",
         "4557",
         "9234",
         "3153",
         "11769",
         "3944",
         "3775",
         "5817",
         "3017",
         "5872",
         "1789",
         "2635",
         "8011",
         "299",
         "6041",
         "12438",
         "9996",
         "3915",
         "6708",
         "5950",
         "1266",
         "9019",
         "4496",
         "5598",
         "6104",
         "4685",
         "1938",
         "2582",
         "3106",
         "9319",
         "5130",
         "8906",
         "26007",
         "1756",
         "11172",
         "5457",
         "5546",
         "3782",
         "2154",
         "11821",
         "7118",
         "666",
         "9138",
         "2475",
         "10611",
         "15250",
         "3820",
         "1845",
         "707",
         "6507",
         "3026",
         "8120",
         "8368",
         "3559",
         "14036",
         "9730",
         "14842",
         "3037",
         "4978",
         "3873",
         "2518",
         "12029",
         "4817",
         "3770",
         "1578",
         "5308",
         "5891",
         "1154",
         "4800",
         "2746",
         "6438",
         "9532",
         "2437",
         "3671",
         "2089",
         "5133",
         "6646",
         "6876",
         "6040",
         "17906",
         "8967",
         "8469",
         "12017",
         "7789",
         "7232",
         "3598",
         "6437",
         "7393",
         "7376",
         "5761",
         "4858",
         "6583",
         "2789",
         "1520",
         "1266",
         "2077",
         "9510",
         "2805",
         "15815",
         "11333",
         "2233",
         "3611",
         "2021",
         "1676",
         "975",
         "3692",
         "2150",
         "9440",
         "3014",
         "1580",
         "22269",
         "1174",
         "2966",
         "5604",
         "2937",
         "3768",
         "3597",
         "4493",
         "3699",
         "3607",
         "4157",
         "3752",
         "14046",
         "1953",
         "5465",
         "2477",
         "7447",
         "3065",
         "2876",
         "734",
         "12579",
         "4252",
         "622",
         "10538",
         "9137",
         "10243",
         "5225",
         "5986",
         "4761",
         "6123",
         "11901",
         "10573",
         "5154",
         "6783",
         "9808",
         "5511",
         "3315",
         "6047",
         "9706",
         "7542",
         "1554",
         "3027",
         "2435",
         "6175",
         "16180",
         "5131",
         "6912",
         "3493",
         "9036",
         "1398",
         "1481",
         "10039",
         "12374",
         "6870",
         "7580",
         "4982",
         "6746",
         "1153",
         "2498",
         "7081",
         "6260",
         "1921",
         "4311",
         "2359",
         "7722",
         "2636",
         "6007",
         "5983",
         "2292",
         "3752",
         "13275",
         "6649",
         "1089",
         "402",
         "11331",
         "6731",
         "13388",
         "9636",
         "1379",
         "5859",
         "7623",
         "3796",
         "1891",
         "2988",
         "5765",
         "7345",
         "4735",
         "1157",
         "3316",
         "9394",
         "2697",
         "6713",
         "6405",
         "5777",
         "7914",
         "2784",
         "3659",
         "4137",
         "7185",
         "9135",
         "3005",
         "12051",
         "1690",
         "761",
         "7736",
         "3626",
         "1181",
         "16401",
         "5510",
         "8110",
         "11156",
         "961",
         "8934",
         "4905",
         "2713",
         "7089",
         "7331",
         "4475",
         "16234",
         "9716",
         "2318",
         "7085",
         "16756",
         "4763",
         "4820",
         "3735",
         "2593",
         "2221",
         "6111",
         "16070",
         "4764",
         "10583",
         "3622",
         "4477",
         "10023",
         "7237",
         "6924",
         "1601",
         "3661",
         "7586",
         "8753",
         "5951",
         "12303",
         "4645",
         "10390",
         "1978",
         "6174",
         "11242",
         "5531",
         "11958",
         "7139",
         "6125",
         "7579",
         "15357",
         "5817",
         "736",
         "4053",
         "10113",
         "4302",
         "2462",
         "4886",
         "2119",
         "12445",
         "5903",
         "9972",
         "8161",
         "3401",
         "1837",
         "230",
         "4671",
         "11897",
         "5970",
         "4922",
         "8499",
         "4577",
         "4179",
         "11083",
         "2967",
         "3247",
         "5360",
         "5572",
         "3820",
         "5136",
         "17008",
         "17409",
         "4724",
         "6058",
         "3875",
         "6195",
         "1363",
         "5493",
         "1683",
         "4420",
         "1845",
         "1525",
         "2449",
         "7817",
         "711",
         "9342",
         "2232",
         "5460",
         "1891",
         "9591",
         "6390",
         "5794",
         "6646",
         "9479",
         "4861",
         "5855",
         "3529",
         "6043",
         "6924",
         "19501",
         "3650",
         "10545",
         "11897",
         "12185",
         "6991",
         "1192",
         "8593",
         "2592",
         "3680",
         "4360",
         "891",
         "14213",
         "949",
         "715",
         "14652",
         "12910",
         "4711",
         "6337",
         "8940",
         "255",
         "2191",
         "3122",
         "15588",
         "2646",
         "5069",
         "9224",
         "1206",
         "13496",
         "3880",
         "7429",
         "4947",
         "21967",
         "8960",
         "3477",
         "4760",
         "2786",
         "4179",
         "5346",
         "5932",
         "24462",
         "359",
         "1165",
         "6547",
         "5051",
         "8582",
         "6582",
         "10401",
         "17248",
         "5737",
         "1300",
         "5080",
         "21163",
         "6465",
         "4830",
         "2290",
         "4475",
         "2762",
         "2523",
         "4701",
         "6824",
         "1043",
         "13798",
         "8704",
         "8280",
         "6787",
         "2242",
         "4641",
         "12683",
         "3220",
         "1782",
         "2885",
         "12331",
         "155",
         "9685",
         "8723",
         "6758",
         "964",
         "4537",
         "8192",
         "4429",
         "6746",
         "3665",
         "7645",
         "8903",
         "5231",
         "3717",
         "9506",
         "11070",
         "4851",
         "2433",
         "22895",
         "11982",
         "13855",
         "2827",
         "2332",
         "1321",
         "3060",
         "1188",
         "8455",
         "15291",
         "2469",
         "12914",
         "723",
         "5388",
         "10637",
         "3919",
         "5875",
         "5957",
         "8487",
         "801",
         "1625",
         "6870",
         "3537",
         "6197",
         "6051",
         "3304",
         "2921",
         "14914",
         "9284",
         "11206",
         "6511",
         "17075",
         "4866",
         "7613",
         "10191",
         "1226",
         "1586",
         "1242",
         "2635",
         "20198",
         "786",
         "9745",
         "6333",
         "3364",
         "4023",
         "4611",
         "10654",
         "3312",
         "1966",
         "5440",
         "3108",
         "6953",
         "1118",
         "7912",
         "6288",
         "3811",
         "5127",
         "2961",
         "1669",
         "11961",
         "4680",
         "1984",
         "2790",
         "2325",
         "5541",
         "2086",
         "15137",
         "9727",
         "2293",
         "1789",
         "14161",
         "6532",
         "5908",
         "6159",
         "5863",
         "7615",
         "6528",
         "2421",
         "2804",
         "2553",
         "9674",
         "7007",
         "8081",
         "3203",
         "1297",
         "2465",
         "2222",
         "1715",
         "2649",
         "9232",
         "4386",
         "349",
         "1333",
         "2006",
         "3134",
         "5850",
         "2187",
         "3696",
         "12867",
         "4069",
         "5493",
         "1068",
         "4024",
         "2167",
         "6995",
         "5453",
         "3928",
         "3359",
         "4325",
         "1322",
         "10664",
         "2936",
         "10763",
         "25285",
         "1802",
         "2579",
         "5778",
         "3546",
         "7209",
         "6649",
         "2832",
         "10265",
         "2646",
         "5618",
         "1246",
         "7416",
         "11079",
         "4384",
         "3449",
         "15438",
         "17337",
         "3918",
         "5487",
         "5365",
         "2957",
         "1162",
         "5738",
         "3493",
         "19767",
         "2592",
         "9867",
         "6924",
         "3458",
         "11257",
         "8476",
         "6208",
         "5883",
         "6564",
         "6683",
         "3226",
         "8878",
         "6002",
         "1807",
         "5660",
         "8981",
         "5830",
         "7167",
         "11664",
         "10047",
         "7720",
         "11736",
         "5356",
         "11276",
         "12207",
         "7055",
         "3895",
         "3441",
         "2542",
         "2794",
         "14437",
         "4585",
         "4884",
         "1392",
         "2071",
         "2741",
         "14463",
         "1797",
         "957",
         "5561",
         "7330",
         "7141",
         "11048",
         "4276",
         "6409",
         "3793",
         "6549",
         "1842",
         "2277",
         "12232",
         "3244",
         "2667",
         "6190",
         "1853",
         "9984",
         "13033",
         "702",
         "1533",
         "3455",
         "608",
         "1548",
         "2935",
         "3143",
         "5622",
         "5969",
         "8866",
         "1819",
         "3270",
         "5344",
         "10381",
         "1866",
         "4641",
         "4845",
         "3186",
         "1696",
         "6236",
         "1799",
         "8676",
         "5076",
         "9340",
         "15360",
         "4823",
         "7886",
         "4966",
         "7821",
         "6608",
         "5313",
         "14376",
         "1648",
         "7688",
         "26661",
         "773",
         "573",
         "4698",
         "8125",
         "3075",
         "3212",
         "1386",
         "773",
         "5238",
         "1836",
         "8373",
         "2187",
         "13653",
         "1566",
         "2151",
         "8099",
         "6933",
         "8678",
         "918",
         "6525",
         "3939",
         "15811",
         "1269",
         "3672",
         "2621",
         "3091",
         "6044",
         "6341",
         "6109",
         "8497",
         "1206",
         "1125",
         "9252",
         "1119",
         "12429",
         "6024",
         "2819",
         "7368",
         "9679",
         "4648",
         "504",
         "1141",
         "1410",
         "7759",
         "1687",
         "5571",
         "3231",
         "11201",
         "5601",
         "6000",
         "6080",
         "3425",
         "3488",
         "7192",
         "2962",
         "2162",
         "1140",
         "16083",
         "6758",
         "7400",
         "6923",
         "6534",
         "1456",
         "1311",
         "6949",
         "7661",
         "2193",
         "4396",
         "6395",
         "7847",
         "8952",
         "5607",
         "5571",
         "3885",
         "9584",
         "10279",
         "6063",
         "10019",
         "10246",
         "10446",
         "5459",
         "6927",
         "8657",
         "10812",
         "3763",
         "11418",
         "1628",
         "3191",
         "4987",
         "23876",
         "7663",
         "3866",
         "7776",
         "923",
         "1609",
         "4377",
         "6818",
         "8422",
         "7489",
         "10715",
         "3253",
         "5713",
         "1586",
         "8018",
         "1637",
         "9774",
         "3799",
         "5793",
         "1813",
         "578",
         "3051",
         "2378",
         "800",
         "674",
         "7198",
         "4780",
         "13815",
         "1751",
         "7290",
         "12821",
         "629",
         "4902",
         "7453",
         "2362",
         "7061",
         "6026",
         "10784",
         "1833",
         "6579",
         "5235",
         "2778",
         "20660",
         "18367",
         "6711",
         "970",
         "6463",
         "9711",
         "7818",
         "4649",
         "2367",
         "4110",
         "8028",
         "14617",
         "7525",
         "1897",
         "7029",
         "2451",
         "9138",
         "9740",
         "2303",
         "6456",
         "4369",
         "4406",
         "5827",
         "4861",
         "3783",
         "2901",
         "13053",
         "6347",
         "3819",
         "1801",
         "3241",
         "4322",
         "4972",
         "5363",
         "2835",
         "5314",
         "2804",
         "12770",
         "2916",
         "2201",
         "4438",
         "1899",
         "3698",
         "11445",
         "12105",
         "2530",
         "24012",
         "6396",
         "4534",
         "4047",
         "5833",
         "7550",
         "12007",
         "7513",
         "872",
         "4408",
         "4553",
         "1116",
         "4995",
         "4513",
         "7874",
         "12489",
         "855",
         "5109",
         "2035",
         "3259",
         "874",
         "908",
         "7475",
         "4851",
         "5271",
         "4715",
         "9489",
         "4564",
         "4950",
         "10011",
         "4129",
         "4597",
         "9079",
         "4536",
         "3516",
         "2772",
         "1307",
         "9236",
         "2597",
         "891",
         "11630",
         "1867",
         "5152",
         "13243",
         "15785",
         "2343",
         "3040",
         "2940",
         "9532",
         "989",
         "6479",
         "3484",
         "7892",
         "5543",
         "5891",
         "12244",
         "705",
         "1420",
         "796",
         "1841",
         "1509",
         "10082",
         "5960",
         "7556",
         "7739",
         "2848",
         "7711",
         "6462",
         "1291",
         "5332",
         "13356",
         "8262",
         "5651",
         "12056",
         "17506",
         "4742",
         "9496",
         "7686",
         "6733",
         "11967",
         "1659",
         "3343",
         "4771",
         "8920",
         "8606",
         "8384",
         "15325",
         "3140",
         "7743",
         "2383",
         "17978",
         "3948",
         "4458",
         "2246",
         "4624",
         "6536",
         "7811",
         "8472",
         "7952",
         "5096",
         "7671",
         "2348",
         "2418",
         "2160",
         "9701",
         "5856",
         "1697",
         "6195",
         "20942",
         "3974",
         "4636",
         "5856",
         "10379",
         "8296",
         "1984",
         "2569",
         "2751",
         "10020",
         "4214",
         "2375",
         "14064",
         "2746",
         "710",
         "1761",
         "3879",
         "15882",
         "9496",
         "1900",
         "1106",
         "7580",
         "5580",
         "15873",
         "2577",
         "3963",
         "4221",
         "7251",
         "4977",
         "3715",
         "7880",
         "13905",
         "6408",
         "4272",
         "8908",
         "6736",
         "11438",
         "6310",
         "4205",
         "747",
         "1568",
         "2602",
         "5994",
         "3677",
         "15892",
         "1420",
         "1642",
         "3403",
         "4894",
         "8479",
         "4077",
         "3186",
         "1120",
         "6807",
         "7788",
         "4694",
         "8772",
         "9770",
         "1662",
         "10727",
         "5873",
         "3660",
         "1761",
         "1210",
         "15021",
         "479",
         "4678",
         "1810",
         "7551",
         "2806",
         "4466",
         "1682"
        ],
        [
         "Sample2",
         "39508",
         "28960",
         "42201",
         "21008",
         "49160",
         "17230",
         "13320",
         "28572",
         "28582",
         "29179",
         "9359",
         "9510",
         "10283",
         "4962",
         "22309",
         "24114",
         "9160",
         "22747",
         "6017",
         "58941",
         "3375",
         "21699",
         "13506",
         "9016",
         "56569",
         "19052",
         "53052",
         "14514",
         "25622",
         "40197",
         "7327",
         "26929",
         "17571",
         "8286",
         "3451",
         "37379",
         "28506",
         "14159",
         "7394",
         "25557",
         "32422",
         "33547",
         "27198",
         "73996",
         "24686",
         "24422",
         "53203",
         "7622",
         "55026",
         "1124",
         "47387",
         "21921",
         "31752",
         "15456",
         "33511",
         "20174",
         "12851",
         "6369",
         "46230",
         "37439",
         "20117",
         "10839",
         "23310",
         "12209",
         "22070",
         "19995",
         "11564",
         "3580",
         "3344",
         "12183",
         "7162",
         "55677",
         "26213",
         "23309",
         "11395",
         "9499",
         "17109",
         "3310",
         "16010",
         "23076",
         "74192",
         "13201",
         "29098",
         "12088",
         "32972",
         "18238",
         "73474",
         "86600",
         "19570",
         "42456",
         "29572",
         "12593",
         "57862",
         "11465",
         "48306",
         "4678",
         "12237",
         "99719",
         "23836",
         "13479",
         "11686",
         "6289",
         "17987",
         "9265",
         "35750",
         "24614",
         "5720",
         "8703",
         "48378",
         "36553",
         "8120",
         "21912",
         "12988",
         "28315",
         "76210",
         "17283",
         "5441",
         "38338",
         "20776",
         "20391",
         "17434",
         "73818",
         "18772",
         "42691",
         "59455",
         "24139",
         "15190",
         "9868",
         "23922",
         "16939",
         "19862",
         "12318",
         "11730",
         "11215",
         "23695",
         "80785",
         "20757",
         "15978",
         "36579",
         "42506",
         "17273",
         "28678",
         "17298",
         "76137",
         "17899",
         "22936",
         "35153",
         "14066",
         "8415",
         "27289",
         "31517",
         "18011",
         "30958",
         "17654",
         "37106",
         "13054",
         "19861",
         "4523",
         "16568",
         "37298",
         "13788",
         "13518",
         "24523",
         "18912",
         "3172",
         "19377",
         "31226",
         "25109",
         "54018",
         "20454",
         "24213",
         "15958",
         "26210",
         "34501",
         "9056",
         "1297",
         "17488",
         "9017",
         "13944",
         "3350",
         "27470",
         "15548",
         "43831",
         "25359",
         "26955",
         "35138",
         "34546",
         "22148",
         "34848",
         "7894",
         "63138",
         "17485",
         "8678",
         "12239",
         "22740",
         "23810",
         "19043",
         "13969",
         "17299",
         "14507",
         "17322",
         "18565",
         "13025",
         "28292",
         "10596",
         "32093",
         "31346",
         "18990",
         "6257",
         "70603",
         "7793",
         "23789",
         "33182",
         "92534",
         "4215",
         "27647",
         "30303",
         "17055",
         "46297",
         "4728",
         "33856",
         "16518",
         "89223",
         "23389",
         "29472",
         "21824",
         "20728",
         "924",
         "24971",
         "16463",
         "5159",
         "7267",
         "21842",
         "16441",
         "7832",
         "8293",
         "11315",
         "13574",
         "10792",
         "7506",
         "6407",
         "86856",
         "5197",
         "21473",
         "17528",
         "49358",
         "14122",
         "28490",
         "11270",
         "5644",
         "40983",
         "55213",
         "66137",
         "66941",
         "5461",
         "38229",
         "8282",
         "13403",
         "24519",
         "72562",
         "74838",
         "32357",
         "48336",
         "9458",
         "10376",
         "3216",
         "18405",
         "28185",
         "49183",
         "6388",
         "38010",
         "12478",
         "11454",
         "27617",
         "21409",
         "42377",
         "10888",
         "27354",
         "42013",
         "122543",
         "15575",
         "18997",
         "36509",
         "14148",
         "29577",
         "14463",
         "43419",
         "5557",
         "5606",
         "69339",
         "24197",
         "6543",
         "8416",
         "8403",
         "9940",
         "1782",
         "24569",
         "5593",
         "12616",
         "19133",
         "41891",
         "4105",
         "38785",
         "12282",
         "16309",
         "8969",
         "32247",
         "31471",
         "10052",
         "39211",
         "11076",
         "19716",
         "54302",
         "23744",
         "23811",
         "9356",
         "20687",
         "1141",
         "8365",
         "15717",
         "65855",
         "48232",
         "74316",
         "25313",
         "12347",
         "11191",
         "37341",
         "37194",
         "17800",
         "26751",
         "2845",
         "16545",
         "25754",
         "13892",
         "36043",
         "29186",
         "12000",
         "17871",
         "8194",
         "32313",
         "40331",
         "35262",
         "26724",
         "12836",
         "21403",
         "35594",
         "32148",
         "18517",
         "9857",
         "19875",
         "11058",
         "24105",
         "4472",
         "10705",
         "37458",
         "29146",
         "39606",
         "19323",
         "16762",
         "23793",
         "20039",
         "34122",
         "14548",
         "24728",
         "15768",
         "11512",
         "12315",
         "21978",
         "66153",
         "13886",
         "56471",
         "24766",
         "22389",
         "20886",
         "14992",
         "38544",
         "10535",
         "32526",
         "3125",
         "7220",
         "19522",
         "26530",
         "26148",
         "8423",
         "4736",
         "18264",
         "9231",
         "25776",
         "17884",
         "14343",
         "2647",
         "1762",
         "23342",
         "35436",
         "21952",
         "13207",
         "29377",
         "18379",
         "42885",
         "2155",
         "9073",
         "49326",
         "17459",
         "30319",
         "27787",
         "18679",
         "13540",
         "18035",
         "19764",
         "50000",
         "28704",
         "8657",
         "47055",
         "9449",
         "11947",
         "12569",
         "57010",
         "14661",
         "31541",
         "7243",
         "12189",
         "24425",
         "5816",
         "33058",
         "15992",
         "102711",
         "23773",
         "25423",
         "20231",
         "23146",
         "30850",
         "18377",
         "38295",
         "25324",
         "19846",
         "23426",
         "9416",
         "25107",
         "25179",
         "12235",
         "32440",
         "9294",
         "18478",
         "17014",
         "6443",
         "2383",
         "15070",
         "9877",
         "50633",
         "63192",
         "48267",
         "24243",
         "7055",
         "48844",
         "27395",
         "32523",
         "5622",
         "12772",
         "51101",
         "15123",
         "26452",
         "10302",
         "28987",
         "9797",
         "22844",
         "11761",
         "63729",
         "8441",
         "39713",
         "60428",
         "29056",
         "7322",
         "29497",
         "21529",
         "10895",
         "32102",
         "20397",
         "44168",
         "16627",
         "40251",
         "27899",
         "43106",
         "53531",
         "13566",
         "6701",
         "49376",
         "12909",
         "14851",
         "19400",
         "9101",
         "16506",
         "32925",
         "42097",
         "7455",
         "8266",
         "30646",
         "7878",
         "2035",
         "2120",
         "54269",
         "2883",
         "9302",
         "19429",
         "70914",
         "27383",
         "7619",
         "33778",
         "24236",
         "10925",
         "48153",
         "25605",
         "19488",
         "28086",
         "9662",
         "29417",
         "48553",
         "21757",
         "9881",
         "40910",
         "13800",
         "9768",
         "54032",
         "36703",
         "43075",
         "8919",
         "23909",
         "16308",
         "22229",
         "14705",
         "24651",
         "60231",
         "24715",
         "43292",
         "3379",
         "25242",
         "30201",
         "13142",
         "10093",
         "13049",
         "47277",
         "13271",
         "31971",
         "26687",
         "41605",
         "32261",
         "54386",
         "36959",
         "16698",
         "17240",
         "18850",
         "20609",
         "9468",
         "70257",
         "16339",
         "27258",
         "22180",
         "28655",
         "9837",
         "58252",
         "14774",
         "16472",
         "1863",
         "1815",
         "30463",
         "7217",
         "7130",
         "18523",
         "10325",
         "5294",
         "11725",
         "19754",
         "23281",
         "44307",
         "31400",
         "33031",
         "21192",
         "8235",
         "9672",
         "16210",
         "6929",
         "5423",
         "13265",
         "12497",
         "20426",
         "13214",
         "7600",
         "6236",
         "8848",
         "22528",
         "9354",
         "50152",
         "26039",
         "2736",
         "11227",
         "31274",
         "61591",
         "47845",
         "34137",
         "31134",
         "6961",
         "49952",
         "17404",
         "11028",
         "39643",
         "44041",
         "7248",
         "4231",
         "19274",
         "15773",
         "27468",
         "3104",
         "13802",
         "20169",
         "23343",
         "16922",
         "3137",
         "24647",
         "11150",
         "18834",
         "23943",
         "65760",
         "56825",
         "36843",
         "39160",
         "24430",
         "37426",
         "23106",
         "13240",
         "53848",
         "36447",
         "2754",
         "39712",
         "45500",
         "2915",
         "23436",
         "75298",
         "8512",
         "14069",
         "34783",
         "16756",
         "14781",
         "5592",
         "7676",
         "12555",
         "32520",
         "5037",
         "80010",
         "26514",
         "4054",
         "14879",
         "7764",
         "12740",
         "28885",
         "14465",
         "4398",
         "9939",
         "21882",
         "101533",
         "32952",
         "22687",
         "21503",
         "9539",
         "20586",
         "32068",
         "3867",
         "14059",
         "15914",
         "57007",
         "27429",
         "39631",
         "13760",
         "12747",
         "6330",
         "53159",
         "34645",
         "45559",
         "38437",
         "21016",
         "22721",
         "17503",
         "20126",
         "44660",
         "20908",
         "22983",
         "34126",
         "49939",
         "10192",
         "30731",
         "26139",
         "42500",
         "42003",
         "17239",
         "27133",
         "22885",
         "37922",
         "6164",
         "10544",
         "4979",
         "15119",
         "12494",
         "1449",
         "39984",
         "12512",
         "28075",
         "29458",
         "37491",
         "5911",
         "42743",
         "18417",
         "9095",
         "30267",
         "30865",
         "13301",
         "22077",
         "45971",
         "17606",
         "29193",
         "18818",
         "36825",
         "13210",
         "28046",
         "19688",
         "33570",
         "23757",
         "5846",
         "19761",
         "24462",
         "25106",
         "38236",
         "33107",
         "3871",
         "68675",
         "32821",
         "30240",
         "19266",
         "39170",
         "12137",
         "6165",
         "22517",
         "24425",
         "43357",
         "23908",
         "86248",
         "11153",
         "5258",
         "44406",
         "9566",
         "6085",
         "34527",
         "5134",
         "63373",
         "9295",
         "28771",
         "9861",
         "35384",
         "45528",
         "4796",
         "5789",
         "26046",
         "44755",
         "16927",
         "54398",
         "28316",
         "8970",
         "20118",
         "11199",
         "45993",
         "33585",
         "1655",
         "5464",
         "4666",
         "37514",
         "35461",
         "15900",
         "3636",
         "13042",
         "29125",
         "6744",
         "14590",
         "39046",
         "37629",
         "33522",
         "4920",
         "29721",
         "12341",
         "23645",
         "43155",
         "14319",
         "7511",
         "4613",
         "52077",
         "21007",
         "41268",
         "6717",
         "25622",
         "15229",
         "4143",
         "40372",
         "20916",
         "34728",
         "3676",
         "15415",
         "33128",
         "49886",
         "11331",
         "8395",
         "21323",
         "18238",
         "9379",
         "7806",
         "27454",
         "3920",
         "10178",
         "12420",
         "18896",
         "6161",
         "8645",
         "33170",
         "53195",
         "36902",
         "23869",
         "54567",
         "6915",
         "18995",
         "15875",
         "12375",
         "8968",
         "24013",
         "46845",
         "31870",
         "39866",
         "32357",
         "23490",
         "8088",
         "10309",
         "10096",
         "44279",
         "13947",
         "20830",
         "20792",
         "23913",
         "5294",
         "3252",
         "17241",
         "9311",
         "32678",
         "26202",
         "27284",
         "28010",
         "12779",
         "13043",
         "16609",
         "19618",
         "3720",
         "41879",
         "38132",
         "35318",
         "28735",
         "61893",
         "5406",
         "23596",
         "42282",
         "16340",
         "10693",
         "910",
         "31872",
         "21452",
         "12243",
         "11482",
         "32267",
         "14972",
         "39702",
         "59459",
         "27866",
         "34342",
         "26326",
         "24232",
         "29804",
         "28525",
         "48029",
         "47513",
         "4416",
         "4760",
         "9250",
         "62626",
         "14343",
         "5349",
         "39791",
         "14383",
         "66692",
         "70987",
         "32446",
         "18449",
         "8972",
         "23607",
         "5489",
         "67320",
         "2231",
         "14379",
         "66059",
         "38944",
         "53077",
         "24773",
         "11482",
         "5305",
         "9117",
         "1748",
         "6095",
         "15665",
         "18498",
         "32264",
         "31349",
         "20171",
         "12089",
         "25270",
         "22982",
         "36350",
         "25591",
         "17339",
         "12975",
         "22614",
         "5004",
         "4470",
         "10069",
         "30642",
         "40345",
         "16407",
         "34504",
         "21887",
         "28683",
         "4382",
         "28856",
         "20287",
         "12544",
         "48682",
         "20751",
         "34396",
         "51070",
         "25122",
         "8141",
         "33540",
         "32817",
         "28782",
         "14902",
         "13568",
         "14281",
         "47457",
         "8181",
         "1326",
         "22218",
         "50156",
         "23268",
         "12864",
         "8711",
         "16563",
         "25139",
         "9516",
         "6390",
         "13898",
         "7763",
         "47720",
         "14974",
         "25023",
         "36595",
         "36946",
         "31203",
         "23696",
         "26599",
         "5643",
         "38624",
         "6496",
         "13676",
         "1391",
         "37040",
         "52217",
         "12959",
         "35329",
         "17231",
         "13947",
         "19996",
         "35000",
         "20367",
         "25805",
         "16022",
         "7262",
         "36174",
         "16121",
         "19522",
         "21020",
         "23358",
         "3306",
         "15980",
         "7795",
         "11476",
         "21729",
         "33819",
         "22526",
         "4782",
         "44046",
         "39393",
         "8915",
         "18273",
         "37616",
         "12764",
         "47581",
         "16355",
         "15275",
         "23672",
         "12289",
         "23178",
         "6683",
         "11065",
         "31743",
         "1301",
         "25072",
         "51003",
         "40610",
         "16411",
         "26940",
         "24167",
         "5096",
         "36285",
         "18444",
         "22411",
         "24996",
         "19369",
         "7781",
         "10354",
         "13088",
         "37516",
         "20969",
         "35513",
         "105847",
         "7046",
         "44987",
         "22032",
         "22761",
         "15129",
         "9014",
         "47823",
         "28764",
         "2927",
         "36873",
         "10383",
         "42642",
         "61383",
         "15450",
         "7684",
         "2790",
         "26565",
         "12361",
         "33249",
         "33569",
         "14232",
         "55609",
         "39629",
         "60052",
         "12758",
         "20774",
         "15579",
         "9987",
         "49509",
         "19491",
         "14828",
         "6376",
         "21531",
         "24264",
         "4672",
         "19710",
         "11019",
         "26052",
         "38587",
         "9718",
         "15076",
         "8431",
         "20795",
         "27238",
         "27985",
         "23982",
         "72672",
         "36312",
         "34329",
         "49127",
         "31930",
         "28967",
         "14949",
         "25888",
         "30094",
         "30054",
         "22691",
         "19479",
         "26688",
         "11106",
         "6217",
         "5243",
         "8320",
         "37915",
         "10913",
         "63435",
         "46368",
         "9198",
         "15055",
         "8051",
         "7081",
         "4086",
         "14871",
         "8945",
         "38236",
         "12102",
         "6446",
         "90070",
         "4893",
         "11945",
         "23225",
         "11731",
         "15291",
         "14727",
         "17970",
         "15028",
         "14492",
         "17059",
         "15104",
         "57674",
         "7948",
         "21679",
         "10079",
         "30156",
         "12342",
         "11857",
         "3173",
         "50753",
         "17518",
         "2538",
         "42520",
         "37710",
         "41245",
         "21440",
         "24296",
         "19799",
         "24800",
         "48149",
         "42911",
         "20565",
         "27078",
         "39757",
         "22264",
         "13290",
         "24958",
         "38382",
         "30463",
         "6131",
         "11968",
         "10043",
         "25142",
         "65844",
         "20748",
         "27996",
         "14181",
         "35963",
         "5690",
         "5762",
         "40135",
         "51079",
         "27708",
         "30307",
         "20209",
         "26672",
         "4575",
         "9998",
         "28642",
         "24980",
         "8011",
         "17291",
         "9791",
         "31497",
         "11118",
         "24598",
         "24057",
         "9366",
         "15096",
         "53410",
         "27192",
         "4377",
         "1671",
         "47774",
         "27050",
         "54156",
         "38883",
         "5594",
         "23741",
         "30389",
         "15068",
         "7649",
         "12297",
         "23712",
         "29091",
         "19463",
         "4638",
         "13501",
         "38358",
         "10829",
         "27807",
         "26364",
         "23619",
         "32771",
         "11645",
         "14821",
         "17056",
         "29305",
         "37265",
         "12485",
         "48851",
         "6703",
         "2924",
         "31542",
         "14879",
         "4679",
         "66079",
         "22801",
         "33282",
         "45826",
         "3977",
         "36689",
         "19997",
         "10458",
         "28666",
         "30042",
         "18073",
         "67167",
         "39607",
         "9443",
         "29009",
         "68220",
         "19551",
         "19142",
         "15260",
         "10653",
         "8605",
         "24684",
         "64176",
         "20062",
         "42572",
         "14589",
         "18061",
         "41602",
         "29542",
         "28442",
         "6602",
         "14744",
         "30473",
         "35490",
         "24596",
         "49801",
         "18646",
         "42318",
         "7817",
         "24985",
         "46395",
         "22390",
         "48200",
         "28274",
         "24940",
         "31376",
         "61443",
         "23909",
         "2797",
         "16070",
         "40435",
         "17017",
         "10121",
         "19347",
         "8406",
         "50926",
         "24084",
         "40223",
         "33026",
         "13629",
         "7695",
         "905",
         "18984",
         "48809",
         "23874",
         "19721",
         "34518",
         "18378",
         "16898",
         "44569",
         "11864",
         "13071",
         "22270",
         "22980",
         "15402",
         "20642",
         "68646",
         "71528",
         "18965",
         "24746",
         "15631",
         "24920",
         "5300",
         "22389",
         "6890",
         "18423",
         "7639",
         "6340",
         "9393",
         "31039",
         "2881",
         "38306",
         "8868",
         "22315",
         "7674",
         "38238",
         "26115",
         "24070",
         "27067",
         "38332",
         "18779",
         "23388",
         "14304",
         "25101",
         "28593",
         "79147",
         "14822",
         "43372",
         "48760",
         "49086",
         "27815",
         "4907",
         "34285",
         "10298",
         "14708",
         "17887",
         "3713",
         "57940",
         "3905",
         "2876",
         "59080",
         "53209",
         "19092",
         "25456",
         "37123",
         "1067",
         "8514",
         "12969",
         "63349",
         "10740",
         "20983",
         "37556",
         "4948",
         "55615",
         "15866",
         "30465",
         "20110",
         "87777",
         "36445",
         "14272",
         "19280",
         "11219",
         "17013",
         "22285",
         "24312",
         "99999",
         "1414",
         "4658",
         "26470",
         "20709",
         "35525",
         "26635",
         "42329",
         "69500",
         "23426",
         "5335",
         "20921",
         "86350",
         "26487",
         "19546",
         "9422",
         "18177",
         "11429",
         "10495",
         "19430",
         "27904",
         "4522",
         "56849",
         "35127",
         "33507",
         "27899",
         "9182",
         "18821",
         "50651",
         "12554",
         "7355",
         "11903",
         "50074",
         "674",
         "39486",
         "35258",
         "27424",
         "4266",
         "18634",
         "33577",
         "18311",
         "27548",
         "14983",
         "30838",
         "35783",
         "21268",
         "15126",
         "38265",
         "44947",
         "19743",
         "9755",
         "91793",
         "48790",
         "55965",
         "11239",
         "9409",
         "5590",
         "12754",
         "4689",
         "34316",
         "63018",
         "10102",
         "52446",
         "2891",
         "21707",
         "44283",
         "15716",
         "23554",
         "24169",
         "33912",
         "3240",
         "6637",
         "27378",
         "14674",
         "25169",
         "24252",
         "13130",
         "12073",
         "60174",
         "37988",
         "45659",
         "26460",
         "69417",
         "19471",
         "31104",
         "41856",
         "5007",
         "6187",
         "5000",
         "10670",
         "82670",
         "2992",
         "39472",
         "26117",
         "13309",
         "16356",
         "18683",
         "43742",
         "13313",
         "7528",
         "21864",
         "12867",
         "28709",
         "4681",
         "31370",
         "25168",
         "15472",
         "20612",
         "11597",
         "6583",
         "48995",
         "19177",
         "7932",
         "11597",
         "8979",
         "23122",
         "8273",
         "60775",
         "39627",
         "9519",
         "7325",
         "57610",
         "25947",
         "23828",
         "24776",
         "23888",
         "30866",
         "26332",
         "9642",
         "11556",
         "10155",
         "38999",
         "28589",
         "32726",
         "13111",
         "5022",
         "9876",
         "9015",
         "7204",
         "10817",
         "38005",
         "17784",
         "1208",
         "5358",
         "7998",
         "12790",
         "23152",
         "8695",
         "15249",
         "51509",
         "16521",
         "22181",
         "4496",
         "16269",
         "8962",
         "28428",
         "22432",
         "16181",
         "13343",
         "18445",
         "5443",
         "43039",
         "11753",
         "43755",
         "102452",
         "7131",
         "10936",
         "23604",
         "14096",
         "29468",
         "26209",
         "11781",
         "41296",
         "10890",
         "22907",
         "4959",
         "30072",
         "45146",
         "18597",
         "14299",
         "62872",
         "70582",
         "15729",
         "22348",
         "20870",
         "12168",
         "4580",
         "23615",
         "13982",
         "79390",
         "10154",
         "40522",
         "27859",
         "14156",
         "44898",
         "34071",
         "25695",
         "23669",
         "26284",
         "26722",
         "13158",
         "35663",
         "23823",
         "7091",
         "23322",
         "37000",
         "23884",
         "29003",
         "47006",
         "40254",
         "31213",
         "47796",
         "21320",
         "46285",
         "48678",
         "28571",
         "15901",
         "14359",
         "10016",
         "10847",
         "58809",
         "18915",
         "19724",
         "5938",
         "8448",
         "10794",
         "57631",
         "7610",
         "3778",
         "22529",
         "29195",
         "28566",
         "45075",
         "17938",
         "25812",
         "15341",
         "25837",
         "7447",
         "9574",
         "49576",
         "12768",
         "11154",
         "25381",
         "7469",
         "40726",
         "52634",
         "2861",
         "6275",
         "14097",
         "2589",
         "6772",
         "11901",
         "12572",
         "23511",
         "24136",
         "36107",
         "7459",
         "13214",
         "21768",
         "42234",
         "7691",
         "19156",
         "19566",
         "12928",
         "7107",
         "24836",
         "7613",
         "35275",
         "20516",
         "37902",
         "62203",
         "19056",
         "32300",
         "20524",
         "31667",
         "26673",
         "21464",
         "58725",
         "6771",
         "30679",
         "108942",
         "3069",
         "2255",
         "19063",
         "32304",
         "11933",
         "13458",
         "5690",
         "3006",
         "21335",
         "7535",
         "33661",
         "8660",
         "54572",
         "6660",
         "8667",
         "33293",
         "28583",
         "35159",
         "3902",
         "26882",
         "15562",
         "64112",
         "5252",
         "15282",
         "10588",
         "12165",
         "24391",
         "26117",
         "23849",
         "34816",
         "4831",
         "4724",
         "37305",
         "4491",
         "50798",
         "24357",
         "11618",
         "29611",
         "39320",
         "18643",
         "1852",
         "4573",
         "5690",
         "31494",
         "6992",
         "23259",
         "12998",
         "45108",
         "22338",
         "23754",
         "25077",
         "14175",
         "14277",
         "28688",
         "11588",
         "8693",
         "4557",
         "65001",
         "27740",
         "29957",
         "28576",
         "25841",
         "6090",
         "5282",
         "28029",
         "31378",
         "8700",
         "17823",
         "25689",
         "31533",
         "36700",
         "22484",
         "21944",
         "15692",
         "39554",
         "41931",
         "24641",
         "41096",
         "41014",
         "42756",
         "22192",
         "28179",
         "34825",
         "43801",
         "15174",
         "47153",
         "6509",
         "13248",
         "20413",
         "96670",
         "31160",
         "16133",
         "31350",
         "3953",
         "7004",
         "17997",
         "27667",
         "34040",
         "29987",
         "43195",
         "13000",
         "23620",
         "6515",
         "33238",
         "6608",
         "39605",
         "15372",
         "23538",
         "7071",
         "2792",
         "12281",
         "9398",
         "3002",
         "2797",
         "29070",
         "19132",
         "56028",
         "6985",
         "30269",
         "50587",
         "2415",
         "19655",
         "30357",
         "9217",
         "28555",
         "25093",
         "43392",
         "7403",
         "26921",
         "21045",
         "11451",
         "83961",
         "76078",
         "27051",
         "3789",
         "25553",
         "40094",
         "32209",
         "18424",
         "9368",
         "17091",
         "32374",
         "59795",
         "30505",
         "7667",
         "29062",
         "9906",
         "36925",
         "39218",
         "9342",
         "26712",
         "18079",
         "18358",
         "23827",
         "19992",
         "14911",
         "11810",
         "52749",
         "25541",
         "15105",
         "7001",
         "13291",
         "17886",
         "20169",
         "21628",
         "11631",
         "22003",
         "11052",
         "51925",
         "11990",
         "8985",
         "17882",
         "8091",
         "14659",
         "45993",
         "49163",
         "10423",
         "98259",
         "25915",
         "18071",
         "16282",
         "23895",
         "30674",
         "48279",
         "31244",
         "3537",
         "17865",
         "18464",
         "4650",
         "20738",
         "18075",
         "32336",
         "50148",
         "3524",
         "20245",
         "8394",
         "13195",
         "3504",
         "3647",
         "30391",
         "19310",
         "21449",
         "18963",
         "38619",
         "18945",
         "20173",
         "40750",
         "17075",
         "18504",
         "36877",
         "17627",
         "14141",
         "11218",
         "5158",
         "36889",
         "10969",
         "3645",
         "47582",
         "7713",
         "21488",
         "53311",
         "63345",
         "9814",
         "12080",
         "12206",
         "38081",
         "3766",
         "26343",
         "13802",
         "32015",
         "22343",
         "24118",
         "49711",
         "2856",
         "5976",
         "3269",
         "7321",
         "6102",
         "40152",
         "24345",
         "30797",
         "30899",
         "11261",
         "31774",
         "25729",
         "5120",
         "21417",
         "54484",
         "33656",
         "23116",
         "49454",
         "71529",
         "18947",
         "38949",
         "30680",
         "27820",
         "48315",
         "6547",
         "13398",
         "19775",
         "36086",
         "35098",
         "33392",
         "62502",
         "12670",
         "31680",
         "9550",
         "72124",
         "16245",
         "17811",
         "8924",
         "18657",
         "25995",
         "31924",
         "35101",
         "31792",
         "20236",
         "31704",
         "9757",
         "9202",
         "9143",
         "39863",
         "23879",
         "6793",
         "25235",
         "85466",
         "16334",
         "18695",
         "23956",
         "42521",
         "33174",
         "7991",
         "10554",
         "10766",
         "40406",
         "17108",
         "9786",
         "56617",
         "10929",
         "2912",
         "7392",
         "15845",
         "65290",
         "38883",
         "7604",
         "4580",
         "30524",
         "23173",
         "65307",
         "10117",
         "16186",
         "16871",
         "28819",
         "20289",
         "15065",
         "32214",
         "56720",
         "26083",
         "17260",
         "36047",
         "27520",
         "46282",
         "25327",
         "17577",
         "2879",
         "6544",
         "10601",
         "23276",
         "14763",
         "64715",
         "5934",
         "6531",
         "13480",
         "19405",
         "34935",
         "16582",
         "13032",
         "4397",
         "27476",
         "31494",
         "18465",
         "35621",
         "38716",
         "6887",
         "43020",
         "23228",
         "15200",
         "7158",
         "5060",
         "60305",
         "1904",
         "18640",
         "7720",
         "31819",
         "11500",
         "18136",
         "7052"
        ],
        [
         "Sample3",
         "21334",
         "15245",
         "22384",
         "11284",
         "26287",
         "9297",
         "7239",
         "15080",
         "15266",
         "15668",
         "4931",
         "5160",
         "5349",
         "2648",
         "11804",
         "12819",
         "4725",
         "12243",
         "3170",
         "31376",
         "1802",
         "11780",
         "7404",
         "4800",
         "30464",
         "10081",
         "28346",
         "7872",
         "13942",
         "21318",
         "3945",
         "14386",
         "9463",
         "4356",
         "1881",
         "20150",
         "15387",
         "7565",
         "3919",
         "13723",
         "17203",
         "18294",
         "14482",
         "39559",
         "13492",
         "13400",
         "28402",
         "4097",
         "29387",
         "599",
         "25344",
         "11701",
         "16880",
         "8270",
         "17742",
         "10586",
         "7029",
         "3411",
         "24664",
         "19776",
         "10776",
         "5818",
         "12599",
         "6340",
         "11893",
         "10731",
         "6329",
         "1856",
         "1839",
         "6514",
         "3871",
         "29851",
         "13927",
         "12441",
         "6027",
         "5222",
         "9503",
         "1848",
         "8412",
         "12234",
         "39484",
         "7173",
         "15425",
         "6533",
         "17374",
         "9813",
         "39498",
         "46291",
         "10335",
         "23027",
         "16061",
         "6741",
         "31170",
         "6045",
         "26081",
         "2663",
         "6710",
         "53366",
         "12598",
         "7281",
         "6247",
         "3352",
         "9718",
         "4990",
         "19282",
         "13157",
         "3109",
         "4706",
         "26209",
         "19555",
         "4485",
         "11642",
         "6868",
         "15313",
         "40672",
         "9215",
         "2891",
         "20406",
         "10952",
         "11129",
         "9566",
         "39552",
         "9953",
         "22914",
         "32223",
         "12956",
         "8540",
         "5366",
         "12746",
         "9038",
         "10699",
         "6647",
         "6307",
         "5991",
         "12571",
         "43466",
         "11276",
         "8746",
         "19729",
         "22754",
         "9273",
         "15520",
         "9351",
         "40609",
         "9618",
         "12294",
         "19226",
         "7682",
         "4406",
         "14427",
         "16880",
         "9712",
         "16618",
         "9511",
         "19854",
         "6938",
         "10724",
         "2437",
         "9007",
         "20016",
         "7336",
         "7353",
         "13225",
         "10185",
         "1690",
         "10216",
         "16635",
         "13513",
         "28811",
         "10935",
         "13079",
         "8563",
         "13974",
         "18554",
         "4835",
         "721",
         "9249",
         "4827",
         "7515",
         "1774",
         "14830",
         "8435",
         "23257",
         "13555",
         "14292",
         "18753",
         "18660",
         "12005",
         "18743",
         "4304",
         "34278",
         "9249",
         "4792",
         "6419",
         "12058",
         "12639",
         "10284",
         "7550",
         "9300",
         "7686",
         "9176",
         "9939",
         "7172",
         "14915",
         "5720",
         "16891",
         "16829",
         "10096",
         "3422",
         "37975",
         "4337",
         "12701",
         "17902",
         "49159",
         "2292",
         "14906",
         "16177",
         "9140",
         "24373",
         "2446",
         "18067",
         "8877",
         "47864",
         "12391",
         "16027",
         "11621",
         "11220",
         "414",
         "13346",
         "8980",
         "2808",
         "3851",
         "11675",
         "8922",
         "4238",
         "4303",
         "5956",
         "7153",
         "5717",
         "4003",
         "3353",
         "47040",
         "2813",
         "11538",
         "9593",
         "26328",
         "7541",
         "15140",
         "5941",
         "3036",
         "21970",
         "29831",
         "35259",
         "35985",
         "3064",
         "20675",
         "4367",
         "7250",
         "13163",
         "39154",
         "40658",
         "17532",
         "25763",
         "5088",
         "5456",
         "1743",
         "9776",
         "14932",
         "26469",
         "3468",
         "20559",
         "6676",
         "6381",
         "14794",
         "11691",
         "22885",
         "5823",
         "14814",
         "22722",
         "66336",
         "8436",
         "10250",
         "19684",
         "7560",
         "15831",
         "7735",
         "23042",
         "3075",
         "3038",
         "37090",
         "13236",
         "3574",
         "4559",
         "4670",
         "5135",
         "994",
         "13144",
         "3028",
         "6800",
         "10588",
         "22387",
         "2174",
         "20953",
         "6748",
         "8776",
         "4861",
         "17143",
         "16993",
         "5576",
         "20862",
         "5908",
         "10871",
         "29008",
         "12897",
         "12635",
         "5117",
         "11177",
         "626",
         "4423",
         "8325",
         "35143",
         "25671",
         "39581",
         "13568",
         "6841",
         "5909",
         "20026",
         "19757",
         "9559",
         "14299",
         "1473",
         "8939",
         "13750",
         "7607",
         "19241",
         "15961",
         "6563",
         "9523",
         "4342",
         "17367",
         "21982",
         "18845",
         "14507",
         "6836",
         "11725",
         "19312",
         "17056",
         "9948",
         "5267",
         "10741",
         "5747",
         "12922",
         "2455",
         "5738",
         "20164",
         "15530",
         "21185",
         "10322",
         "9012",
         "12799",
         "10740",
         "18106",
         "7803",
         "13458",
         "8313",
         "6031",
         "6598",
         "11726",
         "35495",
         "7234",
         "29997",
         "13691",
         "12139",
         "11233",
         "7930",
         "20849",
         "5543",
         "17189",
         "1764",
         "3926",
         "10541",
         "14257",
         "14482",
         "4456",
         "2560",
         "10067",
         "4999",
         "13596",
         "9484",
         "8003",
         "1518",
         "907",
         "12442",
         "19311",
         "11767",
         "7046",
         "15778",
         "10141",
         "23502",
         "1244",
         "4764",
         "26311",
         "9472",
         "16033",
         "14897",
         "10101",
         "7078",
         "10143",
         "10904",
         "26257",
         "15313",
         "4769",
         "25239",
         "4998",
         "6407",
         "6716",
         "30710",
         "7934",
         "16650",
         "3921",
         "6662",
         "13137",
         "3129",
         "17861",
         "8533",
         "55192",
         "12768",
         "13701",
         "10769",
         "12334",
         "16733",
         "9957",
         "20654",
         "13618",
         "10753",
         "12604",
         "5197",
         "13562",
         "13405",
         "6515",
         "17318",
         "4886",
         "9929",
         "9120",
         "3516",
         "1345",
         "8273",
         "5409",
         "27294",
         "33997",
         "26209",
         "12907",
         "3919",
         "26316",
         "14558",
         "17480",
         "3042",
         "6855",
         "27716",
         "8184",
         "14175",
         "5554",
         "15458",
         "5392",
         "12094",
         "6299",
         "33987",
         "4516",
         "21364",
         "32323",
         "15537",
         "3845",
         "15837",
         "11560",
         "5889",
         "17434",
         "11014",
         "23684",
         "8888",
         "21512",
         "14855",
         "22974",
         "29088",
         "7271",
         "3520",
         "26505",
         "6955",
         "7884",
         "10516",
         "4866",
         "8796",
         "17869",
         "22599",
         "4051",
         "4311",
         "16495",
         "4204",
         "1098",
         "1220",
         "29056",
         "1530",
         "4938",
         "10486",
         "38296",
         "14990",
         "4189",
         "18294",
         "13153",
         "5857",
         "25696",
         "13848",
         "10411",
         "15182",
         "5066",
         "15768",
         "26048",
         "11733",
         "5228",
         "21991",
         "7403",
         "5277",
         "28723",
         "19745",
         "23167",
         "4723",
         "13029",
         "8860",
         "12066",
         "7942",
         "13250",
         "32395",
         "13046",
         "23279",
         "1877",
         "13640",
         "16367",
         "7085",
         "5648",
         "6895",
         "25597",
         "7220",
         "17112",
         "14120",
         "22420",
         "17198",
         "29222",
         "20072",
         "9162",
         "9084",
         "10401",
         "11034",
         "5098",
         "37703",
         "8909",
         "14730",
         "11895",
         "15258",
         "5405",
         "31222",
         "7876",
         "8917",
         "1062",
         "973",
         "16256",
         "3756",
         "4051",
         "9864",
         "5559",
         "2827",
         "6464",
         "10670",
         "12500",
         "24107",
         "16642",
         "17701",
         "11476",
         "4391",
         "5063",
         "8514",
         "3768",
         "2899",
         "7133",
         "6798",
         "10825",
         "6994",
         "4092",
         "3335",
         "4734",
         "12019",
         "5131",
         "26815",
         "13925",
         "1350",
         "6114",
         "16652",
         "32514",
         "25420",
         "18523",
         "16697",
         "3746",
         "27203",
         "9321",
         "5813",
         "21384",
         "23719",
         "4041",
         "2306",
         "10235",
         "8476",
         "14872",
         "1650",
         "7211",
         "11126",
         "12842",
         "8983",
         "1662",
         "13125",
         "6060",
         "10101",
         "12950",
         "35156",
         "30801",
         "19787",
         "21060",
         "12868",
         "19968",
         "12361",
         "7068",
         "28654",
         "19425",
         "1520",
         "21104",
         "24257",
         "1614",
         "12665",
         "40429",
         "4616",
         "7491",
         "18569",
         "9138",
         "7898",
         "3039",
         "4166",
         "6641",
         "17555",
         "2824",
         "43025",
         "14097",
         "2222",
         "8024",
         "4100",
         "6760",
         "15325",
         "7802",
         "2329",
         "5395",
         "11890",
         "54519",
         "17429",
         "12279",
         "11684",
         "5031",
         "10936",
         "17366",
         "2136",
         "7867",
         "8372",
         "30525",
         "14824",
         "21104",
         "7363",
         "6763",
         "3356",
         "28436",
         "18665",
         "24520",
         "20522",
         "11259",
         "12223",
         "9471",
         "10835",
         "23960",
         "11362",
         "12547",
         "18143",
         "26831",
         "5468",
         "16701",
         "14089",
         "22716",
         "22515",
         "9215",
         "14432",
         "12335",
         "20403",
         "3268",
         "5734",
         "2651",
         "8099",
         "6701",
         "787",
         "21555",
         "6701",
         "15241",
         "15590",
         "19703",
         "3207",
         "22815",
         "9983",
         "4776",
         "16219",
         "16342",
         "7094",
         "12010",
         "24423",
         "9434",
         "15669",
         "10160",
         "19768",
         "6984",
         "15235",
         "10465",
         "18333",
         "12681",
         "3121",
         "10405",
         "13072",
         "13441",
         "20734",
         "17569",
         "2077",
         "37060",
         "17856",
         "16233",
         "10544",
         "20666",
         "6410",
         "3252",
         "12184",
         "13284",
         "23291",
         "13107",
         "46594",
         "6280",
         "2785",
         "23738",
         "5186",
         "3240",
         "18655",
         "2645",
         "34281",
         "5066",
         "15142",
         "5343",
         "19131",
         "24749",
         "2505",
         "3103",
         "14113",
         "23822",
         "9174",
         "29669",
         "15162",
         "4746",
         "10870",
         "6292",
         "24609",
         "18065",
         "921",
         "2932",
         "2570",
         "20150",
         "19448",
         "8440",
         "1967",
         "7086",
         "15534",
         "3713",
         "7701",
         "20885",
         "19957",
         "18188",
         "2596",
         "15999",
         "6667",
         "12343",
         "23273",
         "7622",
         "4071",
         "2503",
         "27851",
         "11265",
         "22335",
         "3614",
         "13536",
         "8117",
         "2298",
         "21485",
         "11318",
         "18701",
         "1943",
         "8270",
         "17751",
         "26680",
         "6032",
         "4490",
         "11373",
         "9655",
         "4984",
         "4156",
         "14735",
         "2024",
         "5464",
         "6538",
         "10177",
         "3205",
         "4622",
         "17533",
         "28161",
         "19595",
         "12705",
         "29207",
         "3731",
         "10268",
         "8497",
         "6774",
         "4824",
         "12647",
         "25105",
         "17014",
         "21523",
         "17372",
         "12587",
         "4368",
         "5367",
         "5495",
         "23492",
         "7659",
         "11232",
         "11075",
         "12862",
         "2962",
         "1722",
         "9292",
         "5001",
         "17670",
         "14144",
         "14859",
         "14976",
         "6862",
         "6891",
         "8853",
         "10432",
         "1989",
         "22326",
         "20113",
         "18912",
         "15543",
         "33391",
         "2912",
         "12650",
         "22534",
         "8923",
         "5618",
         "471",
         "17121",
         "11556",
         "6663",
         "6291",
         "17145",
         "7972",
         "21571",
         "32051",
         "14783",
         "18250",
         "14112",
         "12874",
         "15795",
         "15336",
         "25382",
         "25650",
         "2392",
         "2480",
         "4924",
         "33458",
         "7689",
         "2858",
         "21078",
         "7791",
         "35926",
         "38080",
         "17416",
         "9985",
         "4855",
         "12707",
         "2940",
         "35971",
         "1189",
         "7592",
         "35289",
         "20719",
         "28636",
         "13357",
         "5980",
         "2982",
         "4827",
         "957",
         "3273",
         "8381",
         "9717",
         "17185",
         "16784",
         "10737",
         "6438",
         "13789",
         "12238",
         "19078",
         "13516",
         "9178",
         "7086",
         "12103",
         "2659",
         "2490",
         "5423",
         "16403",
         "21422",
         "8774",
         "18473",
         "11804",
         "15249",
         "2420",
         "15765",
         "10598",
         "6820",
         "26265",
         "11206",
         "18495",
         "27577",
         "13550",
         "4430",
         "18047",
         "17783",
         "15444",
         "7941",
         "7305",
         "7616",
         "25552",
         "4377",
         "650",
         "11748",
         "26581",
         "12267",
         "6934",
         "4584",
         "8837",
         "13374",
         "5173",
         "3392",
         "7287",
         "4152",
         "25547",
         "8124",
         "13443",
         "19406",
         "19926",
         "16528",
         "12695",
         "14298",
         "2954",
         "20706",
         "3524",
         "7401",
         "742",
         "19941",
         "28396",
         "6908",
         "19094",
         "9137",
         "7540",
         "10767",
         "18887",
         "11040",
         "13541",
         "8613",
         "3916",
         "19449",
         "8590",
         "10416",
         "11466",
         "12584",
         "1815",
         "8592",
         "4328",
         "6260",
         "11688",
         "17823",
         "12147",
         "2503",
         "23715",
         "21249",
         "4795",
         "9724",
         "19981",
         "6932",
         "25419",
         "8719",
         "8119",
         "12603",
         "6570",
         "12491",
         "3676",
         "5886",
         "16965",
         "663",
         "13139",
         "27365",
         "21646",
         "8809",
         "14500",
         "12933",
         "2766",
         "19512",
         "9851",
         "12223",
         "13447",
         "10399",
         "4195",
         "5702",
         "6901",
         "20109",
         "11173",
         "19062",
         "56363",
         "3793",
         "24408",
         "11915",
         "12339",
         "8249",
         "4691",
         "25937",
         "15402",
         "1557",
         "19972",
         "5637",
         "22691",
         "32976",
         "8274",
         "4124",
         "1496",
         "14084",
         "6603",
         "17649",
         "18086",
         "7667",
         "29972",
         "21016",
         "32394",
         "6978",
         "11039",
         "8481",
         "5544",
         "26568",
         "10567",
         "7899",
         "3356",
         "11718",
         "12921",
         "2520",
         "10510",
         "5878",
         "14029",
         "20695",
         "5193",
         "8099",
         "4417",
         "11224",
         "14687",
         "15010",
         "12958",
         "38885",
         "19272",
         "18152",
         "26400",
         "17409",
         "15629",
         "8056",
         "13861",
         "16171",
         "16287",
         "12243",
         "10416",
         "14297",
         "5959",
         "3351",
         "2767",
         "4562",
         "20869",
         "5873",
         "33911",
         "24831",
         "5041",
         "8084",
         "4382",
         "3822",
         "2268",
         "8146",
         "4663",
         "20442",
         "6485",
         "3301",
         "48566",
         "2546",
         "6413",
         "12571",
         "6444",
         "8282",
         "7996",
         "9416",
         "8063",
         "7799",
         "9314",
         "8103",
         "31245",
         "4230",
         "11779",
         "5398",
         "16000",
         "6770",
         "6339",
         "1647",
         "27222",
         "9445",
         "1412",
         "22781",
         "20069",
         "22176",
         "11719",
         "13030",
         "10565",
         "13359",
         "25935",
         "23286",
         "11071",
         "14374",
         "21087",
         "12014",
         "7122",
         "13306",
         "20588",
         "16374",
         "3307",
         "6400",
         "5451",
         "13492",
         "35261",
         "10860",
         "15417",
         "7686",
         "19083",
         "3159",
         "3050",
         "21679",
         "26945",
         "14915",
         "16020",
         "10740",
         "14523",
         "2427",
         "5468",
         "15209",
         "13685",
         "4082",
         "9429",
         "5144",
         "17081",
         "5941",
         "13125",
         "13129",
         "4923",
         "8124",
         "28672",
         "14605",
         "2270",
         "924",
         "25258",
         "14501",
         "29153",
         "20650",
         "2970",
         "12876",
         "16485",
         "8054",
         "4035",
         "6621",
         "12718",
         "15582",
         "10563",
         "2442",
         "7408",
         "20554",
         "5691",
         "15014",
         "14087",
         "12656",
         "17074",
         "6363",
         "7985",
         "9144",
         "15830",
         "19944",
         "6756",
         "26222",
         "3647",
         "1593",
         "17006",
         "8045",
         "2392",
         "35641",
         "12118",
         "17602",
         "24481",
         "2127",
         "19527",
         "10787",
         "5713",
         "15309",
         "16213",
         "9818",
         "35968",
         "21069",
         "5125",
         "15612",
         "36499",
         "10555",
         "10235",
         "8071",
         "5771",
         "4598",
         "13263",
         "34067",
         "10558",
         "22974",
         "7849",
         "9751",
         "21952",
         "15743",
         "15174",
         "3519",
         "7817",
         "16310",
         "18866",
         "13039",
         "26183",
         "10118",
         "22791",
         "4188",
         "13526",
         "24766",
         "12230",
         "25782",
         "15127",
         "13394",
         "16930",
         "33050",
         "12756",
         "1607",
         "8646",
         "21284",
         "9118",
         "5323",
         "10457",
         "4391",
         "27646",
         "12833",
         "21537",
         "17681",
         "7476",
         "4047",
         "478",
         "10216",
         "26131",
         "12968",
         "10615",
         "18467",
         "10085",
         "8975",
         "24019",
         "6239",
         "6988",
         "11864",
         "12258",
         "8195",
         "11005",
         "37214",
         "38681",
         "10198",
         "13363",
         "8429",
         "13239",
         "2935",
         "11998",
         "3732",
         "9774",
         "4151",
         "3480",
         "5117",
         "16787",
         "1569",
         "20540",
         "4897",
         "12093",
         "4094",
         "20772",
         "14000",
         "12967",
         "14605",
         "20362",
         "10238",
         "12628",
         "7593",
         "13453",
         "15475",
         "42478",
         "7963",
         "22895",
         "26071",
         "26195",
         "15082",
         "2635",
         "18814",
         "5609",
         "7920",
         "9596",
         "1957",
         "31094",
         "2143",
         "1559",
         "32049",
         "28429",
         "10259",
         "13685",
         "19936",
         "618",
         "4565",
         "6833",
         "34025",
         "5615",
         "11143",
         "20178",
         "2734",
         "29618",
         "8521",
         "16355",
         "10791",
         "46904",
         "19820",
         "7610",
         "10342",
         "5965",
         "9253",
         "11853",
         "13090",
         "53633",
         "708",
         "2468",
         "14123",
         "10913",
         "18927",
         "14337",
         "23247",
         "37174",
         "12409",
         "2883",
         "11233",
         "46487",
         "14092",
         "10543",
         "5102",
         "9818",
         "6078",
         "5690",
         "10442",
         "14977",
         "2450",
         "30256",
         "19070",
         "18179",
         "14971",
         "5013",
         "10048",
         "27268",
         "6959",
         "3927",
         "6179",
         "26724",
         "387",
         "21323",
         "19115",
         "14807",
         "2239",
         "10071",
         "18094",
         "9810",
         "14792",
         "8097",
         "16808",
         "19265",
         "11225",
         "7959",
         "20523",
         "24021",
         "10452",
         "4951",
         "49529",
         "26244",
         "30201",
         "6116",
         "5166",
         "3003",
         "6793",
         "2527",
         "18382",
         "33466",
         "5554",
         "27824",
         "1575",
         "11635",
         "23326",
         "8497",
         "12673",
         "13144",
         "18001",
         "1793",
         "3567",
         "14903",
         "7615",
         "13749",
         "12944",
         "7202",
         "6620",
         "32562",
         "20097",
         "24467",
         "14151",
         "37577",
         "10507",
         "16620",
         "22323",
         "2620",
         "3336",
         "2655",
         "5685",
         "44290",
         "1666",
         "21460",
         "14005",
         "7029",
         "8826",
         "9813",
         "23712",
         "7088",
         "4064",
         "11814",
         "7040",
         "15345",
         "2540",
         "16545",
         "13565",
         "8321",
         "10985",
         "6275",
         "3565",
         "26192",
         "9937",
         "4285",
         "6215",
         "4861",
         "12460",
         "4490",
         "32453",
         "21152",
         "5003",
         "3875",
         "30941",
         "13821",
         "12886",
         "13303",
         "12744",
         "16529",
         "14018",
         "5309",
         "6197",
         "5550",
         "20961",
         "15250",
         "17512",
         "7008",
         "2647",
         "5397",
         "4659",
         "3879",
         "5766",
         "20281",
         "9257",
         "684",
         "3002",
         "4228",
         "6772",
         "12546",
         "4751",
         "8126",
         "27806",
         "8899",
         "11790",
         "2446",
         "8831",
         "4888",
         "15136",
         "12119",
         "8553",
         "7238",
         "9706",
         "2905",
         "22875",
         "6486",
         "23688",
         "54708",
         "3865",
         "5621",
         "12660",
         "7559",
         "15586",
         "14264",
         "6470",
         "22186",
         "5903",
         "12288",
         "2676",
         "15924",
         "24084",
         "9977",
         "7687",
         "33968",
         "37915",
         "8599",
         "11854",
         "11359",
         "6502",
         "2356",
         "12664",
         "7724",
         "43331",
         "5450",
         "21421",
         "14702",
         "7697",
         "24389",
         "18203",
         "13970",
         "12772",
         "14072",
         "14472",
         "7107",
         "19291",
         "12803",
         "3912",
         "12417",
         "19850",
         "12657",
         "15546",
         "25075",
         "21571",
         "16880",
         "25794",
         "11277",
         "24733",
         "26280",
         "15745",
         "8586",
         "7549",
         "5510",
         "5900",
         "31671",
         "10060",
         "10449",
         "3241",
         "4487",
         "5667",
         "31161",
         "4107",
         "2157",
         "12318",
         "15806",
         "15555",
         "24129",
         "9707",
         "13926",
         "8272",
         "13921",
         "4093",
         "5144",
         "26617",
         "6761",
         "5911",
         "13505",
         "4089",
         "21826",
         "27914",
         "1472",
         "3277",
         "7534",
         "1459",
         "3640",
         "6280",
         "6766",
         "12652",
         "12865",
         "19328",
         "4066",
         "7316",
         "11502",
         "22719",
         "4020",
         "10285",
         "10326",
         "7069",
         "3788",
         "13357",
         "4097",
         "19056",
         "11031",
         "20416",
         "33426",
         "10155",
         "17457",
         "10741",
         "16932",
         "14251",
         "11656",
         "31311",
         "3654",
         "16521",
         "58252",
         "1719",
         "1261",
         "10427",
         "17451",
         "6399",
         "7243",
         "2913",
         "1616",
         "11559",
         "4128",
         "18275",
         "4599",
         "29337",
         "3529",
         "4704",
         "17999",
         "15445",
         "18569",
         "1934",
         "14472",
         "8446",
         "34483",
         "2747",
         "8159",
         "5702",
         "6515",
         "13177",
         "13875",
         "12900",
         "18834",
         "2620",
         "2531",
         "19800",
         "2392",
         "27314",
         "13426",
         "5948",
         "16022",
         "21307",
         "10087",
         "981",
         "2586",
         "3180",
         "16674",
         "3734",
         "12321",
         "6862",
         "23939",
         "12170",
         "13073",
         "13447",
         "7571",
         "7591",
         "15453",
         "6024",
         "4631",
         "2508",
         "34838",
         "14927",
         "16463",
         "15181",
         "13821",
         "3325",
         "2850",
         "15110",
         "17122",
         "4756",
         "9374",
         "13687",
         "17134",
         "19861",
         "12081",
         "11700",
         "8342",
         "21109",
         "22519",
         "13191",
         "21855",
         "21795",
         "22968",
         "11979",
         "15200",
         "18759",
         "23615",
         "8144",
         "25093",
         "3515",
         "6954",
         "11100",
         "51895",
         "16872",
         "8549",
         "17034",
         "2132",
         "3628",
         "9574",
         "14848",
         "18260",
         "16077",
         "22986",
         "6946",
         "12636",
         "3441",
         "17636",
         "3487",
         "21117",
         "8180",
         "12616",
         "3740",
         "1433",
         "6646",
         "5130",
         "1605",
         "1528",
         "15599",
         "10156",
         "30121",
         "3714",
         "16149",
         "27385",
         "1295",
         "10575",
         "16273",
         "4809",
         "15108",
         "13287",
         "23667",
         "4099",
         "14475",
         "10996",
         "6007",
         "45020",
         "40693",
         "14252",
         "2095",
         "13747",
         "21772",
         "17444",
         "9803",
         "4972",
         "9205",
         "17336",
         "32169",
         "16395",
         "3997",
         "15762",
         "5178",
         "19865",
         "20875",
         "4897",
         "14236",
         "9663",
         "9899",
         "12956",
         "10682",
         "8011",
         "6291",
         "28443",
         "13746",
         "8100",
         "3860",
         "7049",
         "9546",
         "10815",
         "11564",
         "6123",
         "11692",
         "5971",
         "27847",
         "6315",
         "5067",
         "9483",
         "4291",
         "7802",
         "25123",
         "26473",
         "5556",
         "52409",
         "14070",
         "9712",
         "8639",
         "12714",
         "16543",
         "25762",
         "16882",
         "1906",
         "9757",
         "9827",
         "2474",
         "11081",
         "9728",
         "17280",
         "27018",
         "1909",
         "10982",
         "4374",
         "6902",
         "1855",
         "1925",
         "16095",
         "10642",
         "11320",
         "10088",
         "20846",
         "10035",
         "10776",
         "21821",
         "9157",
         "10130",
         "19757",
         "9399",
         "7750",
         "6051",
         "2665",
         "20063",
         "5791",
         "1881",
         "25319",
         "4187",
         "11380",
         "28604",
         "34268",
         "5276",
         "6619",
         "6438",
         "20113",
         "2048",
         "14025",
         "7172",
         "17284",
         "12344",
         "13019",
         "26638",
         "1416",
         "3211",
         "1679",
         "4008",
         "3347",
         "21859",
         "13214",
         "16397",
         "16399",
         "6019",
         "16867",
         "13784",
         "2823",
         "11538",
         "29028",
         "18234",
         "12383",
         "26699",
         "38326",
         "10138",
         "20777",
         "16684",
         "14953",
         "26433",
         "3577",
         "7195",
         "10362",
         "19554",
         "18868",
         "18445",
         "33451",
         "6902",
         "17217",
         "5168",
         "38880",
         "8652",
         "9509",
         "4680",
         "10131",
         "13951",
         "16914",
         "18935",
         "16975",
         "10853",
         "17131",
         "5140",
         "4891",
         "4875",
         "21142",
         "12942",
         "3684",
         "13454",
         "45712",
         "8668",
         "10023",
         "12658",
         "22811",
         "17761",
         "4282",
         "5617",
         "5930",
         "21803",
         "9262",
         "5181",
         "30754",
         "5668",
         "1537",
         "3925",
         "8469",
         "35054",
         "20609",
         "4046",
         "2412",
         "16621",
         "12639",
         "35144",
         "5450",
         "8465",
         "9002",
         "15793",
         "10945",
         "8075",
         "17001",
         "30141",
         "13924",
         "9330",
         "19316",
         "15035",
         "24729",
         "13644",
         "9363",
         "1560",
         "3455",
         "5750",
         "12490",
         "8073",
         "34938",
         "3200",
         "3533",
         "7338",
         "10556",
         "18683",
         "9043",
         "6877",
         "2420",
         "14779",
         "16992",
         "9889",
         "19102",
         "21015",
         "3813",
         "22695",
         "12512",
         "8066",
         "3897",
         "2722",
         "32658",
         "1092",
         "10160",
         "4150",
         "16757",
         "6165",
         "9826",
         "3817"
        ],
        [
         "Sample4",
         "32436",
         "23769",
         "34398",
         "17331",
         "40203",
         "14304",
         "10859",
         "23336",
         "23306",
         "24309",
         "7658",
         "8003",
         "8598",
         "4037",
         "18178",
         "19764",
         "7524",
         "18623",
         "4949",
         "48066",
         "2738",
         "18271",
         "10989",
         "7494",
         "46425",
         "15656",
         "43336",
         "11909",
         "21202",
         "32745",
         "6248",
         "22225",
         "14442",
         "6656",
         "2904",
         "30805",
         "23486",
         "11396",
         "6046",
         "21128",
         "26149",
         "27868",
         "22554",
         "60679",
         "20293",
         "20251",
         "43700",
         "6312",
         "44939",
         "885",
         "38856",
         "18187",
         "25638",
         "12803",
         "27291",
         "16505",
         "10620",
         "5210",
         "38144",
         "30635",
         "16654",
         "8944",
         "19073",
         "9823",
         "17942",
         "16296",
         "9464",
         "2963",
         "2710",
         "9762",
         "5922",
         "46168",
         "21460",
         "19232",
         "9207",
         "8049",
         "14259",
         "2655",
         "13141",
         "18969",
         "60702",
         "11078",
         "23843",
         "10127",
         "27034",
         "14893",
         "60658",
         "70881",
         "15939",
         "34754",
         "24288",
         "10497",
         "47512",
         "9258",
         "40279",
         "3986",
         "10271",
         "81593",
         "19356",
         "11180",
         "9459",
         "5270",
         "14865",
         "7675",
         "29069",
         "20081",
         "4813",
         "7045",
         "39839",
         "30049",
         "6684",
         "17959",
         "10672",
         "23180",
         "62375",
         "14276",
         "4496",
         "31181",
         "17230",
         "16831",
         "14319",
         "60594",
         "15509",
         "35032",
         "49399",
         "19874",
         "12759",
         "8105",
         "19668",
         "13981",
         "16361",
         "10030",
         "9674",
         "9194",
         "19305",
         "67073",
         "17056",
         "13146",
         "30189",
         "34970",
         "14412",
         "23567",
         "14379",
         "62358",
         "14690",
         "18698",
         "29088",
         "11869",
         "6767",
         "22223",
         "25752",
         "14713",
         "25490",
         "14405",
         "30146",
         "10552",
         "16462",
         "3723",
         "13719",
         "30999",
         "11253",
         "11248",
         "19878",
         "15457",
         "2720",
         "15781",
         "25628",
         "20873",
         "44476",
         "16910",
         "19767",
         "13297",
         "21757",
         "28144",
         "7689",
         "1060",
         "14186",
         "7259",
         "11492",
         "2685",
         "22658",
         "12886",
         "35598",
         "20558",
         "22019",
         "29244",
         "28510",
         "18300",
         "28672",
         "6598",
         "52040",
         "14203",
         "7355",
         "9851",
         "18285",
         "19628",
         "15616",
         "11213",
         "14337",
         "11801",
         "14106",
         "15232",
         "10795",
         "22958",
         "8767",
         "25889",
         "25802",
         "15832",
         "5125",
         "57873",
         "6424",
         "19639",
         "27340",
         "75215",
         "3423",
         "22652",
         "24916",
         "14328",
         "37526",
         "3701",
         "27830",
         "13621",
         "73558",
         "19225",
         "24430",
         "17621",
         "17044",
         "756",
         "20369",
         "13553",
         "4399",
         "5891",
         "17897",
         "13379",
         "6399",
         "6610",
         "9143",
         "11150",
         "8712",
         "6223",
         "5344",
         "71842",
         "4356",
         "17933",
         "14708",
         "40379",
         "11725",
         "23533",
         "9417",
         "4760",
         "33361",
         "45348",
         "53816",
         "55116",
         "4640",
         "31512",
         "6744",
         "10785",
         "20271",
         "59810",
         "61871",
         "26680",
         "39765",
         "7797",
         "8446",
         "2609",
         "15011",
         "23042",
         "40199",
         "5239",
         "31300",
         "10171",
         "9613",
         "22434",
         "17818",
         "34892",
         "9182",
         "22535",
         "34531",
         "100521",
         "12722",
         "16181",
         "30141",
         "11656",
         "24349",
         "11734",
         "35392",
         "4680",
         "4593",
         "57032",
         "19916",
         "5381",
         "6867",
         "6936",
         "8052",
         "1458",
         "20189",
         "4583",
         "10272",
         "15683",
         "34641",
         "3436",
         "32184",
         "10431",
         "13618",
         "7343",
         "26479",
         "26161",
         "8509",
         "32502",
         "9198",
         "16316",
         "44520",
         "19957",
         "19720",
         "7615",
         "17135",
         "913",
         "6631",
         "12831",
         "54050",
         "39809",
         "60807",
         "20711",
         "10295",
         "9176",
         "30647",
         "30602",
         "14580",
         "21953",
         "2434",
         "13836",
         "21125",
         "11641",
         "29196",
         "24287",
         "9905",
         "14722",
         "6633",
         "26829",
         "33671",
         "28824",
         "21799",
         "10338",
         "17716",
         "29516",
         "26209",
         "15131",
         "8016",
         "16297",
         "9062",
         "19897",
         "3636",
         "8753",
         "30662",
         "23921",
         "32536",
         "15857",
         "13737",
         "19731",
         "16475",
         "27882",
         "11911",
         "20324",
         "13024",
         "9555",
         "10203",
         "18048",
         "54697",
         "11366",
         "46637",
         "20524",
         "18483",
         "17189",
         "12252",
         "31341",
         "8570",
         "26655",
         "2609",
         "6106",
         "15796",
         "22078",
         "21906",
         "6850",
         "3950",
         "14967",
         "7477",
         "21085",
         "14542",
         "11911",
         "2187",
         "1461",
         "19239",
         "29313",
         "17855",
         "10826",
         "24153",
         "15166",
         "35181",
         "1787",
         "7442",
         "40424",
         "14319",
         "24856",
         "22966",
         "15470",
         "11162",
         "15007",
         "16305",
         "41109",
         "23546",
         "7117",
         "39026",
         "7736",
         "9965",
         "10444",
         "46853",
         "11993",
         "25668",
         "6021",
         "10028",
         "20089",
         "4703",
         "27169",
         "12919",
         "84974",
         "19393",
         "20968",
         "16696",
         "19255",
         "25901",
         "15254",
         "31642",
         "20756",
         "16391",
         "19333",
         "7816",
         "20335",
         "20712",
         "10130",
         "26731",
         "7459",
         "15253",
         "14052",
         "5174",
         "2007",
         "12586",
         "8179",
         "41505",
         "52003",
         "40317",
         "20043",
         "5976",
         "40052",
         "22565",
         "26606",
         "4688",
         "10548",
         "41954",
         "12496",
         "21728",
         "8591",
         "23980",
         "8234",
         "18893",
         "9690",
         "52180",
         "6966",
         "32585",
         "49343",
         "23878",
         "5856",
         "24231",
         "17768",
         "9005",
         "26840",
         "16968",
         "36284",
         "13585",
         "33193",
         "22825",
         "35300",
         "44449",
         "11410",
         "5510",
         "40464",
         "10672",
         "12043",
         "16030",
         "7599",
         "13723",
         "27113",
         "34964",
         "6142",
         "6672",
         "25074",
         "6668",
         "1580",
         "1710",
         "44897",
         "2376",
         "7703",
         "15984",
         "58495",
         "22819",
         "6343",
         "27889",
         "20160",
         "8943",
         "39539",
         "21172",
         "16161",
         "22997",
         "7956",
         "24177",
         "39843",
         "17689",
         "8146",
         "33426",
         "11042",
         "8001",
         "44245",
         "29948",
         "35298",
         "7317",
         "19666",
         "13614",
         "18651",
         "12079",
         "20361",
         "49529",
         "20074",
         "35132",
         "2775",
         "20588",
         "24683",
         "10819",
         "8293",
         "10545",
         "39164",
         "10941",
         "26430",
         "22057",
         "34227",
         "26632",
         "44579",
         "30447",
         "13927",
         "14165",
         "15558",
         "17173",
         "7788",
         "58479",
         "13366",
         "22599",
         "18055",
         "23653",
         "8133",
         "48143",
         "12107",
         "13369",
         "1605",
         "1497",
         "24872",
         "5855",
         "6158",
         "14986",
         "8384",
         "4234",
         "9820",
         "16510",
         "19092",
         "36835",
         "25440",
         "27586",
         "17275",
         "6770",
         "7844",
         "13115",
         "5694",
         "4546",
         "10792",
         "10269",
         "16660",
         "10977",
         "6364",
         "5031",
         "7203",
         "18774",
         "7741",
         "41458",
         "21391",
         "2200",
         "9532",
         "25467",
         "50539",
         "39266",
         "28292",
         "25285",
         "5588",
         "41006",
         "14224",
         "9091",
         "32624",
         "36304",
         "6024",
         "3516",
         "15699",
         "13020",
         "22935",
         "2541",
         "11204",
         "16531",
         "19393",
         "13788",
         "2435",
         "20304",
         "9069",
         "15489",
         "20204",
         "53850",
         "46988",
         "29988",
         "32034",
         "19748",
         "30571",
         "19134",
         "10919",
         "44180",
         "29913",
         "2283",
         "33041",
         "37298",
         "2412",
         "19807",
         "61844",
         "6796",
         "11668",
         "28454",
         "13761",
         "12178",
         "4662",
         "6463",
         "10534",
         "27012",
         "4166",
         "65732",
         "21755",
         "3401",
         "12207",
         "6458",
         "10217",
         "23617",
         "11792",
         "3602",
         "8170",
         "18260",
         "83366",
         "27091",
         "18982",
         "17950",
         "7740",
         "17127",
         "26560",
         "3206",
         "11731",
         "12996",
         "47286",
         "22370",
         "32619",
         "11181",
         "10572",
         "5294",
         "43635",
         "28420",
         "37115",
         "31721",
         "17477",
         "18546",
         "14381",
         "16396",
         "36795",
         "17163",
         "18827",
         "28117",
         "40987",
         "8253",
         "25574",
         "21333",
         "34489",
         "34622",
         "14067",
         "22272",
         "18947",
         "30989",
         "5054",
         "8492",
         "4247",
         "12429",
         "10352",
         "1167",
         "32945",
         "10121",
         "23101",
         "23894",
         "30974",
         "4905",
         "35162",
         "15425",
         "7515",
         "24991",
         "24944",
         "11213",
         "18121",
         "37567",
         "14714",
         "23924",
         "15637",
         "30376",
         "10536",
         "23092",
         "16056",
         "27283",
         "19337",
         "4865",
         "16053",
         "20155",
         "20738",
         "31406",
         "27249",
         "3211",
         "56631",
         "27639",
         "25138",
         "16056",
         "31790",
         "9901",
         "5056",
         "18646",
         "20031",
         "35730",
         "19797",
         "70816",
         "9417",
         "4373",
         "36612",
         "7954",
         "4927",
         "28628",
         "4103",
         "52655",
         "7870",
         "23185",
         "7987",
         "29189",
         "37850",
         "3812",
         "4766",
         "21321",
         "36315",
         "14115",
         "44941",
         "23588",
         "7409",
         "16404",
         "9606",
         "37474",
         "27204",
         "1417",
         "4531",
         "3997",
         "30582",
         "29349",
         "13356",
         "2946",
         "10569",
         "23861",
         "5682",
         "11858",
         "32215",
         "30975",
         "27417",
         "4021",
         "24570",
         "10112",
         "19152",
         "35830",
         "11868",
         "5951",
         "3681",
         "42201",
         "17143",
         "33678",
         "5580",
         "21152",
         "12672",
         "3427",
         "33185",
         "17213",
         "28565",
         "3081",
         "12613",
         "27507",
         "40758",
         "9352",
         "6862",
         "17494",
         "14858",
         "7778",
         "6393",
         "22975",
         "3185",
         "8424",
         "10028",
         "15627",
         "4972",
         "7116",
         "27075",
         "43755",
         "30127",
         "19491",
         "45164",
         "5678",
         "15885",
         "13044",
         "10066",
         "7400",
         "19679",
         "38496",
         "26042",
         "32750",
         "26336",
         "19323",
         "6545",
         "8266",
         "8252",
         "36567",
         "11550",
         "17171",
         "16946",
         "19628",
         "4478",
         "2615",
         "14300",
         "7658",
         "26971",
         "21610",
         "22605",
         "23136",
         "10477",
         "10453",
         "13543",
         "15800",
         "3052",
         "34102",
         "31046",
         "29317",
         "23298",
         "51282",
         "4407",
         "19398",
         "34700",
         "13458",
         "8826",
         "739",
         "26483",
         "17556",
         "9918",
         "9584",
         "26344",
         "12277",
         "33209",
         "48697",
         "22954",
         "28073",
         "21790",
         "19972",
         "24467",
         "23338",
         "39624",
         "39306",
         "3640",
         "3868",
         "7749",
         "51869",
         "11739",
         "4475",
         "32608",
         "11942",
         "55445",
         "58488",
         "26747",
         "15224",
         "7324",
         "19415",
         "4516",
         "56046",
         "1811",
         "11810",
         "54237",
         "31923",
         "43666",
         "20387",
         "9209",
         "4379",
         "7368",
         "1444",
         "4858",
         "13098",
         "15114",
         "26873",
         "25618",
         "16378",
         "9896",
         "21075",
         "18668",
         "29505",
         "20953",
         "14126",
         "11001",
         "18483",
         "3974",
         "3648",
         "8470",
         "24971",
         "33086",
         "13462",
         "28894",
         "18136",
         "23646",
         "3761",
         "23827",
         "16730",
         "10302",
         "40025",
         "17127",
         "28534",
         "41821",
         "20465",
         "6619",
         "27905",
         "27047",
         "23935",
         "11945",
         "11228",
         "11853",
         "38937",
         "6801",
         "1041",
         "18143",
         "41033",
         "18919",
         "10705",
         "7008",
         "13677",
         "20392",
         "7957",
         "5200",
         "11073",
         "6287",
         "39454",
         "12302",
         "20834",
         "29783",
         "30337",
         "25892",
         "19280",
         "22016",
         "4563",
         "31706",
         "5206",
         "11198",
         "1162",
         "30351",
         "43369",
         "10790",
         "29082",
         "14144",
         "11664",
         "16390",
         "29205",
         "16678",
         "21054",
         "13214",
         "5989",
         "29952",
         "13285",
         "15780",
         "17578",
         "18852",
         "2695",
         "13089",
         "6514",
         "9566",
         "18118",
         "27444",
         "18840",
         "3872",
         "36189",
         "32150",
         "7185",
         "15062",
         "30857",
         "10380",
         "39325",
         "13361",
         "12601",
         "19622",
         "10065",
         "19239",
         "5548",
         "9143",
         "26466",
         "974",
         "20483",
         "41620",
         "33326",
         "13354",
         "22275",
         "20020",
         "4206",
         "29423",
         "15247",
         "18634",
         "20420",
         "15520",
         "6472",
         "8631",
         "10832",
         "30889",
         "17096",
         "28756",
         "86767",
         "5857",
         "37378",
         "18084",
         "18562",
         "12467",
         "7224",
         "39947",
         "23634",
         "2358",
         "30452",
         "8309",
         "34984",
         "50603",
         "12689",
         "6296",
         "2259",
         "21960",
         "9993",
         "27158",
         "27253",
         "11810",
         "46351",
         "32282",
         "49703",
         "10511",
         "16558",
         "12850",
         "8287",
         "40585",
         "16234",
         "12006",
         "5120",
         "17675",
         "20043",
         "3733",
         "16292",
         "8913",
         "21306",
         "31667",
         "7788",
         "12357",
         "6846",
         "17041",
         "22228",
         "23028",
         "20026",
         "59966",
         "29714",
         "27700",
         "40099",
         "26509",
         "24036",
         "12468",
         "21095",
         "24711",
         "24696",
         "18614",
         "16006",
         "22230",
         "9242",
         "5144",
         "4326",
         "6957",
         "31366",
         "9222",
         "52039",
         "38228",
         "7558",
         "12391",
         "6711",
         "5666",
         "3434",
         "12318",
         "7341",
         "31322",
         "10078",
         "5032",
         "73735",
         "3940",
         "9880",
         "19103",
         "9584",
         "12596",
         "12126",
         "14707",
         "12478",
         "11816",
         "14011",
         "12366",
         "47328",
         "6477",
         "17957",
         "8447",
         "24710",
         "10314",
         "9714",
         "2610",
         "41846",
         "14235",
         "2138",
         "34814",
         "31069",
         "33627",
         "17874",
         "20140",
         "16433",
         "20369",
         "39931",
         "35605",
         "16881",
         "22246",
         "32424",
         "18293",
         "10953",
         "20272",
         "31554",
         "25165",
         "5090",
         "10020",
         "8220",
         "20904",
         "53793",
         "17083",
         "23212",
         "11690",
         "29579",
         "4840",
         "4677",
         "33134",
         "41550",
         "22856",
         "25021",
         "16525",
         "21860",
         "3653",
         "8366",
         "23531",
         "20352",
         "6528",
         "14347",
         "7888",
         "25655",
         "9165",
         "20363",
         "19855",
         "7531",
         "12677",
         "43965",
         "22191",
         "3521",
         "1369",
         "39092",
         "22599",
         "44334",
         "32228",
         "4500",
         "19445",
         "24981",
         "12452",
         "6301",
         "10127",
         "19496",
         "24003",
         "15944",
         "3827",
         "11242",
         "31252",
         "9010",
         "22675",
         "21575",
         "19277",
         "26766",
         "9676",
         "12291",
         "13812",
         "24436",
         "30363",
         "10269",
         "40625",
         "5629",
         "2441",
         "25969",
         "12319",
         "3877",
         "54260",
         "18669",
         "27307",
         "37572",
         "3158",
         "29896",
         "16543",
         "8560",
         "23903",
         "24963",
         "14938",
         "55293",
         "32309",
         "7837",
         "24110",
         "55985",
         "16197",
         "15596",
         "12493",
         "8509",
         "7049",
         "20542",
         "53149",
         "16287",
         "35007",
         "12135",
         "14892",
         "34094",
         "24342",
         "23220",
         "5356",
         "12249",
         "25430",
         "29213",
         "20184",
         "40610",
         "15396",
         "34887",
         "6519",
         "20676",
         "37744",
         "18712",
         "39642",
         "23385",
         "20613",
         "25852",
         "50687",
         "19461",
         "2405",
         "13134",
         "33080",
         "14156",
         "8328",
         "16015",
         "6882",
         "42035",
         "19853",
         "33138",
         "26927",
         "11239",
         "6324",
         "716",
         "15653",
         "40331",
         "19731",
         "16439",
         "28686",
         "15225",
         "14054",
         "36452",
         "9844",
         "10769",
         "18071",
         "18455",
         "12712",
         "16949",
         "56565",
         "58841",
         "15525",
         "20321",
         "12825",
         "20509",
         "4399",
         "18178",
         "5778",
         "15331",
         "6339",
         "5438",
         "7851",
         "25781",
         "2295",
         "31312",
         "7428",
         "18451",
         "6400",
         "31596",
         "21499",
         "19690",
         "22175",
         "31503",
         "15665",
         "19545",
         "11718",
         "20784",
         "23584",
         "65184",
         "12090",
         "35724",
         "40246",
         "40683",
         "22937",
         "3911",
         "28297",
         "8672",
         "12196",
         "14619",
         "2993",
         "47640",
         "3367",
         "2383",
         "48971",
         "44095",
         "15751",
         "20875",
         "30146",
         "908",
         "7131",
         "10744",
         "51608",
         "8446",
         "16954",
         "31114",
         "4067",
         "45202",
         "12969",
         "25105",
         "16474",
         "72416",
         "29986",
         "11693",
         "15928",
         "9160",
         "13889",
         "18241",
         "19747",
         "82054",
         "1218",
         "3921",
         "21728",
         "16939",
         "29284",
         "21619",
         "34791",
         "57084",
         "18908",
         "4520",
         "17197",
         "71462",
         "21787",
         "16126",
         "7867",
         "15179",
         "9381",
         "8444",
         "15933",
         "22622",
         "3641",
         "46580",
         "29149",
         "27369",
         "22983",
         "7692",
         "15662",
         "41663",
         "10679",
         "5885",
         "9695",
         "40650",
         "570",
         "32881",
         "28862",
         "22604",
         "3439",
         "15329",
         "27638",
         "15051",
         "22573",
         "12333",
         "25703",
         "29375",
         "17440",
         "12547",
         "31714",
         "36805",
         "16307",
         "7881",
         "75823",
         "40304",
         "46417",
         "9280",
         "7722",
         "4610",
         "10482",
         "3979",
         "28155",
         "51397",
         "8314",
         "43173",
         "2407",
         "18071",
         "36166",
         "12984",
         "19435",
         "20000",
         "27935",
         "2646",
         "5426",
         "22914",
         "11922",
         "20434",
         "19945",
         "10867",
         "10225",
         "49720",
         "31372",
         "37583",
         "21853",
         "56986",
         "16186",
         "25561",
         "34554",
         "4031",
         "5170",
         "4246",
         "8820",
         "67740",
         "2536",
         "32461",
         "21715",
         "10986",
         "13662",
         "15205",
         "35364",
         "11053",
         "6265",
         "18154",
         "10698",
         "23459",
         "3938",
         "25623",
         "20691",
         "12709",
         "16872",
         "9712",
         "5250",
         "40644",
         "15870",
         "6604",
         "9406",
         "7448",
         "18871",
         "6852",
         "49996",
         "32418",
         "7747",
         "5983",
         "47233",
         "21330",
         "19805",
         "20368",
         "19721",
         "25383",
         "21884",
         "8246",
         "9529",
         "8525",
         "31795",
         "23479",
         "26648",
         "10733",
         "4046",
         "8249",
         "7285",
         "5915",
         "8921",
         "30993",
         "14590",
         "1100",
         "4654",
         "6524",
         "10579",
         "19157",
         "7189",
         "12508",
         "42490",
         "13681",
         "18014",
         "3467",
         "13378",
         "7176",
         "23334",
         "18511",
         "13280",
         "11072",
         "15025",
         "4430",
         "35481",
         "9627",
         "35905",
         "83899",
         "5953",
         "8878",
         "19456",
         "11729",
         "24159",
         "21713",
         "9613",
         "33983",
         "8980",
         "18672",
         "4117",
         "24301",
         "36637",
         "15204",
         "11672",
         "51770",
         "57778",
         "13059",
         "18376",
         "17297",
         "9961",
         "3831",
         "19559",
         "11497",
         "65755",
         "8483",
         "33210",
         "22771",
         "11563",
         "36744",
         "27974",
         "21103",
         "19733",
         "21702",
         "22149",
         "10714",
         "29324",
         "19604",
         "5972",
         "18830",
         "30202",
         "19392",
         "24087",
         "38492",
         "32953",
         "25691",
         "39387",
         "17696",
         "37994",
         "39772",
         "23851",
         "13090",
         "11918",
         "8504",
         "9206",
         "48481",
         "15472",
         "16155",
         "4819",
         "6702",
         "8757",
         "47540",
         "6217",
         "3203",
         "18780",
         "23976",
         "23705",
         "36546",
         "14676",
         "21205",
         "12418",
         "21249",
         "6127",
         "7766",
         "40851",
         "10326",
         "9060",
         "20415",
         "6197",
         "33675",
         "43149",
         "2454",
         "5149",
         "11619",
         "2145",
         "5650",
         "9954",
         "10376",
         "19350",
         "20140",
         "29728",
         "6234",
         "10656",
         "17879",
         "35046",
         "6304",
         "16071",
         "16012",
         "10723",
         "5897",
         "20286",
         "6213",
         "28882",
         "16733",
         "31329",
         "51301",
         "15635",
         "26737",
         "16405",
         "25966",
         "21487",
         "17995",
         "48342",
         "5567",
         "25508",
         "88782",
         "2552",
         "1893",
         "15441",
         "26589",
         "9929",
         "11059",
         "4623",
         "2507",
         "17435",
         "6414",
         "27832",
         "7208",
         "44544",
         "5248",
         "7244",
         "27252",
         "23325",
         "28769",
         "3106",
         "22284",
         "12808",
         "52369",
         "4415",
         "12486",
         "8725",
         "10330",
         "20075",
         "21117",
         "19866",
         "28443",
         "4060",
         "3817",
         "30643",
         "3678",
         "41762",
         "20205",
         "9204",
         "24885",
         "32158",
         "15239",
         "1570",
         "3704",
         "4662",
         "26149",
         "5777",
         "18936",
         "10504",
         "36779",
         "18664",
         "19888",
         "20362",
         "11678",
         "11505",
         "23865",
         "9567",
         "7260",
         "3903",
         "53549",
         "22626",
         "24934",
         "23282",
         "21111",
         "5134",
         "4390",
         "22848",
         "25775",
         "7096",
         "14698",
         "20948",
         "25878",
         "30482",
         "18237",
         "17745",
         "12592",
         "32161",
         "34823",
         "20524",
         "33684",
         "33454",
         "34833",
         "18124",
         "23243",
         "28870",
         "35984",
         "12464",
         "38538",
         "5422",
         "10992",
         "16919",
         "79429",
         "25481",
         "13193",
         "25973",
         "3263",
         "5593",
         "14671",
         "22757",
         "28232",
         "24938",
         "34961",
         "10882",
         "19336",
         "5245",
         "27018",
         "5347",
         "32543",
         "12670",
         "19382",
         "5849",
         "2297",
         "10121",
         "7753",
         "2450",
         "2218",
         "24122",
         "15529",
         "46065",
         "5725",
         "24683",
         "41940",
         "1874",
         "16351",
         "24801",
         "7482",
         "23158",
         "20600",
         "35657",
         "6201",
         "22303",
         "17141",
         "9472",
         "68962",
         "62149",
         "22080",
         "3064",
         "21113",
         "33130",
         "26458",
         "14984",
         "7706",
         "13969",
         "26862",
         "49085",
         "25155",
         "6344",
         "23886",
         "8003",
         "30304",
         "32674",
         "7780",
         "22034",
         "14686",
         "15033",
         "19613",
         "16316",
         "12487",
         "9592",
         "43072",
         "21325",
         "12519",
         "5851",
         "10847",
         "14728",
         "16701",
         "17850",
         "9658",
         "18049",
         "9015",
         "42716",
         "9745",
         "7619",
         "14414",
         "6384",
         "12211",
         "38222",
         "39859",
         "8536",
         "81055",
         "21611",
         "14690",
         "13215",
         "19793",
         "25251",
         "39785",
         "25798",
         "2761",
         "14991",
         "15149",
         "3684",
         "16961",
         "14776",
         "26451",
         "41385",
         "2910",
         "16914",
         "6915",
         "10654",
         "2908",
         "2911",
         "24778",
         "15963",
         "17544",
         "15832",
         "31840",
         "15610",
         "16599",
         "33626",
         "13851",
         "15131",
         "30362",
         "14641",
         "11748",
         "9229",
         "4190",
         "30456",
         "9026",
         "2947",
         "39153",
         "6266",
         "17464",
         "43642",
         "52314",
         "8126",
         "10086",
         "9696",
         "31233",
         "3167",
         "21700",
         "11382",
         "26197",
         "18490",
         "19592",
         "40830",
         "2154",
         "4986",
         "2640",
         "6245",
         "4950",
         "33032",
         "19827",
         "25425",
         "25338",
         "9158",
         "26230",
         "21152",
         "4313",
         "17563",
         "44657",
         "27757",
         "19048",
         "40855",
         "58242",
         "15548",
         "32031",
         "25221",
         "22502",
         "40117",
         "5419",
         "11040",
         "16025",
         "29830",
         "28794",
         "27915",
         "51336",
         "10381",
         "26359",
         "7899",
         "59379",
         "13318",
         "14440",
         "7358",
         "15396",
         "21334",
         "26136",
         "28834",
         "26069",
         "16352",
         "26067",
         "7895",
         "7589",
         "7426",
         "32955",
         "19898",
         "5570",
         "20586",
         "70063",
         "13231",
         "15337",
         "19515",
         "34625",
         "27107",
         "6511",
         "8628",
         "8960",
         "33197",
         "14297",
         "7804",
         "46660",
         "8954",
         "2418",
         "6090",
         "13000",
         "53392",
         "31981",
         "6172",
         "3670",
         "25313",
         "18990",
         "54000",
         "8406",
         "13212",
         "13952",
         "23862",
         "16657",
         "12640",
         "26129",
         "46380",
         "21410",
         "14593",
         "29507",
         "22968",
         "37987",
         "20962",
         "14521",
         "2301",
         "5360",
         "8564",
         "19122",
         "12122",
         "53392",
         "4817",
         "5522",
         "10934",
         "16193",
         "28466",
         "13654",
         "10814",
         "3596",
         "22607",
         "26140",
         "15308",
         "29193",
         "32412",
         "5686",
         "35235",
         "19235",
         "12360",
         "5872",
         "4089",
         "49910",
         "1578",
         "15573",
         "6447",
         "25919",
         "9489",
         "15117",
         "5805"
        ],
        [
         "Sample5",
         "18997",
         "13838",
         "20100",
         "10199",
         "23418",
         "8442",
         "6369",
         "13689",
         "13753",
         "14431",
         "4615",
         "4747",
         "5031",
         "2263",
         "10625",
         "11725",
         "4512",
         "11053",
         "2822",
         "28103",
         "1698",
         "10462",
         "6553",
         "4289",
         "27224",
         "9304",
         "25396",
         "7125",
         "12166",
         "19531",
         "3545",
         "12952",
         "8547",
         "3921",
         "1619",
         "18306",
         "13546",
         "6803",
         "3630",
         "12249",
         "15652",
         "16029",
         "13125",
         "35329",
         "11969",
         "11889",
         "25476",
         "3689",
         "26370",
         "564",
         "22699",
         "10732",
         "15187",
         "7295",
         "16003",
         "9654",
         "6322",
         "3189",
         "22302",
         "17864",
         "9622",
         "5355",
         "11128",
         "5882",
         "10627",
         "9720",
         "5678",
         "1784",
         "1528",
         "5860",
         "3442",
         "26699",
         "12358",
         "11158",
         "5553",
         "4665",
         "8229",
         "1618",
         "7574",
         "11139",
         "35540",
         "6416",
         "14090",
         "5716",
         "15872",
         "8771",
         "35304",
         "41647",
         "9352",
         "20597",
         "14221",
         "5977",
         "27835",
         "5441",
         "23474",
         "2280",
         "5955",
         "48100",
         "11358",
         "6599",
         "5514",
         "3049",
         "8691",
         "4531",
         "17198",
         "11749",
         "2816",
         "4194",
         "23845",
         "17564",
         "4005",
         "10486",
         "6024",
         "13575",
         "36659",
         "8302",
         "2531",
         "18270",
         "10079",
         "9772",
         "8418",
         "35305",
         "9136",
         "20343",
         "28904",
         "11725",
         "7526",
         "4760",
         "11545",
         "8019",
         "9612",
         "6011",
         "5587",
         "5330",
         "11237",
         "38747",
         "10007",
         "7732",
         "17849",
         "20316",
         "8364",
         "13842",
         "8388",
         "36300",
         "8661",
         "10850",
         "16807",
         "6822",
         "3988",
         "12984",
         "15245",
         "8561",
         "14805",
         "8604",
         "17862",
         "6333",
         "9670",
         "2159",
         "8097",
         "17825",
         "6516",
         "6539",
         "11687",
         "9146",
         "1581",
         "9182",
         "14798",
         "12053",
         "25947",
         "9944",
         "11477",
         "7648",
         "12378",
         "16691",
         "4365",
         "654",
         "8237",
         "4288",
         "6824",
         "1533",
         "13244",
         "7473",
         "20729",
         "12206",
         "12838",
         "16798",
         "16533",
         "10785",
         "16922",
         "3755",
         "30335",
         "8188",
         "4116",
         "5895",
         "10934",
         "11593",
         "9189",
         "6761",
         "8379",
         "6932",
         "8368",
         "9038",
         "6151",
         "13203",
         "5167",
         "15297",
         "15031",
         "9335",
         "2873",
         "34135",
         "3884",
         "11649",
         "15826",
         "44536",
         "2090",
         "13553",
         "14405",
         "8308",
         "22056",
         "2230",
         "16273",
         "7890",
         "42693",
         "11225",
         "14110",
         "10503",
         "9949",
         "437",
         "11846",
         "8008",
         "2495",
         "3412",
         "10538",
         "7951",
         "3715",
         "3969",
         "5343",
         "6350",
         "5034",
         "3536",
         "3130",
         "41989",
         "2490",
         "10425",
         "8718",
         "23849",
         "6707",
         "13916",
         "5524",
         "2750",
         "19601",
         "26452",
         "31551",
         "32530",
         "2686",
         "18281",
         "3902",
         "6442",
         "11701",
         "34895",
         "36005",
         "15654",
         "23230",
         "4528",
         "4894",
         "1538",
         "8848",
         "13515",
         "23520",
         "3075",
         "18200",
         "5985",
         "5525",
         "13247",
         "10355",
         "20608",
         "5301",
         "13063",
         "20120",
         "59232",
         "7504",
         "9282",
         "17448",
         "6824",
         "14424",
         "6880",
         "20613",
         "2745",
         "2702",
         "33636",
         "11680",
         "3263",
         "4044",
         "4082",
         "4793",
         "886",
         "11650",
         "2782",
         "6020",
         "9403",
         "20265",
         "1965",
         "18676",
         "5946",
         "8080",
         "4283",
         "15521",
         "15114",
         "4917",
         "18603",
         "5318",
         "9623",
         "25808",
         "11496",
         "11604",
         "4403",
         "10038",
         "516",
         "3973",
         "7545",
         "31791",
         "23371",
         "35744",
         "12266",
         "6035",
         "5278",
         "17678",
         "17995",
         "8539",
         "12735",
         "1374",
         "8012",
         "12373",
         "6578",
         "17166",
         "13997",
         "5747",
         "8555",
         "3918",
         "15713",
         "19606",
         "16705",
         "12827",
         "6126",
         "10351",
         "17134",
         "15395",
         "8862",
         "4736",
         "9717",
         "5358",
         "11564",
         "2151",
         "5103",
         "18039",
         "13855",
         "18897",
         "9250",
         "8011",
         "11356",
         "9539",
         "16320",
         "7013",
         "11928",
         "7613",
         "5607",
         "6109",
         "10521",
         "31760",
         "6755",
         "26913",
         "11952",
         "10867",
         "9918",
         "7298",
         "18687",
         "5084",
         "15436",
         "1488",
         "3349",
         "9199",
         "12754",
         "12769",
         "4070",
         "2296",
         "8904",
         "4345",
         "12150",
         "8500",
         "6963",
         "1300",
         "866",
         "11354",
         "16921",
         "10419",
         "6171",
         "14156",
         "8753",
         "20601",
         "1026",
         "4343",
         "23657",
         "8460",
         "14546",
         "13154",
         "9171",
         "6539",
         "8900",
         "9545",
         "24178",
         "13890",
         "4188",
         "22539",
         "4507",
         "5822",
         "6080",
         "27448",
         "7161",
         "15024",
         "3430",
         "6116",
         "11625",
         "2834",
         "15581",
         "7620",
         "49157",
         "11411",
         "12147",
         "9794",
         "11019",
         "15057",
         "8849",
         "18404",
         "12013",
         "9568",
         "11318",
         "4607",
         "12067",
         "12016",
         "5974",
         "15802",
         "4543",
         "8980",
         "8220",
         "3096",
         "1134",
         "7309",
         "4811",
         "24260",
         "30669",
         "23337",
         "11508",
         "3513",
         "23117",
         "13294",
         "15802",
         "2772",
         "6219",
         "25026",
         "7277",
         "12827",
         "4954",
         "13942",
         "4769",
         "10929",
         "5909",
         "30642",
         "4142",
         "18994",
         "28573",
         "14054",
         "3450",
         "14008",
         "10119",
         "5204",
         "15480",
         "9753",
         "21229",
         "8071",
         "19308",
         "13446",
         "20564",
         "26145",
         "6731",
         "3156",
         "23646",
         "6198",
         "7032",
         "9447",
         "4421",
         "7922",
         "15841",
         "20003",
         "3639",
         "3927",
         "14601",
         "3844",
         "954",
         "1071",
         "26357",
         "1409",
         "4552",
         "9316",
         "34122",
         "13075",
         "3750",
         "16440",
         "11784",
         "5289",
         "23241",
         "12563",
         "9453",
         "13499",
         "4574",
         "14193",
         "23474",
         "10526",
         "4800",
         "20039",
         "6541",
         "4601",
         "25896",
         "17847",
         "20642",
         "4275",
         "11436",
         "7832",
         "10799",
         "7119",
         "11842",
         "29112",
         "11885",
         "20682",
         "1698",
         "12179",
         "14713",
         "6287",
         "4924",
         "6268",
         "22654",
         "6377",
         "15392",
         "12767",
         "19770",
         "15401",
         "26182",
         "17921",
         "8283",
         "8334",
         "9196",
         "9939",
         "4652",
         "33906",
         "7883",
         "13333",
         "10677",
         "13749",
         "4750",
         "28067",
         "7121",
         "7890",
         "880",
         "825",
         "14532",
         "3427",
         "3566",
         "8894",
         "4970",
         "2529",
         "5769",
         "9609",
         "11274",
         "21614",
         "15138",
         "15878",
         "10280",
         "3977",
         "4617",
         "7821",
         "3282",
         "2632",
         "6297",
         "5944",
         "9848",
         "6411",
         "3691",
         "2902",
         "4314",
         "10857",
         "4518",
         "24198",
         "12557",
         "1316",
         "5498",
         "15303",
         "29680",
         "22926",
         "16501",
         "14899",
         "3395",
         "24381",
         "8380",
         "5382",
         "19200",
         "21171",
         "3555",
         "2032",
         "9346",
         "7701",
         "13269",
         "1463",
         "6510",
         "9727",
         "11295",
         "8059",
         "1449",
         "11873",
         "5381",
         "9148",
         "11830",
         "31663",
         "27282",
         "17402",
         "18719",
         "11717",
         "17587",
         "10988",
         "6494",
         "25652",
         "17650",
         "1361",
         "19068",
         "21894",
         "1366",
         "11467",
         "35928",
         "4046",
         "6806",
         "16314",
         "8038",
         "7113",
         "2807",
         "3744",
         "6044",
         "15526",
         "2439",
         "38163",
         "12707",
         "1983",
         "7152",
         "3732",
         "6012",
         "13986",
         "6976",
         "2156",
         "4803",
         "10696",
         "48918",
         "15785",
         "11107",
         "10298",
         "4562",
         "9833",
         "15670",
         "1875",
         "6975",
         "7551",
         "27311",
         "13203",
         "18793",
         "6738",
         "6177",
         "3050",
         "25800",
         "16571",
         "21910",
         "18386",
         "10056",
         "10895",
         "8554",
         "9500",
         "21581",
         "10202",
         "11047",
         "16350",
         "23958",
         "4869",
         "14847",
         "12452",
         "20527",
         "20345",
         "8338",
         "12813",
         "11027",
         "18191",
         "2947",
         "5126",
         "2492",
         "7330",
         "6076",
         "679",
         "19028",
         "5897",
         "13753",
         "13938",
         "17852",
         "2786",
         "20495",
         "8850",
         "4395",
         "14476",
         "14533",
         "6327",
         "10425",
         "22203",
         "8493",
         "14235",
         "9188",
         "17601",
         "6397",
         "13330",
         "9629",
         "15973",
         "11493",
         "2861",
         "9413",
         "11485",
         "12162",
         "18457",
         "15830",
         "1857",
         "33521",
         "15865",
         "14530",
         "9305",
         "18878",
         "5935",
         "3058",
         "10804",
         "11902",
         "20938",
         "11405",
         "41634",
         "5529",
         "2503",
         "21465",
         "4681",
         "2929",
         "16722",
         "2422",
         "30478",
         "4564",
         "13643",
         "4854",
         "17010",
         "22088",
         "2222",
         "2800",
         "12322",
         "21474",
         "8309",
         "26171",
         "13839",
         "4249",
         "9464",
         "5546",
         "21860",
         "16002",
         "844",
         "2578",
         "2269",
         "17795",
         "17270",
         "7629",
         "1724",
         "6208",
         "14039",
         "3201",
         "6866",
         "18727",
         "17842",
         "16197",
         "2405",
         "14373",
         "6063",
         "11145",
         "20994",
         "6794",
         "3682",
         "2137",
         "24813",
         "10055",
         "19655",
         "3128",
         "12403",
         "7592",
         "2113",
         "19288",
         "10036",
         "16879",
         "1687",
         "7396",
         "15922",
         "24268",
         "5321",
         "4198",
         "10211",
         "8594",
         "4442",
         "3836",
         "13263",
         "1821",
         "4882",
         "5923",
         "9075",
         "2980",
         "4138",
         "15482",
         "25273",
         "17680",
         "11237",
         "26004",
         "3379",
         "9304",
         "7667",
         "6080",
         "4417",
         "11607",
         "22554",
         "15288",
         "19172",
         "15584",
         "11334",
         "3696",
         "4955",
         "4789",
         "21103",
         "6739",
         "10016",
         "9953",
         "11714",
         "2623",
         "1530",
         "8290",
         "4362",
         "16034",
         "12486",
         "13172",
         "13252",
         "6072",
         "6213",
         "7860",
         "9245",
         "1845",
         "19984",
         "18158",
         "16960",
         "13989",
         "29907",
         "2575",
         "11296",
         "20197",
         "8043",
         "5118",
         "415",
         "15312",
         "10268",
         "5939",
         "5513",
         "15376",
         "7295",
         "19248",
         "28784",
         "13538",
         "16650",
         "12575",
         "11435",
         "14353",
         "13612",
         "23028",
         "22842",
         "2159",
         "2297",
         "4504",
         "30204",
         "6839",
         "2571",
         "18880",
         "7018",
         "32116",
         "34539",
         "15671",
         "9180",
         "4224",
         "11498",
         "2689",
         "32659",
         "1042",
         "6917",
         "31614",
         "18801",
         "25472",
         "11974",
         "5422",
         "2568",
         "4238",
         "868",
         "2822",
         "7568",
         "8676",
         "15593",
         "14981",
         "9840",
         "5920",
         "12169",
         "11033",
         "17171",
         "12188",
         "8297",
         "6451",
         "10799",
         "2393",
         "2143",
         "4761",
         "14552",
         "19475",
         "7858",
         "16693",
         "10611",
         "13694",
         "2150",
         "13925",
         "9696",
         "6052",
         "23388",
         "10049",
         "16646",
         "24380",
         "12124",
         "3881",
         "16158",
         "16025",
         "13957",
         "7051",
         "6539",
         "6909",
         "22750",
         "3905",
         "605",
         "10477",
         "24051",
         "11070",
         "6119",
         "4074",
         "8074",
         "12084",
         "4563",
         "3106",
         "6568",
         "3804",
         "22869",
         "7325",
         "12115",
         "17324",
         "17633",
         "14877",
         "11456",
         "12925",
         "2695",
         "18755",
         "3135",
         "6537",
         "658",
         "17804",
         "25293",
         "6426",
         "17135",
         "8204",
         "6728",
         "9663",
         "16723",
         "9851",
         "12115",
         "7509",
         "3606",
         "17450",
         "7775",
         "9487",
         "10125",
         "11169",
         "1587",
         "7636",
         "3733",
         "5614",
         "10549",
         "15970",
         "10889",
         "2279",
         "21155",
         "18777",
         "4210",
         "8784",
         "18124",
         "6093",
         "23115",
         "7873",
         "7300",
         "11402",
         "5852",
         "11429",
         "3216",
         "5383",
         "15249",
         "593",
         "11955",
         "24325",
         "19417",
         "7756",
         "13049",
         "11585",
         "2356",
         "17510",
         "8745",
         "10833",
         "12108",
         "9156",
         "3790",
         "4967",
         "6346",
         "17953",
         "9965",
         "17214",
         "50894",
         "3392",
         "21916",
         "10739",
         "10875",
         "7134",
         "4166",
         "23088",
         "13805",
         "1420",
         "17730",
         "5017",
         "20630",
         "29405",
         "7260",
         "3722",
         "1377",
         "12684",
         "5806",
         "16108",
         "15797",
         "6823",
         "26950",
         "19151",
         "28926",
         "6043",
         "9726",
         "7560",
         "4858",
         "23569",
         "9718",
         "7043",
         "3077",
         "10289",
         "11563",
         "2216",
         "9348",
         "5307",
         "12448",
         "18557",
         "4558",
         "7427",
         "4089",
         "9913",
         "13026",
         "13438",
         "11545",
         "34845",
         "17660",
         "16435",
         "23787",
         "15458",
         "14054",
         "7253",
         "12521",
         "14597",
         "14546",
         "10894",
         "9330",
         "12651",
         "5283",
         "3015",
         "2505",
         "4000",
         "18339",
         "5307",
         "30377",
         "22615",
         "4504",
         "7125",
         "3946",
         "3321",
         "2028",
         "7231",
         "4168",
         "18544",
         "5780",
         "3007",
         "43167",
         "2378",
         "5817",
         "11384",
         "5591",
         "7271",
         "6935",
         "8550",
         "7265",
         "7021",
         "8206",
         "7127",
         "27684",
         "3784",
         "10471",
         "4822",
         "14365",
         "5930",
         "5629",
         "1548",
         "24440",
         "8536",
         "1229",
         "20556",
         "18072",
         "19858",
         "10687",
         "11683",
         "9535",
         "11981",
         "23340",
         "20756",
         "9840",
         "12978",
         "18974",
         "10754",
         "6460",
         "11706",
         "18670",
         "14711",
         "2982",
         "5685",
         "4823",
         "12167",
         "31479",
         "10054",
         "13390",
         "6928",
         "17417",
         "2817",
         "2730",
         "19414",
         "24136",
         "13445",
         "14521",
         "9699",
         "12727",
         "2166",
         "4888",
         "13533",
         "12019",
         "3715",
         "8298",
         "4568",
         "15158",
         "5232",
         "11913",
         "11592",
         "4474",
         "7366",
         "26006",
         "13047",
         "2151",
         "818",
         "22847",
         "13055",
         "25809",
         "18632",
         "2726",
         "11363",
         "14753",
         "7203",
         "3640",
         "5935",
         "11337",
         "13973",
         "9356",
         "2226",
         "6519",
         "18397",
         "5205",
         "13232",
         "12464",
         "11344",
         "15379",
         "5567",
         "7163",
         "8259",
         "14217",
         "17616",
         "6024",
         "23354",
         "3167",
         "1424",
         "14876",
         "7233",
         "2222",
         "31626",
         "10799",
         "16044",
         "22015",
         "1947",
         "17413",
         "9618",
         "5113",
         "13759",
         "14570",
         "8765",
         "32156",
         "19216",
         "4527",
         "14164",
         "32889",
         "9526",
         "9224",
         "7282",
         "5016",
         "4170",
         "12168",
         "31088",
         "9592",
         "20572",
         "7013",
         "8641",
         "19822",
         "14041",
         "13538",
         "3107",
         "7147",
         "14763",
         "17151",
         "11641",
         "23656",
         "9213",
         "20280",
         "3887",
         "12250",
         "22462",
         "10904",
         "22833",
         "13669",
         "12036",
         "15087",
         "29768",
         "11377",
         "1417",
         "7804",
         "19502",
         "8135",
         "4766",
         "9344",
         "4012",
         "24605",
         "11778",
         "19384",
         "15939",
         "6661",
         "3611",
         "432",
         "9198",
         "23266",
         "11505",
         "9513",
         "16546",
         "8813",
         "8064",
         "21220",
         "5664",
         "6295",
         "10448",
         "10931",
         "7333",
         "9927",
         "33251",
         "34553",
         "9236",
         "12216",
         "7489",
         "12061",
         "2545",
         "10641",
         "3289",
         "8695",
         "3684",
         "3160",
         "4559",
         "15156",
         "1338",
         "18265",
         "4314",
         "10854",
         "3704",
         "18467",
         "12465",
         "11588",
         "13059",
         "18510",
         "9198",
         "11568",
         "6855",
         "12102",
         "13721",
         "38219",
         "7265",
         "20658",
         "23589",
         "23749",
         "13383",
         "2268",
         "16710",
         "5036",
         "7046",
         "8560",
         "1711",
         "27775",
         "1937",
         "1420",
         "28818",
         "25622",
         "9062",
         "12401",
         "17561",
         "575",
         "4153",
         "6071",
         "30826",
         "4983",
         "9946",
         "18222",
         "2318",
         "26514",
         "7578",
         "14801",
         "9576",
         "42107",
         "17509",
         "6832",
         "9307",
         "5406",
         "8041",
         "10743",
         "11748",
         "48146",
         "695",
         "2265",
         "12734",
         "9859",
         "16782",
         "12659",
         "20265",
         "33613",
         "11094",
         "2567",
         "9901",
         "41522",
         "12753",
         "9385",
         "4521",
         "8645",
         "5495",
         "4958",
         "9109",
         "13402",
         "2079",
         "27142",
         "16881",
         "15965",
         "13399",
         "4540",
         "8977",
         "24576",
         "6091",
         "3490",
         "5747",
         "24092",
         "329",
         "19227",
         "16940",
         "13236",
         "2123",
         "8986",
         "16113",
         "8716",
         "13308",
         "7188",
         "14935",
         "16965",
         "10373",
         "7344",
         "18518",
         "21688",
         "9546",
         "4759",
         "43818",
         "23850",
         "27098",
         "5373",
         "4521",
         "2690",
         "6162",
         "2273",
         "16528",
         "29742",
         "4881",
         "25392",
         "1442",
         "10569",
         "21176",
         "7831",
         "11360",
         "11660",
         "16244",
         "1592",
         "3159",
         "13144",
         "6939",
         "11824",
         "11539",
         "6229",
         "5937",
         "29274",
         "17993",
         "22167",
         "12639",
         "33591",
         "9468",
         "14866",
         "20088",
         "2385",
         "3029",
         "2427",
         "5093",
         "39746",
         "1512",
         "19282",
         "12716",
         "6340",
         "7917",
         "9082",
         "21136",
         "6334",
         "3607",
         "10368",
         "5961",
         "14020",
         "2217",
         "15090",
         "12262",
         "7377",
         "9753",
         "5575",
         "3108",
         "23924",
         "9158",
         "3952",
         "5575",
         "4362",
         "10914",
         "4028",
         "29102",
         "18861",
         "4588",
         "3490",
         "27466",
         "12560",
         "11539",
         "11977",
         "11335",
         "14806",
         "12649",
         "4785",
         "5613",
         "5031",
         "18504",
         "13887",
         "15672",
         "6340",
         "2449",
         "4816",
         "4252",
         "3436",
         "5198",
         "18126",
         "8510",
         "604",
         "2632",
         "3847",
         "6107",
         "11041",
         "4030",
         "7537",
         "24854",
         "8050",
         "10652",
         "2091",
         "7757",
         "4332",
         "13851",
         "10749",
         "7892",
         "6424",
         "8922",
         "2537",
         "20659",
         "5548",
         "20978",
         "48977",
         "3405",
         "5230",
         "11398",
         "6878",
         "14150",
         "12832",
         "5669",
         "20152",
         "5272",
         "10959",
         "2437",
         "14329",
         "21507",
         "8913",
         "6758",
         "30521",
         "33634",
         "7630",
         "10900",
         "10073",
         "5747",
         "2177",
         "11551",
         "6786",
         "38635",
         "5068",
         "19498",
         "13325",
         "6843",
         "21619",
         "16384",
         "12195",
         "11557",
         "12760",
         "13070",
         "6394",
         "17532",
         "11534",
         "3530",
         "11347",
         "17787",
         "11549",
         "13715",
         "22424",
         "19087",
         "14865",
         "23345",
         "10339",
         "22170",
         "23587",
         "13888",
         "7605",
         "6871",
         "4827",
         "5284",
         "28313",
         "9030",
         "9439",
         "2738",
         "4134",
         "5151",
         "28220",
         "3590",
         "1801",
         "10892",
         "14093",
         "13577",
         "21802",
         "8554",
         "12560",
         "7471",
         "12237",
         "3608",
         "4570",
         "23755",
         "6020",
         "5315",
         "12046",
         "3550",
         "19502",
         "25023",
         "1406",
         "3007",
         "6753",
         "1263",
         "3280",
         "5647",
         "6118",
         "11266",
         "11616",
         "17227",
         "3566",
         "6304",
         "10522",
         "20301",
         "3705",
         "9304",
         "9343",
         "6316",
         "3346",
         "11927",
         "3507",
         "16986",
         "9761",
         "18575",
         "30074",
         "9239",
         "15605",
         "9904",
         "15458",
         "12563",
         "10461",
         "28247",
         "3156",
         "14844",
         "52023",
         "1492",
         "1128",
         "9241",
         "15387",
         "5837",
         "6419",
         "2712",
         "1513",
         "10314",
         "3741",
         "16268",
         "4249",
         "26022",
         "3202",
         "4220",
         "16133",
         "13761",
         "17047",
         "1813",
         "12835",
         "7568",
         "30780",
         "2441",
         "7202",
         "4940",
         "5935",
         "11656",
         "12381",
         "11638",
         "16770",
         "2326",
         "2300",
         "17816",
         "2114",
         "24375",
         "11640",
         "5500",
         "14404",
         "18969",
         "8910",
         "940",
         "2250",
         "2675",
         "14958",
         "3354",
         "11202",
         "6108",
         "21528",
         "10857",
         "11611",
         "11995",
         "6719",
         "6861",
         "13554",
         "5443",
         "4219",
         "2264",
         "31509",
         "13476",
         "14884",
         "13414",
         "12511",
         "3004",
         "2544",
         "13542",
         "15397",
         "4235",
         "8436",
         "12100",
         "15440",
         "17775",
         "10749",
         "10402",
         "7541",
         "18897",
         "20013",
         "11751",
         "19619",
         "19501",
         "20959",
         "10681",
         "13721",
         "16828",
         "21158",
         "7271",
         "22665",
         "3177",
         "6297",
         "9790",
         "46157",
         "15149",
         "7877",
         "15071",
         "1868",
         "3217",
         "8459",
         "13404",
         "16329",
         "14653",
         "20601",
         "6297",
         "11487",
         "3012",
         "16081",
         "3039",
         "18996",
         "7354",
         "11293",
         "3548",
         "1355",
         "5930",
         "4643",
         "1456",
         "1280",
         "13834",
         "9274",
         "27303",
         "3292",
         "14400",
         "24572",
         "1051",
         "9682",
         "14491",
         "4500",
         "13793",
         "11893",
         "21189",
         "3612",
         "13188",
         "10091",
         "5517",
         "39687",
         "36618",
         "12840",
         "1834",
         "12418",
         "19278",
         "15602",
         "8918",
         "4575",
         "8233",
         "15677",
         "28882",
         "14727",
         "3604",
         "14113",
         "4602",
         "17738",
         "18896",
         "4375",
         "12934",
         "8883",
         "8637",
         "11475",
         "9470",
         "7351",
         "5723",
         "25375",
         "12296",
         "7302",
         "3457",
         "6290",
         "8525",
         "9690",
         "10389",
         "5659",
         "10333",
         "5439",
         "25053",
         "5665",
         "4263",
         "8614",
         "3783",
         "6980",
         "22353",
         "23320",
         "4892",
         "46869",
         "12467",
         "8435",
         "7685",
         "11500",
         "14807",
         "23467",
         "14950",
         "1646",
         "8724",
         "8815",
         "2227",
         "9860",
         "8795",
         "15096",
         "23899",
         "1688",
         "9784",
         "4036",
         "6315",
         "1587",
         "1758",
         "14554",
         "9337",
         "10279",
         "9214",
         "18776",
         "9278",
         "9706",
         "19661",
         "8252",
         "8881",
         "17668",
         "8556",
         "6771",
         "5436",
         "2465",
         "17781",
         "5161",
         "1741",
         "22798",
         "3790",
         "10336",
         "25365",
         "30660",
         "4672",
         "5801",
         "5823",
         "18036",
         "1860",
         "12554",
         "6551",
         "15327",
         "10736",
         "11720",
         "24041",
         "1375",
         "2860",
         "1533",
         "3616",
         "2992",
         "19356",
         "11639",
         "14614",
         "14887",
         "5418",
         "15125",
         "12423",
         "2559",
         "10281",
         "25938",
         "16181",
         "11176",
         "23688",
         "33957",
         "9175",
         "18972",
         "14869",
         "13229",
         "23384",
         "3178",
         "6549",
         "9656",
         "17316",
         "16875",
         "16268",
         "30193",
         "6132",
         "15135",
         "4548",
         "34818",
         "7735",
         "8495",
         "4294",
         "9172",
         "12610",
         "15387",
         "16962",
         "15357",
         "9701",
         "15171",
         "4782",
         "4459",
         "4323",
         "18873",
         "11522",
         "3207",
         "11979",
         "40794",
         "7725",
         "8739",
         "11401",
         "20335",
         "15954",
         "3870",
         "4878",
         "5176",
         "19470",
         "8545",
         "4764",
         "27240",
         "5063",
         "1457",
         "3533",
         "7543",
         "31423",
         "18598",
         "3651",
         "2184",
         "14686",
         "11134",
         "32029",
         "4969",
         "7666",
         "8089",
         "13823",
         "9872",
         "7183",
         "14973",
         "27141",
         "12370",
         "8294",
         "17417",
         "13515",
         "22433",
         "12341",
         "8423",
         "1404",
         "3148",
         "5044",
         "11195",
         "7221",
         "31041",
         "2871",
         "3150",
         "6536",
         "9427",
         "16649",
         "7980",
         "6234",
         "2150",
         "13201",
         "15102",
         "8749",
         "17017",
         "18837",
         "3323",
         "20477",
         "11316",
         "7271",
         "3525",
         "2472",
         "29217",
         "969",
         "8928",
         "3691",
         "15211",
         "5482",
         "8977",
         "3473"
        ]
       ],
       "shape": {
        "columns": 2000,
        "rows": 5
       }
      },
      "text/html": [
       "<div>\n",
       "<style scoped>\n",
       "    .dataframe tbody tr th:only-of-type {\n",
       "        vertical-align: middle;\n",
       "    }\n",
       "\n",
       "    .dataframe tbody tr th {\n",
       "        vertical-align: top;\n",
       "    }\n",
       "\n",
       "    .dataframe thead th {\n",
       "        text-align: right;\n",
       "    }\n",
       "</style>\n",
       "<table border=\"1\" class=\"dataframe\">\n",
       "  <thead>\n",
       "    <tr style=\"text-align: right;\">\n",
       "      <th></th>\n",
       "      <th>Gene1</th>\n",
       "      <th>Gene2</th>\n",
       "      <th>Gene3</th>\n",
       "      <th>Gene4</th>\n",
       "      <th>Gene5</th>\n",
       "      <th>Gene6</th>\n",
       "      <th>Gene7</th>\n",
       "      <th>Gene8</th>\n",
       "      <th>Gene9</th>\n",
       "      <th>Gene10</th>\n",
       "      <th>...</th>\n",
       "      <th>Gene1991</th>\n",
       "      <th>Gene1992</th>\n",
       "      <th>Gene1993</th>\n",
       "      <th>Gene1994</th>\n",
       "      <th>Gene1995</th>\n",
       "      <th>Gene1996</th>\n",
       "      <th>Gene1997</th>\n",
       "      <th>Gene1998</th>\n",
       "      <th>Gene1999</th>\n",
       "      <th>Gene2000</th>\n",
       "    </tr>\n",
       "  </thead>\n",
       "  <tbody>\n",
       "    <tr>\n",
       "      <th>Sample1</th>\n",
       "      <td>9706</td>\n",
       "      <td>7126</td>\n",
       "      <td>10350</td>\n",
       "      <td>5175</td>\n",
       "      <td>12208</td>\n",
       "      <td>4150</td>\n",
       "      <td>3281</td>\n",
       "      <td>7054</td>\n",
       "      <td>7117</td>\n",
       "      <td>7235</td>\n",
       "      <td>...</td>\n",
       "      <td>1761</td>\n",
       "      <td>1210</td>\n",
       "      <td>15021</td>\n",
       "      <td>479</td>\n",
       "      <td>4678</td>\n",
       "      <td>1810</td>\n",
       "      <td>7551</td>\n",
       "      <td>2806</td>\n",
       "      <td>4466</td>\n",
       "      <td>1682</td>\n",
       "    </tr>\n",
       "    <tr>\n",
       "      <th>Sample2</th>\n",
       "      <td>39508</td>\n",
       "      <td>28960</td>\n",
       "      <td>42201</td>\n",
       "      <td>21008</td>\n",
       "      <td>49160</td>\n",
       "      <td>17230</td>\n",
       "      <td>13320</td>\n",
       "      <td>28572</td>\n",
       "      <td>28582</td>\n",
       "      <td>29179</td>\n",
       "      <td>...</td>\n",
       "      <td>7158</td>\n",
       "      <td>5060</td>\n",
       "      <td>60305</td>\n",
       "      <td>1904</td>\n",
       "      <td>18640</td>\n",
       "      <td>7720</td>\n",
       "      <td>31819</td>\n",
       "      <td>11500</td>\n",
       "      <td>18136</td>\n",
       "      <td>7052</td>\n",
       "    </tr>\n",
       "    <tr>\n",
       "      <th>Sample3</th>\n",
       "      <td>21334</td>\n",
       "      <td>15245</td>\n",
       "      <td>22384</td>\n",
       "      <td>11284</td>\n",
       "      <td>26287</td>\n",
       "      <td>9297</td>\n",
       "      <td>7239</td>\n",
       "      <td>15080</td>\n",
       "      <td>15266</td>\n",
       "      <td>15668</td>\n",
       "      <td>...</td>\n",
       "      <td>3897</td>\n",
       "      <td>2722</td>\n",
       "      <td>32658</td>\n",
       "      <td>1092</td>\n",
       "      <td>10160</td>\n",
       "      <td>4150</td>\n",
       "      <td>16757</td>\n",
       "      <td>6165</td>\n",
       "      <td>9826</td>\n",
       "      <td>3817</td>\n",
       "    </tr>\n",
       "    <tr>\n",
       "      <th>Sample4</th>\n",
       "      <td>32436</td>\n",
       "      <td>23769</td>\n",
       "      <td>34398</td>\n",
       "      <td>17331</td>\n",
       "      <td>40203</td>\n",
       "      <td>14304</td>\n",
       "      <td>10859</td>\n",
       "      <td>23336</td>\n",
       "      <td>23306</td>\n",
       "      <td>24309</td>\n",
       "      <td>...</td>\n",
       "      <td>5872</td>\n",
       "      <td>4089</td>\n",
       "      <td>49910</td>\n",
       "      <td>1578</td>\n",
       "      <td>15573</td>\n",
       "      <td>6447</td>\n",
       "      <td>25919</td>\n",
       "      <td>9489</td>\n",
       "      <td>15117</td>\n",
       "      <td>5805</td>\n",
       "    </tr>\n",
       "    <tr>\n",
       "      <th>Sample5</th>\n",
       "      <td>18997</td>\n",
       "      <td>13838</td>\n",
       "      <td>20100</td>\n",
       "      <td>10199</td>\n",
       "      <td>23418</td>\n",
       "      <td>8442</td>\n",
       "      <td>6369</td>\n",
       "      <td>13689</td>\n",
       "      <td>13753</td>\n",
       "      <td>14431</td>\n",
       "      <td>...</td>\n",
       "      <td>3525</td>\n",
       "      <td>2472</td>\n",
       "      <td>29217</td>\n",
       "      <td>969</td>\n",
       "      <td>8928</td>\n",
       "      <td>3691</td>\n",
       "      <td>15211</td>\n",
       "      <td>5482</td>\n",
       "      <td>8977</td>\n",
       "      <td>3473</td>\n",
       "    </tr>\n",
       "  </tbody>\n",
       "</table>\n",
       "<p>5 rows × 2000 columns</p>\n",
       "</div>"
      ],
      "text/plain": [
       "         Gene1  Gene2  Gene3  Gene4  Gene5  Gene6  Gene7  Gene8  Gene9  \\\n",
       "Sample1   9706   7126  10350   5175  12208   4150   3281   7054   7117   \n",
       "Sample2  39508  28960  42201  21008  49160  17230  13320  28572  28582   \n",
       "Sample3  21334  15245  22384  11284  26287   9297   7239  15080  15266   \n",
       "Sample4  32436  23769  34398  17331  40203  14304  10859  23336  23306   \n",
       "Sample5  18997  13838  20100  10199  23418   8442   6369  13689  13753   \n",
       "\n",
       "         Gene10  ...  Gene1991  Gene1992  Gene1993  Gene1994  Gene1995  \\\n",
       "Sample1    7235  ...      1761      1210     15021       479      4678   \n",
       "Sample2   29179  ...      7158      5060     60305      1904     18640   \n",
       "Sample3   15668  ...      3897      2722     32658      1092     10160   \n",
       "Sample4   24309  ...      5872      4089     49910      1578     15573   \n",
       "Sample5   14431  ...      3525      2472     29217       969      8928   \n",
       "\n",
       "         Gene1996  Gene1997  Gene1998  Gene1999  Gene2000  \n",
       "Sample1      1810      7551      2806      4466      1682  \n",
       "Sample2      7720     31819     11500     18136      7052  \n",
       "Sample3      4150     16757      6165      9826      3817  \n",
       "Sample4      6447     25919      9489     15117      5805  \n",
       "Sample5      3691     15211      5482      8977      3473  \n",
       "\n",
       "[5 rows x 2000 columns]"
      ]
     },
     "execution_count": 4,
     "metadata": {},
     "output_type": "execute_result"
    }
   ],
   "source": [
    "# Load the raw counts\n",
    "counts = pd.read_csv(\"data/simulated_counts.csv\", index_col=0)\n",
    "# transpose the counts matrix (scikit-learn expects samples as rows)\n",
    "counts = counts.T\n",
    "counts.head()"
   ]
  },
  {
   "cell_type": "code",
   "execution_count": 5,
   "id": "9d7e6fb3",
   "metadata": {},
   "outputs": [],
   "source": [
    "# Split the matrix: first 10 samples for training, last 10 for test\n",
    "X_train = counts.iloc[:10,:]   # first 10 rows\n",
    "X_test  = counts.iloc[10:20,:] # next 10 rows"
   ]
  },
  {
   "cell_type": "code",
   "execution_count": null,
   "id": "50cc871e",
   "metadata": {},
   "outputs": [
    {
     "data": {
      "text/plain": [
       "array([0.51776128, 2.10103797, 1.12776855, 1.72755235, 1.01045239,\n",
       "       1.26421802, 0.61856166, 0.58020872, 1.73392221, 0.59357909])"
      ]
     },
     "execution_count": 6,
     "metadata": {},
     "output_type": "execute_result"
    }
   ],
   "source": [
    "# Instantiate your DESeq2 normaliser and ask it to keep pandas output\n",
    "deseq = DESeq2().set_output(transform=\"pandas\")\n",
    "# Fit only on the training samples and transform them\n",
    "X_train_norm = deseq.fit_transform(X_train)\n",
    "deseq.get_size_factors(X_train)\n",
    "# verify that the size factors are the same as in the original DESeq2 implementation"
   ]
  },
  {
   "cell_type": "code",
   "execution_count": 45,
   "id": "ba886f3c",
   "metadata": {},
   "outputs": [],
   "source": [
    "# load precomputed size factors\n",
    "expected_size_factors_train = pd.read_csv(\"data/size_factors_train.csv\", index_col=0)[\"SizeFactor\"]\n",
    "computed_size_factors_train = pd.Series(deseq.get_size_factors(X_train))\n",
    "\n",
    "# validate that the size factors are the same\n",
    "pd.testing.assert_series_equal(\n",
    "\texpected_size_factors_train,\n",
    "\tcomputed_size_factors_train,\n",
    "\tcheck_names=False,\n",
    "\tcheck_index=False\n",
    ")"
   ]
  },
  {
   "cell_type": "code",
   "execution_count": null,
   "id": "e5ef2c8f",
   "metadata": {},
   "outputs": [],
   "source": [
    "# check that counts normalisation matches the expected output\n",
    "expected_norm_counts_train = pd.read_csv(\"data/norm_counts_train.csv\", index_col=0)\n",
    "\n",
    "pd.testing.assert_frame_equal(\n",
    "\tX_train_norm,\n",
    "\texpected_norm_counts_train.T\n",
    ")"
   ]
  },
  {
   "cell_type": "code",
   "execution_count": 50,
   "id": "7c1851e9",
   "metadata": {},
   "outputs": [
    {
     "data": {
      "text/plain": [
       "array([1.06083179, 0.22047784, 1.84089125, 1.83176398, 2.07821925,\n",
       "       2.06181803, 1.38542057, 0.72570834, 1.46703069, 1.24041424])"
      ]
     },
     "execution_count": 50,
     "metadata": {},
     "output_type": "execute_result"
    }
   ],
   "source": [
    "# Transform (without re-fitting) the held-out test samples\n",
    "X_test_norm = deseq.transform(X_test)\n",
    "deseq.get_size_factors(X_test)\n",
    "# verifyed that the size factors are the same as in the original DESeq2 implementation"
   ]
  },
  {
   "cell_type": "code",
   "execution_count": 51,
   "id": "ac474c2f",
   "metadata": {},
   "outputs": [],
   "source": [
    "# load precomputed size factors\n",
    "expected_size_factors_test = pd.read_csv(\"data/size_factors_test.csv\", index_col=0)[\"SizeFactor\"]\n",
    "computed_size_factors_test = pd.Series(deseq.get_size_factors(X_test))\n",
    "\n",
    "# validate that the size factors are the same\n",
    "pd.testing.assert_series_equal(\n",
    "\texpected_size_factors_test,\n",
    "\tcomputed_size_factors_test,\n",
    "\tcheck_names=False,\n",
    "\tcheck_index=False\n",
    ")"
   ]
  },
  {
   "cell_type": "code",
   "execution_count": 52,
   "id": "d947dae1",
   "metadata": {},
   "outputs": [],
   "source": [
    "# check that counts normalisation matches the expected output\n",
    "expected_norm_counts_test = pd.read_csv(\"data/norm_counts_test.csv\", index_col=0)\n",
    "\n",
    "pd.testing.assert_frame_equal(\n",
    "\tX_test_norm,\n",
    "\texpected_norm_counts_test.T\n",
    ")"
   ]
  }
 ],
 "metadata": {
  "kernelspec": {
   "display_name": "numbless-project",
   "language": "python",
   "name": "python3"
  },
  "language_info": {
   "codemirror_mode": {
    "name": "ipython",
    "version": 3
   },
   "file_extension": ".py",
   "mimetype": "text/x-python",
   "name": "python",
   "nbconvert_exporter": "python",
   "pygments_lexer": "ipython3",
   "version": "3.12.11"
  }
 },
 "nbformat": 4,
 "nbformat_minor": 5
}
